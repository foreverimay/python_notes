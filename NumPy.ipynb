{
 "cells": [
  {
   "cell_type": "markdown",
   "metadata": {},
   "source": [
    "# NumPy "
   ]
  },
  {
   "cell_type": "code",
   "execution_count": 48,
   "metadata": {
    "ExecuteTime": {
     "end_time": "2019-08-26T16:57:07.540770Z",
     "start_time": "2019-08-26T16:57:07.535770Z"
    }
   },
   "outputs": [],
   "source": [
    "import numpy as np"
   ]
  },
  {
   "cell_type": "markdown",
   "metadata": {},
   "source": [
    "## 文件的输入输出"
   ]
  },
  {
   "cell_type": "code",
   "execution_count": 79,
   "metadata": {
    "ExecuteTime": {
     "end_time": "2019-08-26T17:27:53.863374Z",
     "start_time": "2019-08-26T17:27:53.847373Z"
    }
   },
   "outputs": [
    {
     "data": {
      "text/plain": [
       "array([ 0,  1,  2,  3,  4,  5,  6,  7,  8,  9, 10, 11, 12, 13, 14, 15, 16,\n",
       "       17, 18, 19])"
      ]
     },
     "execution_count": 79,
     "metadata": {},
     "output_type": "execute_result"
    }
   ],
   "source": [
    "# 文件的输入输出\n",
    "arr = np.arange(10)\n",
    "np.save('output/some_array', arr)\n",
    "np.load('output/some_array.npy')\n",
    "\n",
    "np.savez('output/array_archive.npz', a=arr, b=np.arange(20))\n",
    "arch = np.load('output/array_archive.npz')\n",
    "arch['b']"
   ]
  },
  {
   "cell_type": "markdown",
   "metadata": {},
   "source": [
    "## 生成array对象"
   ]
  },
  {
   "cell_type": "code",
   "execution_count": 1,
   "metadata": {
    "ExecuteTime": {
     "end_time": "2019-08-26T16:21:41.130149Z",
     "start_time": "2019-08-26T16:21:41.116148Z"
    }
   },
   "outputs": [
    {
     "data": {
      "text/plain": [
       "array([6. , 7.5, 8. , 0. , 1. ])"
      ]
     },
     "execution_count": 1,
     "metadata": {},
     "output_type": "execute_result"
    }
   ],
   "source": [
    "# list 转array\n",
    "data1 = [6, 7.5, 8, 0, 1]\n",
    "arr1 = np.array(data1)\n",
    "arr1"
   ]
  },
  {
   "cell_type": "code",
   "execution_count": 3,
   "metadata": {
    "ExecuteTime": {
     "end_time": "2019-08-26T16:22:31.708042Z",
     "start_time": "2019-08-26T16:22:31.697041Z"
    }
   },
   "outputs": [
    {
     "data": {
      "text/plain": [
       "dtype('int32')"
      ]
     },
     "execution_count": 3,
     "metadata": {},
     "output_type": "execute_result"
    }
   ],
   "source": [
    "# 设置数据类型\n",
    "data2 = [[1,2,3, 4], [5, 6, 7,8]]\n",
    "arr2 = np.array(data2, dtype=np.int32)\n",
    "arr2.dtype"
   ]
  },
  {
   "cell_type": "code",
   "execution_count": 5,
   "metadata": {
    "ExecuteTime": {
     "end_time": "2019-08-26T16:22:53.446285Z",
     "start_time": "2019-08-26T16:22:53.438285Z"
    }
   },
   "outputs": [
    {
     "name": "stdout",
     "output_type": "stream",
     "text": [
      "1 (5,) float64\n"
     ]
    }
   ],
   "source": [
    "# 基本属性\n",
    "print(arr1.ndim,arr1.shape,arr1.dtype)"
   ]
  },
  {
   "cell_type": "code",
   "execution_count": 7,
   "metadata": {
    "ExecuteTime": {
     "end_time": "2019-08-26T16:25:48.305287Z",
     "start_time": "2019-08-26T16:25:48.296286Z"
    }
   },
   "outputs": [
    {
     "data": {
      "text/plain": [
       "array([ 0,  1,  2,  3,  4,  5,  6,  7,  8,  9, 10, 11, 12, 13, 14])"
      ]
     },
     "execution_count": 7,
     "metadata": {},
     "output_type": "execute_result"
    }
   ],
   "source": [
    "# 生成连续的range值\n",
    "np.arange(15)"
   ]
  },
  {
   "cell_type": "code",
   "execution_count": 8,
   "metadata": {
    "ExecuteTime": {
     "end_time": "2019-08-26T16:26:47.647681Z",
     "start_time": "2019-08-26T16:26:47.639680Z"
    }
   },
   "outputs": [
    {
     "data": {
      "text/plain": [
       "array([1, 2])"
      ]
     },
     "execution_count": 8,
     "metadata": {},
     "output_type": "execute_result"
    }
   ],
   "source": [
    "# 将输入转为array\n",
    "np.asarray([1,2])"
   ]
  },
  {
   "cell_type": "code",
   "execution_count": 18,
   "metadata": {
    "ExecuteTime": {
     "end_time": "2019-08-26T16:32:18.596609Z",
     "start_time": "2019-08-26T16:32:18.585609Z"
    }
   },
   "outputs": [
    {
     "name": "stdout",
     "output_type": "stream",
     "text": [
      "[[1 2 3]\n",
      " [4 5 6]\n",
      " [7 8 9]]\n"
     ]
    },
    {
     "data": {
      "text/plain": [
       "3"
      ]
     },
     "execution_count": 18,
     "metadata": {},
     "output_type": "execute_result"
    }
   ],
   "source": [
    "# 生成二维的array\n",
    "arr2d = np.array([[1,2,3],[4,5,6], [7,8,9]])\n",
    "print(arr2d)\n",
    "arr2d[0,2]"
   ]
  },
  {
   "cell_type": "markdown",
   "metadata": {},
   "source": [
    "## reshape:数组重塑"
   ]
  },
  {
   "cell_type": "code",
   "execution_count": 53,
   "metadata": {
    "ExecuteTime": {
     "end_time": "2019-08-26T17:01:32.452923Z",
     "start_time": "2019-08-26T17:01:32.440922Z"
    }
   },
   "outputs": [
    {
     "data": {
      "text/plain": [
       "array([[ 0,  1,  2,  3],\n",
       "       [ 4,  5,  6,  7],\n",
       "       [ 8,  9, 10, 11],\n",
       "       [12, 13, 14, 15],\n",
       "       [16, 17, 18, 19],\n",
       "       [20, 21, 22, 23],\n",
       "       [24, 25, 26, 27],\n",
       "       [28, 29, 30, 31]])"
      ]
     },
     "execution_count": 53,
     "metadata": {},
     "output_type": "execute_result"
    }
   ],
   "source": [
    "# 改变arr 的形状\n",
    "arr = np.arange(32).reshape((8,4))\n",
    "arr"
   ]
  },
  {
   "cell_type": "code",
   "execution_count": 54,
   "metadata": {
    "ExecuteTime": {
     "end_time": "2019-08-26T17:01:35.258083Z",
     "start_time": "2019-08-26T17:01:35.245082Z"
    }
   },
   "outputs": [
    {
     "data": {
      "text/plain": [
       "array([[ 0,  1,  2],\n",
       "       [ 3,  4,  5],\n",
       "       [ 6,  7,  8],\n",
       "       [ 9, 10, 11]])"
      ]
     },
     "execution_count": 54,
     "metadata": {},
     "output_type": "execute_result"
    }
   ],
   "source": [
    "#－1表示维度大小由数据本身推断\n",
    "arr = np.arange(12)\n",
    "arr.reshape((3,4)).reshape((6,2))\n",
    "arr.reshape((4,-1))"
   ]
  },
  {
   "cell_type": "markdown",
   "metadata": {},
   "source": [
    "## ravel:数组展开"
   ]
  },
  {
   "cell_type": "code",
   "execution_count": 57,
   "metadata": {
    "ExecuteTime": {
     "end_time": "2019-08-26T17:03:39.413184Z",
     "start_time": "2019-08-26T17:03:39.397183Z"
    }
   },
   "outputs": [
    {
     "name": "stdout",
     "output_type": "stream",
     "text": [
      "[[ 0  1  2]\n",
      " [ 3  4  5]\n",
      " [ 6  7  8]\n",
      " [ 9 10 11]\n",
      " [12 13 14]]\n"
     ]
    },
    {
     "data": {
      "text/plain": [
       "array([ 0,  1,  2,  3,  4,  5,  6,  7,  8,  9, 10, 11, 12, 13, 14])"
      ]
     },
     "execution_count": 57,
     "metadata": {},
     "output_type": "execute_result"
    }
   ],
   "source": [
    "# 相反操作：扁平化和散开\n",
    "arr = np.arange(15).reshape((5,3))\n",
    "print(arr)\n",
    "arr.ravel()"
   ]
  },
  {
   "cell_type": "code",
   "execution_count": 59,
   "metadata": {
    "ExecuteTime": {
     "end_time": "2019-08-26T17:03:59.275320Z",
     "start_time": "2019-08-26T17:03:59.262320Z"
    }
   },
   "outputs": [
    {
     "name": "stdout",
     "output_type": "stream",
     "text": [
      "[[ 0  1  2  3]\n",
      " [ 4  5  6  7]\n",
      " [ 8  9 10 11]]\n"
     ]
    },
    {
     "data": {
      "text/plain": [
       "array([ 0,  4,  8,  1,  5,  9,  2,  6, 10,  3,  7, 11])"
      ]
     },
     "execution_count": 59,
     "metadata": {},
     "output_type": "execute_result"
    }
   ],
   "source": [
    "#列优先\n",
    "arr = np.arange(12).reshape((3,4))\n",
    "print(arr)\n",
    "arr.ravel('F')"
   ]
  },
  {
   "cell_type": "markdown",
   "metadata": {},
   "source": [
    "## concatenate&split:数组合并与拆分"
   ]
  },
  {
   "cell_type": "code",
   "execution_count": 61,
   "metadata": {
    "ExecuteTime": {
     "end_time": "2019-08-26T17:06:44.742784Z",
     "start_time": "2019-08-26T17:06:44.728784Z"
    }
   },
   "outputs": [
    {
     "data": {
      "text/plain": [
       "array([[ 1,  2,  3],\n",
       "       [ 4,  5,  6],\n",
       "       [ 7,  8,  9],\n",
       "       [10, 11, 12]])"
      ]
     },
     "execution_count": 61,
     "metadata": {},
     "output_type": "execute_result"
    }
   ],
   "source": [
    "#数组的合并\n",
    "arr1 = np.array([[1,2,3], [4,5,6]])\n",
    "arr2 = np.array([[7,8,9], [10,11,12]])\n",
    "np.concatenate([arr1, arr2], axis=0)"
   ]
  },
  {
   "cell_type": "code",
   "execution_count": 68,
   "metadata": {
    "ExecuteTime": {
     "end_time": "2019-08-26T17:10:54.675080Z",
     "start_time": "2019-08-26T17:10:54.651078Z"
    }
   },
   "outputs": [
    {
     "name": "stdout",
     "output_type": "stream",
     "text": [
      "[[ 1.10855471e-03 -2.89544069e-01]\n",
      " [-1.11606630e+00 -1.28827567e-02]\n",
      " [-3.78361464e-01 -4.81135363e-01]\n",
      " [-1.51733118e+00 -4.90871981e-01]\n",
      " [-2.40680579e-01 -6.47947460e-01]] \n",
      " ##########\n",
      "[[ 0.00110855 -0.28954407]] \n",
      " ##########\n",
      "[[-1.1160663  -0.01288276]\n",
      " [-0.37836146 -0.48113536]] \n",
      " ##########\n",
      "[[-1.51733118 -0.49087198]\n",
      " [-0.24068058 -0.64794746]] \n",
      " ##########\n"
     ]
    }
   ],
   "source": [
    "# 数组的拆分\n",
    "# split(ary, indices_or_sections, axis=0) \n",
    "# 把一个数组从左到右按顺序切分 \n",
    "# 参数： \n",
    "# ary:要切分的数组 \n",
    "# indices_or_sections:如果是一个整数，就用该数平均切分，如果是一个数组，为沿轴切分的位置 \n",
    "# axis：沿着哪个维度进行切向，默认为0，横向切分\n",
    "\n",
    "np.random.seed(9)\n",
    "arr = np.random.randn(5,2)\n",
    "print(arr,'\\n ##########')\n",
    "f,s,t = np.split(arr, [1,3])\n",
    "print(f,'\\n ##########')\n",
    "print(s,'\\n ##########')\n",
    "print(t,'\\n ##########')"
   ]
  },
  {
   "cell_type": "markdown",
   "metadata": {},
   "source": [
    "## repeat&tile:元素的重复扩展"
   ]
  },
  {
   "cell_type": "code",
   "execution_count": 77,
   "metadata": {
    "ExecuteTime": {
     "end_time": "2019-08-26T17:23:02.508709Z",
     "start_time": "2019-08-26T17:23:02.496709Z"
    }
   },
   "outputs": [
    {
     "name": "stdout",
     "output_type": "stream",
     "text": [
      "[0 0 0 1 1 1 2 2 2]\n",
      "[0 0 1 1 1 2 2 2 2]\n"
     ]
    }
   ],
   "source": [
    "# repeat 以行/列为单位进行指定倍数扩展\n",
    "arr = np.arange(3)\n",
    "print(arr.repeat(3))\n",
    "print(arr.repeat([2,3,4]))"
   ]
  },
  {
   "cell_type": "code",
   "execution_count": 76,
   "metadata": {
    "ExecuteTime": {
     "end_time": "2019-08-26T17:21:44.959274Z",
     "start_time": "2019-08-26T17:21:44.937273Z"
    }
   },
   "outputs": [
    {
     "name": "stdout",
     "output_type": "stream",
     "text": [
      "[[ 0.2438351  -0.74731818]\n",
      " [-1.56117699 -0.46425312]] \n",
      " ##########\n",
      "[[ 0.2438351  -0.74731818]\n",
      " [ 0.2438351  -0.74731818]\n",
      " [-1.56117699 -0.46425312]\n",
      " [-1.56117699 -0.46425312]] \n",
      " ##########\n",
      "[[ 0.2438351  -0.74731818]\n",
      " [ 0.2438351  -0.74731818]\n",
      " [-1.56117699 -0.46425312]\n",
      " [-1.56117699 -0.46425312]\n",
      " [-1.56117699 -0.46425312]] \n",
      " ##########\n",
      "[[ 0.2438351   0.2438351  -0.74731818 -0.74731818 -0.74731818]\n",
      " [-1.56117699 -1.56117699 -0.46425312 -0.46425312 -0.46425312]] \n",
      " ##########\n"
     ]
    }
   ],
   "source": [
    "# 二维array的扩展\n",
    "np.random.seed(34)\n",
    "arr = np.random.randn(2,2)\n",
    "print(arr,'\\n ##########')\n",
    "print(arr.repeat(2, axis=0),'\\n ##########')\n",
    "print(arr.repeat([2,3], axis=0),'\\n ##########')\n",
    "print(arr.repeat([2,3], axis=1),'\\n ##########')"
   ]
  },
  {
   "cell_type": "code",
   "execution_count": 78,
   "metadata": {
    "ExecuteTime": {
     "end_time": "2019-08-26T17:25:07.640867Z",
     "start_time": "2019-08-26T17:25:07.632866Z"
    }
   },
   "outputs": [
    {
     "name": "stdout",
     "output_type": "stream",
     "text": [
      "[0 1 2] \n",
      " ##########\n",
      "[0 1 2 0 1 2] \n",
      " ##########\n",
      "[[0 1 2]\n",
      " [0 1 2]] \n",
      " ##########\n",
      "[[0 1 2 0 1 2]\n",
      " [0 1 2 0 1 2]\n",
      " [0 1 2 0 1 2]] \n",
      " ##########\n"
     ]
    }
   ],
   "source": [
    "# tile 以array整体为单位进行指定倍数扩展\n",
    "print(arr,'\\n ##########')\n",
    "print(np.tile(arr,2),'\\n ##########')\n",
    "print(np.tile(arr,(2,1)),'\\n ##########')\n",
    "print(np.tile(arr,(3,2)),'\\n ##########')"
   ]
  },
  {
   "cell_type": "markdown",
   "metadata": {},
   "source": [
    "## 生成特定矩阵"
   ]
  },
  {
   "cell_type": "code",
   "execution_count": 9,
   "metadata": {
    "ExecuteTime": {
     "end_time": "2019-08-26T16:27:24.505789Z",
     "start_time": "2019-08-26T16:27:24.494788Z"
    }
   },
   "outputs": [
    {
     "data": {
      "text/plain": [
       "array([[1., 0., 0., 0.],\n",
       "       [0., 1., 0., 0.],\n",
       "       [0., 0., 1., 0.],\n",
       "       [0., 0., 0., 1.]])"
      ]
     },
     "execution_count": 9,
     "metadata": {},
     "output_type": "execute_result"
    }
   ],
   "source": [
    "# 生成全是1的矩阵\n",
    "np.ones_like([[1,2], [3,4]])\n",
    "\n",
    "# 生成单位矩阵\n",
    "np.identity(4)"
   ]
  },
  {
   "cell_type": "markdown",
   "metadata": {},
   "source": [
    "## astype:改变数据类型"
   ]
  },
  {
   "cell_type": "code",
   "execution_count": 10,
   "metadata": {
    "ExecuteTime": {
     "end_time": "2019-08-26T16:29:17.372244Z",
     "start_time": "2019-08-26T16:29:17.364243Z"
    }
   },
   "outputs": [
    {
     "data": {
      "text/plain": [
       "array([  2, 534])"
      ]
     },
     "execution_count": 10,
     "metadata": {},
     "output_type": "execute_result"
    }
   ],
   "source": [
    "arr3 = np.array(['2', ' 534'], dtype=np.string_)\n",
    "arr3.astype(np.int32)"
   ]
  },
  {
   "cell_type": "code",
   "execution_count": 11,
   "metadata": {
    "ExecuteTime": {
     "end_time": "2019-08-26T16:29:19.220350Z",
     "start_time": "2019-08-26T16:29:19.211349Z"
    }
   },
   "outputs": [
    {
     "data": {
      "text/plain": [
       "array([[1., 2., 3., 4.],\n",
       "       [5., 6., 7., 8.]])"
      ]
     },
     "execution_count": 11,
     "metadata": {},
     "output_type": "execute_result"
    }
   ],
   "source": [
    "arr2.astype(np.float64)"
   ]
  },
  {
   "cell_type": "code",
   "execution_count": 12,
   "metadata": {
    "ExecuteTime": {
     "end_time": "2019-08-26T16:29:23.007566Z",
     "start_time": "2019-08-26T16:29:22.999566Z"
    }
   },
   "outputs": [
    {
     "data": {
      "text/plain": [
       "array([6, 7, 8, 0, 1])"
      ]
     },
     "execution_count": 12,
     "metadata": {},
     "output_type": "execute_result"
    }
   ],
   "source": [
    "arr1.astype(arr2.dtype)"
   ]
  },
  {
   "cell_type": "markdown",
   "metadata": {},
   "source": [
    "## array之间的运算"
   ]
  },
  {
   "cell_type": "code",
   "execution_count": 13,
   "metadata": {
    "ExecuteTime": {
     "end_time": "2019-08-26T16:29:46.967937Z",
     "start_time": "2019-08-26T16:29:46.958936Z"
    }
   },
   "outputs": [
    {
     "data": {
      "text/plain": [
       "array([[ 1,  4,  9, 16],\n",
       "       [25, 36, 49, 64]])"
      ]
     },
     "execution_count": 13,
     "metadata": {},
     "output_type": "execute_result"
    }
   ],
   "source": [
    "arr2 * arr2"
   ]
  },
  {
   "cell_type": "code",
   "execution_count": 14,
   "metadata": {
    "ExecuteTime": {
     "end_time": "2019-08-26T16:29:57.428535Z",
     "start_time": "2019-08-26T16:29:57.420535Z"
    }
   },
   "outputs": [
    {
     "data": {
      "text/plain": [
       "array([[ 2,  4,  6,  8],\n",
       "       [10, 12, 14, 16]])"
      ]
     },
     "execution_count": 14,
     "metadata": {},
     "output_type": "execute_result"
    }
   ],
   "source": [
    "arr2*2"
   ]
  },
  {
   "cell_type": "markdown",
   "metadata": {},
   "source": [
    "## 切片与索引"
   ]
  },
  {
   "cell_type": "code",
   "execution_count": 24,
   "metadata": {
    "ExecuteTime": {
     "end_time": "2019-08-26T16:38:09.748692Z",
     "start_time": "2019-08-26T16:38:09.739692Z"
    }
   },
   "outputs": [],
   "source": [
    "import numpy as np\n",
    "from numpy.random import randn"
   ]
  },
  {
   "cell_type": "code",
   "execution_count": 37,
   "metadata": {
    "ExecuteTime": {
     "end_time": "2019-08-26T16:46:25.792064Z",
     "start_time": "2019-08-26T16:46:25.774063Z"
    }
   },
   "outputs": [
    {
     "data": {
      "text/plain": [
       "array([[-1.21907528,  1.2705255 , -0.54212363,  0.80974703],\n",
       "       [-1.76553628, -1.80329136, -0.90210562, -0.74221657],\n",
       "       [ 2.28587489,  0.30085764, -0.95233408, -1.54211855],\n",
       "       [ 0.79052931, -1.37344705,  1.51744052, -0.18722192],\n",
       "       [-0.25895972,  0.30646545, -0.03690562, -0.88666348]])"
      ]
     },
     "execution_count": 37,
     "metadata": {},
     "output_type": "execute_result"
    }
   ],
   "source": [
    "names = np.array(['Bob', 'Joe', 'Will', 'Bob', 'Will', 'Joe', 'Joe'])\n",
    "data = np.random.randn(7,4)\n",
    "data[(names == 'Bob') | (names == 'Joe')]"
   ]
  },
  {
   "cell_type": "code",
   "execution_count": 18,
   "metadata": {},
   "outputs": [
    {
     "data": {
      "text/plain": [
       "array([[ 4,  7,  5,  6],\n",
       "       [20, 23, 21, 22],\n",
       "       [28, 31, 29, 30],\n",
       "       [ 8, 11,  9, 10]])"
      ]
     },
     "execution_count": 18,
     "metadata": {},
     "output_type": "execute_result"
    }
   ],
   "source": [
    "#利用整数数组进行索引\n",
    "arr[np.ix_([1,5,7,2],[0,3,1,2])]"
   ]
  },
  {
   "cell_type": "code",
   "execution_count": 23,
   "metadata": {
    "ExecuteTime": {
     "end_time": "2019-08-26T16:36:36.357351Z",
     "start_time": "2019-08-26T16:36:36.343350Z"
    }
   },
   "outputs": [
    {
     "name": "stdout",
     "output_type": "stream",
     "text": [
      "[ 0.62653967  8.36582088 -4.735825    1.11698705  3.08388594 -3.18673245\n",
      " -0.17518684]\n"
     ]
    },
    {
     "data": {
      "text/plain": [
       "(array([ 0.62653967,  0.36582088, -0.735825  ,  0.11698705,  0.08388594,\n",
       "        -0.18673245, -0.17518684]), array([ 0.,  8., -4.,  1.,  3., -3., -0.]))"
      ]
     },
     "execution_count": 23,
     "metadata": {},
     "output_type": "execute_result"
    }
   ],
   "source": [
    "# 将数组各元素的小数和整数部分以两个独立数组形式返回\n",
    "arr = randn(7)*5\n",
    "print(arr)\n",
    "np.modf(arr)"
   ]
  },
  {
   "cell_type": "code",
   "execution_count": 70,
   "metadata": {
    "ExecuteTime": {
     "end_time": "2019-08-26T17:16:36.661640Z",
     "start_time": "2019-08-26T17:16:36.653640Z"
    }
   },
   "outputs": [
    {
     "name": "stdout",
     "output_type": "stream",
     "text": [
      "True False\n"
     ]
    }
   ],
   "source": [
    "# bool索引\n",
    "bools = np.array([1,0,1,0,0])\n",
    "print(bools.any(), bools.all())"
   ]
  },
  {
   "cell_type": "code",
   "execution_count": 26,
   "metadata": {
    "ExecuteTime": {
     "end_time": "2019-08-26T16:38:49.164947Z",
     "start_time": "2019-08-26T16:38:49.156946Z"
    }
   },
   "outputs": [
    {
     "data": {
      "text/plain": [
       "array([ True,  True,  True])"
      ]
     },
     "execution_count": 26,
     "metadata": {},
     "output_type": "execute_result"
    }
   ],
   "source": [
    "# array比较\n",
    "np.array([1,2,3])<np.array([4,5,6])"
   ]
  },
  {
   "cell_type": "markdown",
   "metadata": {},
   "source": [
    "## np.where:筛选"
   ]
  },
  {
   "cell_type": "code",
   "execution_count": 29,
   "metadata": {
    "ExecuteTime": {
     "end_time": "2019-08-26T16:42:20.488034Z",
     "start_time": "2019-08-26T16:42:20.452032Z"
    }
   },
   "outputs": [
    {
     "name": "stdout",
     "output_type": "stream",
     "text": [
      "[1.1 1.2 1.3 1.4 1.5]\n",
      "[2.1 2.2 2.3 2.4 2.5]\n",
      "[1.1 2.2 1.3 1.4 2.5]\n",
      "(array([2, 3, 4], dtype=int64),)\n"
     ]
    }
   ],
   "source": [
    "# 满足条件(condition)，输出x，不满足输出y\n",
    "xarr = np.array([i/10.0 for i in range(11,16)])\n",
    "yarr = np.array([i/10.0 for i in range(21,26)])\n",
    "cond = np.array([1, 0, 1, 1, 0])\n",
    "result = np.where(cond, xarr, yarr)\n",
    "print(xarr)\n",
    "print(yarr)\n",
    "print(result)\n",
    "\n",
    "# np.where(condition)只有条件 (condition)，没有x和y，则输出满足条件 (即非0) 元素的坐标\n",
    "a = np.array([2,4,6,8,10])\n",
    "print(np.where(a > 5))"
   ]
  },
  {
   "cell_type": "code",
   "execution_count": 31,
   "metadata": {
    "ExecuteTime": {
     "end_time": "2019-08-26T16:43:24.029668Z",
     "start_time": "2019-08-26T16:43:24.018668Z"
    }
   },
   "outputs": [
    {
     "data": {
      "text/plain": [
       "array([[ 1.18029014,  0.71319241,  2.01895214,  1.37924678],\n",
       "       [ 0.12525128, -1.81354103,  0.38562474, -0.16819841],\n",
       "       [ 1.47071074, -0.26982163, -1.11628426,  0.35210247],\n",
       "       [ 0.48588561, -1.32807385, -1.33038652,  0.5009419 ]])"
      ]
     },
     "execution_count": 31,
     "metadata": {},
     "output_type": "execute_result"
    }
   ],
   "source": [
    "arr = randn(4,4)\n",
    "arr"
   ]
  },
  {
   "cell_type": "code",
   "execution_count": 33,
   "metadata": {
    "ExecuteTime": {
     "end_time": "2019-08-26T16:43:42.142704Z",
     "start_time": "2019-08-26T16:43:42.133704Z"
    }
   },
   "outputs": [
    {
     "data": {
      "text/plain": [
       "array([[ 2.        ,  2.        ,  2.        ,  2.        ],\n",
       "       [ 2.        , -1.81354103,  2.        , -0.16819841],\n",
       "       [ 2.        , -0.26982163, -1.11628426,  2.        ],\n",
       "       [ 2.        , -1.32807385, -1.33038652,  2.        ]])"
      ]
     },
     "execution_count": 33,
     "metadata": {},
     "output_type": "execute_result"
    }
   ],
   "source": [
    "# 赋固定数字\n",
    "np.where(arr>0, 2, arr)"
   ]
  },
  {
   "cell_type": "code",
   "execution_count": 30,
   "metadata": {
    "ExecuteTime": {
     "end_time": "2019-08-26T16:42:57.850171Z",
     "start_time": "2019-08-26T16:42:57.836170Z"
    }
   },
   "outputs": [
    {
     "data": {
      "text/plain": [
       "array([1, 3, 0])"
      ]
     },
     "execution_count": 30,
     "metadata": {},
     "output_type": "execute_result"
    }
   ],
   "source": [
    "# 可以嵌套使用\n",
    "cond1 = np.array([1, 0, 1])\n",
    "cond2 = np.array([0, 0,1])\n",
    "np.where(cond1 & cond2, 0, np.where(cond1, 1, np.where(cond2, 2,3)))"
   ]
  },
  {
   "cell_type": "markdown",
   "metadata": {},
   "source": [
    "## array的各种统计"
   ]
  },
  {
   "cell_type": "code",
   "execution_count": 35,
   "metadata": {
    "ExecuteTime": {
     "end_time": "2019-08-26T16:45:05.393466Z",
     "start_time": "2019-08-26T16:45:05.375465Z"
    }
   },
   "outputs": [
    {
     "name": "stdout",
     "output_type": "stream",
     "text": [
      "[1. 3.] [2. 2. 2. 2.] 1.0 3 1 0 [ 1  2  3  4  7 10 13 16] [ 1  1  1  1  3  9 27 81]\n",
      "57\n"
     ]
    }
   ],
   "source": [
    "# 给出array的各种统计值\n",
    "arr = np.array([[1,1,1,1], [3,3,3,3]])\n",
    "print(arr.mean(axis=1), np.mean(arr,axis=0), arr.var(), arr.max(), arr.min(), arr.argmin(), arr.cumsum(), arr.cumprod())\n",
    "print((randn(100)>0).sum())"
   ]
  },
  {
   "cell_type": "markdown",
   "metadata": {},
   "source": [
    "## sort排序"
   ]
  },
  {
   "cell_type": "code",
   "execution_count": 40,
   "metadata": {
    "ExecuteTime": {
     "end_time": "2019-08-26T16:48:25.174893Z",
     "start_time": "2019-08-26T16:48:25.164892Z"
    }
   },
   "outputs": [
    {
     "data": {
      "text/plain": [
       "array([[-0.09470479, -0.46708705,  0.3939774 ],\n",
       "       [-0.52239632, -0.2943496 , -0.50798053],\n",
       "       [ 0.15226808, -0.09832291, -0.92650488],\n",
       "       [-1.3404149 , -0.68069766,  1.15292967],\n",
       "       [ 0.94921177, -0.56955642,  0.09715116]])"
      ]
     },
     "execution_count": 40,
     "metadata": {},
     "output_type": "execute_result"
    }
   ],
   "source": [
    "# 排序\n",
    "arr = randn(5,3)\n",
    "arr"
   ]
  },
  {
   "cell_type": "code",
   "execution_count": 42,
   "metadata": {
    "ExecuteTime": {
     "end_time": "2019-08-26T16:48:51.321388Z",
     "start_time": "2019-08-26T16:48:51.309388Z"
    }
   },
   "outputs": [
    {
     "name": "stdout",
     "output_type": "stream",
     "text": [
      "[[-1.3404149  -0.68069766 -0.92650488]\n",
      " [-0.52239632 -0.56955642 -0.50798053]\n",
      " [-0.09470479 -0.46708705  0.09715116]\n",
      " [ 0.15226808 -0.2943496   0.3939774 ]\n",
      " [ 0.94921177 -0.09832291  1.15292967]]\n",
      "排序之后的结果是\n",
      " [[-0.09470479 -0.46708705  0.3939774 ]\n",
      " [-0.52239632 -0.2943496  -0.50798053]\n",
      " [ 0.15226808 -0.09832291 -0.92650488]\n",
      " [-1.3404149  -0.68069766  1.15292967]\n",
      " [ 0.94921177 -0.56955642  0.09715116]]\n"
     ]
    }
   ],
   "source": [
    "# axis：数组排序时的基准，axis=0 按列排列；axis=1 按行排列\n",
    "arr1 = np.sort(arr, axis=0)\n",
    "print(arr1)\n",
    "print('排序之后的结果是\\n',arr)"
   ]
  },
  {
   "cell_type": "code",
   "execution_count": 43,
   "metadata": {
    "ExecuteTime": {
     "end_time": "2019-08-26T16:50:54.315423Z",
     "start_time": "2019-08-26T16:50:54.305423Z"
    }
   },
   "outputs": [
    {
     "data": {
      "text/plain": [
       "array([[-1.3404149 , -0.68069766, -0.92650488],\n",
       "       [-0.52239632, -0.56955642, -0.50798053],\n",
       "       [-0.09470479, -0.46708705,  0.09715116],\n",
       "       [ 0.15226808, -0.2943496 ,  0.3939774 ],\n",
       "       [ 0.94921177, -0.09832291,  1.15292967]])"
      ]
     },
     "execution_count": 43,
     "metadata": {},
     "output_type": "execute_result"
    }
   ],
   "source": [
    "# sort除了可以看做np的函数，也可以看成array的属性之一\n",
    "arr.sort(axis=0)\n",
    "arr"
   ]
  },
  {
   "cell_type": "markdown",
   "metadata": {},
   "source": [
    "## numpy的交并补"
   ]
  },
  {
   "cell_type": "markdown",
   "metadata": {},
   "source": [
    "子集：[np.in1d](http://doc.codingdict.com/NumPy_v111/reference/generated/numpy.in1d.html)"
   ]
  },
  {
   "cell_type": "code",
   "execution_count": 45,
   "metadata": {
    "ExecuteTime": {
     "end_time": "2019-08-26T16:56:01.718006Z",
     "start_time": "2019-08-26T16:56:01.707005Z"
    }
   },
   "outputs": [
    {
     "data": {
      "text/plain": [
       "array([ True, False, False,  True,  True, False,  True])"
      ]
     },
     "execution_count": 45,
     "metadata": {},
     "output_type": "execute_result"
    }
   ],
   "source": [
    "values = np.array([6,0,0,3,2,5,6])\n",
    "np.in1d(values, [2,3,6])"
   ]
  },
  {
   "cell_type": "code",
   "execution_count": 46,
   "metadata": {
    "ExecuteTime": {
     "end_time": "2019-08-26T16:56:03.663117Z",
     "start_time": "2019-08-26T16:56:03.654116Z"
    }
   },
   "outputs": [
    {
     "data": {
      "text/plain": [
       "array([2, 3, 6])"
      ]
     },
     "execution_count": 46,
     "metadata": {},
     "output_type": "execute_result"
    }
   ],
   "source": [
    "# 交集\n",
    "np.intersect1d(values, [2,3,6])"
   ]
  },
  {
   "cell_type": "markdown",
   "metadata": {},
   "source": [
    "## 生成各种概率分布"
   ]
  },
  {
   "cell_type": "code",
   "execution_count": 49,
   "metadata": {
    "ExecuteTime": {
     "end_time": "2019-08-26T16:57:45.495941Z",
     "start_time": "2019-08-26T16:57:45.482941Z"
    }
   },
   "outputs": [
    {
     "data": {
      "text/plain": [
       "array([[ 0.72839955, -0.17624434,  0.52071077,  0.66522577],\n",
       "       [ 0.90677079, -0.84590989, -0.76505035, -1.16936409],\n",
       "       [-0.67207943, -0.90062313, -0.95062222, -0.12348399],\n",
       "       [ 1.52615952,  1.40666646,  1.61997447,  0.01507119]])"
      ]
     },
     "execution_count": 49,
     "metadata": {},
     "output_type": "execute_result"
    }
   ],
   "source": [
    "samples = np.random.normal(size=(4,4))\n",
    "samples"
   ]
  },
  {
   "cell_type": "code",
   "execution_count": 50,
   "metadata": {
    "ExecuteTime": {
     "end_time": "2019-08-26T16:59:30.937972Z",
     "start_time": "2019-08-26T16:59:30.896970Z"
    }
   },
   "outputs": [
    {
     "name": "stdout",
     "output_type": "stream",
     "text": [
      "[0.5488135  0.71518937 0.60276338 0.54488318]\n",
      "[0.5488135  0.71518937 0.60276338]\n",
      "[8 6 4 0 2 5 9 1 7 3]\n",
      "[ 3  4 12]\n",
      "[[0 1]\n",
      " [0 1]]\n",
      "[[ 2.54520078  1.08081191  0.48431215  0.57914048]\n",
      " [-0.18158257  1.41020463 -0.37447169  0.27519832]\n",
      " [-0.96075461  0.37692697  0.03343893  0.68056724]]\n",
      "[[0 0 0]\n",
      " [0 0 0]]\n",
      "[[ 1.46274045  1.53502913  0.56644004  0.14926509]\n",
      " [-1.078278    1.39547227  1.78748405 -0.56951726]\n",
      " [ 0.17538653 -0.46250554 -1.0858006   0.63973599]]\n",
      "[[0.4677088  0.46166706]\n",
      " [0.62560303 0.38300476]]\n"
     ]
    }
   ],
   "source": [
    "import random\n",
    "np.random.seed(0)\n",
    "print(np.random.rand(4))\n",
    "np.random.seed(0)\n",
    "print(np.random.rand(3))\n",
    "print(np.random.permutation(np.arange(10)))\n",
    "arr = np.array([12,3,4])\n",
    "np.random.shuffle(arr)\n",
    "print(arr)\n",
    "print(np.random.randint(0,2, size=[2,2]))\n",
    "print(np.random.randn(3,4))\n",
    "print(np.random.binomial(0.4,0.6, size=[2,3]))\n",
    "print(np.random.normal(size=(3,4)))\n",
    "print(np.random.beta(3,4, size=[2,2]))"
   ]
  }
 ],
 "metadata": {
  "hide_input": false,
  "kernelspec": {
   "display_name": "Python 3",
   "language": "python",
   "name": "python3"
  },
  "language_info": {
   "codemirror_mode": {
    "name": "ipython",
    "version": 3
   },
   "file_extension": ".py",
   "mimetype": "text/x-python",
   "name": "python",
   "nbconvert_exporter": "python",
   "pygments_lexer": "ipython3",
   "version": "3.7.3"
  },
  "toc": {
   "base_numbering": 1,
   "nav_menu": {},
   "number_sections": true,
   "sideBar": true,
   "skip_h1_title": false,
   "title_cell": "Table of Contents",
   "title_sidebar": "Contents",
   "toc_cell": false,
   "toc_position": {
    "height": "calc(100% - 180px)",
    "left": "10px",
    "top": "150px",
    "width": "273.188px"
   },
   "toc_section_display": true,
   "toc_window_display": true
  },
  "varInspector": {
   "cols": {
    "lenName": 16,
    "lenType": 16,
    "lenVar": 40
   },
   "kernels_config": {
    "python": {
     "delete_cmd_postfix": "",
     "delete_cmd_prefix": "del ",
     "library": "var_list.py",
     "varRefreshCmd": "print(var_dic_list())"
    },
    "r": {
     "delete_cmd_postfix": ") ",
     "delete_cmd_prefix": "rm(",
     "library": "var_list.r",
     "varRefreshCmd": "cat(var_dic_list()) "
    }
   },
   "types_to_exclude": [
    "module",
    "function",
    "builtin_function_or_method",
    "instance",
    "_Feature"
   ],
   "window_display": false
  }
 },
 "nbformat": 4,
 "nbformat_minor": 2
}

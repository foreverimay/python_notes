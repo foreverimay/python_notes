{
 "cells": [
  {
   "cell_type": "markdown",
   "metadata": {},
   "source": [
    "# Scipy简介"
   ]
  },
  {
   "cell_type": "markdown",
   "metadata": {},
   "source": [
    "**`Ipython`** 提供了一个很好的解释器界面。\n",
    "\n",
    "**`Matplotlib`** 提供了一个类似 **`Matlab`** 的画图工具。\n",
    "\n",
    "**`Numpy`** 提供了 `ndarray` 对象，可以进行快速的向量化计算。\n",
    "\n",
    "**`Scipy`** 是 **`Python`** 中进行科学计算的一个第三方库，以 **`Numpy`** 为基础。\n",
    "\n",
    "**`Pandas`** 是处理时间序列数据的第三方库，提供一个类似 **`R`** 语言的环境。\n",
    "\n",
    "**`StatsModels`** 是一个统计库，着重于统计模型。\n",
    "\n",
    "**`Scikits`** 以 **`Scipy`** 为基础，提供如 **`scikits-learn` 机器学习**和**`scikits-image` 图像处理**等高级用法。"
   ]
  },
  {
   "cell_type": "markdown",
   "metadata": {},
   "source": [
    "**`Scipy`** 由不同科学计算领域的子模块组成：\n",
    "\n",
    "子模块|描述\n",
    "----|----\n",
    "`cluster`|  聚类算法\n",
    "`constants`| 物理数学常数\n",
    "`fftpack`| 快速傅里叶变换\n",
    "`integrate`| 积分和常微分方程求解\n",
    "`interpolate`| 插值\n",
    "`io`| 输入输出\n",
    "`linalg`| 线性代数\n",
    "`odr`| 正交距离回归\n",
    "`optimize`| 优化和求根\n",
    "`signal`| 信号处理\n",
    "`sparse`| 稀疏矩阵\n",
    "`spatial`| 空间数据结构和算法\n",
    "`special`| 特殊方程\n",
    "`stats`| 统计分布和函数\n",
    "`weave`| C/C++ 积分\n",
    "\n",
    "在使用 **`Scipy`** 之前，为了方便，假定这些基础的模块已经被导入："
   ]
  },
  {
   "cell_type": "code",
   "execution_count": 1,
   "metadata": {
    "ExecuteTime": {
     "end_time": "2019-11-23T06:06:25.761393Z",
     "start_time": "2019-11-23T06:06:24.885175Z"
    }
   },
   "outputs": [],
   "source": [
    "import numpy as np\n",
    "import scipy as sp\n",
    "import matplotlib as mpl\n",
    "import matplotlib.pyplot as plt"
   ]
  },
  {
   "cell_type": "markdown",
   "metadata": {},
   "source": [
    "使用 **Scipy** 中的子模块时，需要分别导入："
   ]
  },
  {
   "cell_type": "code",
   "execution_count": 2,
   "metadata": {
    "ExecuteTime": {
     "end_time": "2019-11-23T06:06:49.601065Z",
     "start_time": "2019-11-23T06:06:49.137324Z"
    }
   },
   "outputs": [],
   "source": [
    "from  scipy import linalg, optimize"
   ]
  },
  {
   "cell_type": "markdown",
   "metadata": {},
   "source": [
    "对于一些常用的函数，这些在子模块中的函数可以在 `scipy` 命名空间中调用。另一方面，由于 **`Scipy`** 以 **`Numpy`** 为基础，因此很多基础的 **`Numpy`** 函数可以在`scipy` 命名空间中直接调用。\n",
    "\n",
    "我们可以使用 `numpy` 中的 `info` 函数来查看函数的文档："
   ]
  },
  {
   "cell_type": "code",
   "execution_count": 3,
   "metadata": {
    "ExecuteTime": {
     "end_time": "2019-11-23T06:07:13.969428Z",
     "start_time": "2019-11-23T06:07:13.963701Z"
    }
   },
   "outputs": [],
   "source": [
    "# np.info(optimize.fmin)"
   ]
  },
  {
   "cell_type": "markdown",
   "metadata": {},
   "source": [
    "可以用 `lookfor` 来查询特定关键词相关的函数："
   ]
  },
  {
   "cell_type": "code",
   "execution_count": 4,
   "metadata": {
    "ExecuteTime": {
     "end_time": "2019-11-23T06:07:48.820788Z",
     "start_time": "2019-11-23T06:07:48.812829Z"
    }
   },
   "outputs": [],
   "source": [
    "# np.lookfor(\"resize array\")"
   ]
  },
  {
   "cell_type": "markdown",
   "metadata": {},
   "source": [
    "还可以指定查找的模块："
   ]
  },
  {
   "cell_type": "code",
   "execution_count": 5,
   "metadata": {
    "ExecuteTime": {
     "end_time": "2019-11-23T06:07:56.173988Z",
     "start_time": "2019-11-23T06:07:56.149848Z"
    }
   },
   "outputs": [
    {
     "name": "stdout",
     "output_type": "stream",
     "text": [
      "Search results for 'remove path'\n",
      "--------------------------------\n",
      "os.removedirs\n",
      "    removedirs(name)\n",
      "os.walk\n",
      "    Directory tree generator.\n"
     ]
    }
   ],
   "source": [
    "np.lookfor(\"remove path\", module=\"os\")"
   ]
  },
  {
   "cell_type": "code",
   "execution_count": 6,
   "metadata": {
    "ExecuteTime": {
     "end_time": "2019-11-23T06:08:08.710900Z",
     "start_time": "2019-11-23T06:08:08.703581Z"
    }
   },
   "outputs": [],
   "source": [
    "# np.lookfor('groupby',module='pandas')"
   ]
  },
  {
   "cell_type": "markdown",
   "metadata": {},
   "source": [
    "# 概率统计方法"
   ]
  },
  {
   "cell_type": "markdown",
   "metadata": {},
   "source": [
    "## 简介"
   ]
  },
  {
   "cell_type": "code",
   "execution_count": 31,
   "metadata": {
    "ExecuteTime": {
     "end_time": "2019-11-23T06:17:01.101549Z",
     "start_time": "2019-11-23T06:17:01.093359Z"
    }
   },
   "outputs": [],
   "source": [
    "np.set_printoptions(precision=4)"
   ]
  },
  {
   "cell_type": "markdown",
   "metadata": {},
   "source": [
    "**`Python`** 中常用的统计工具有 **`Numpy, Pandas, PyMC, StatsModels`** 等。\n",
    "\n",
    "**`Scipy`** 中的子库 `scipy.stats` 中包含很多统计上的方法。"
   ]
  },
  {
   "cell_type": "code",
   "execution_count": 32,
   "metadata": {
    "ExecuteTime": {
     "end_time": "2019-11-23T06:17:01.953591Z",
     "start_time": "2019-11-23T06:17:01.945279Z"
    }
   },
   "outputs": [],
   "source": [
    "heights = array([1.46, 1.79, 2.01, 1.75, 1.56, 1.69, 1.88, 1.76, 1.88, 1.78])"
   ]
  },
  {
   "cell_type": "markdown",
   "metadata": {},
   "source": [
    "`Numpy` 自带简单的统计方法："
   ]
  },
  {
   "cell_type": "code",
   "execution_count": 33,
   "metadata": {
    "ExecuteTime": {
     "end_time": "2019-11-23T06:17:02.952490Z",
     "start_time": "2019-11-23T06:17:02.940209Z"
    }
   },
   "outputs": [
    {
     "name": "stdout",
     "output_type": "stream",
     "text": [
      "mean,  1.7559999999999998\n",
      "min,  1.46\n",
      "max,  2.01\n",
      "standard deviation,  0.15081114017207078\n"
     ]
    }
   ],
   "source": [
    "print ('mean, ', heights.mean())\n",
    "print( 'min, ', heights.min())\n",
    "print ('max, ', heights.max())\n",
    "print ('standard deviation, ', heights.std())"
   ]
  },
  {
   "cell_type": "markdown",
   "metadata": {},
   "source": [
    "导入 **`Scipy`** 的统计模块："
   ]
  },
  {
   "cell_type": "code",
   "execution_count": 34,
   "metadata": {
    "ExecuteTime": {
     "end_time": "2019-11-23T06:17:18.898098Z",
     "start_time": "2019-11-23T06:17:17.621620Z"
    }
   },
   "outputs": [],
   "source": [
    "import scipy.stats.stats as st"
   ]
  },
  {
   "cell_type": "markdown",
   "metadata": {},
   "source": [
    "其他统计量："
   ]
  },
  {
   "cell_type": "code",
   "execution_count": 37,
   "metadata": {
    "ExecuteTime": {
     "end_time": "2019-11-23T06:18:45.449814Z",
     "start_time": "2019-11-23T06:18:45.437068Z"
    }
   },
   "outputs": [
    {
     "name": "stdout",
     "output_type": "stream",
     "text": [
      "mode,  ModeResult(mode=array([1.88]), count=array([2]))\n",
      "skewness,  -0.3935244564726347\n",
      "kurtosis,  -0.33067209772439865\n",
      "and so many more...\n"
     ]
    }
   ],
   "source": [
    "print ('mode, ', st.mode(heights) )          # 众数及其出现次数\n",
    "print ('skewness, ', st.skew(heights) )      # 偏度\n",
    "print ('kurtosis, ', st.kurtosis(heights) )  # 峰度\n",
    "print ('and so many more...')"
   ]
  },
  {
   "cell_type": "markdown",
   "metadata": {},
   "source": [
    "## 概率分布"
   ]
  },
  {
   "cell_type": "markdown",
   "metadata": {},
   "source": [
    "常见的连续概率分布有：\n",
    "\n",
    "- 均匀分布\n",
    "- 正态分布\n",
    "- `t`分布\n",
    "- `F`分布\n",
    "- `Gamma`分布\n",
    "- ...\n",
    "\n",
    "离散概率分布：\n",
    "\n",
    "- 伯努利分布\n",
    "- 几何分布\n",
    "- ...\n",
    "\n",
    "这些都可以在 `scipy.stats` 中找到。"
   ]
  },
  {
   "cell_type": "markdown",
   "metadata": {},
   "source": [
    "## 连续分布"
   ]
  },
  {
   "cell_type": "markdown",
   "metadata": {},
   "source": [
    "### 正态分布"
   ]
  },
  {
   "cell_type": "markdown",
   "metadata": {},
   "source": [
    "以正态分布为例，先导入正态分布："
   ]
  },
  {
   "cell_type": "code",
   "execution_count": 38,
   "metadata": {
    "ExecuteTime": {
     "end_time": "2019-11-23T06:20:06.270770Z",
     "start_time": "2019-11-23T06:20:06.259656Z"
    }
   },
   "outputs": [],
   "source": [
    "from scipy.stats import norm"
   ]
  },
  {
   "cell_type": "markdown",
   "metadata": {},
   "source": [
    "它包含四类常用的函数：\n",
    "\n",
    "- `norm.cdf` 返回对应的累计分布函数;\n",
    "- `norm.pdf` 返回对应的概率密度函数值;\n",
    "- `norm.rvs` 产生指定参数的随机变量;\n",
    "- `norm.fit` 返回给定数据下，各参数的最大似然估计（MLE）值\n",
    "\n",
    "从正态分布产生500个随机点："
   ]
  },
  {
   "cell_type": "code",
   "execution_count": 40,
   "metadata": {
    "ExecuteTime": {
     "end_time": "2019-11-23T06:22:09.022254Z",
     "start_time": "2019-11-23T06:22:09.012693Z"
    }
   },
   "outputs": [
    {
     "data": {
      "text/plain": [
       "numpy.ndarray"
      ]
     },
     "execution_count": 40,
     "metadata": {},
     "output_type": "execute_result"
    }
   ],
   "source": [
    "x_norm = norm.rvs(size=500)\n",
    "type(x_norm)"
   ]
  },
  {
   "cell_type": "markdown",
   "metadata": {},
   "source": [
    "直方图："
   ]
  },
  {
   "cell_type": "code",
   "execution_count": 41,
   "metadata": {
    "ExecuteTime": {
     "end_time": "2019-11-23T06:22:28.432303Z",
     "start_time": "2019-11-23T06:22:28.070658Z"
    },
    "scrolled": true
   },
   "outputs": [
    {
     "name": "stdout",
     "output_type": "stream",
     "text": [
      "counts,  [  6.  26.  59.  84. 107. 103.  69.  35.   9.   2.]\n",
      "bin centers [-2.763  -2.1855 -1.608  -1.0306 -0.4531  0.1244  0.7019  1.2794  1.8569\n",
      "  2.4344  3.0119]\n"
     ]
    },
    {
     "data": {
      "image/png": "[encoded data removed]",
      "text/plain": [
       "<Figure size 432x288 with 1 Axes>"
      ]
     },
     "metadata": {
      "needs_background": "light"
     },
     "output_type": "display_data"
    }
   ],
   "source": [
    "h = hist(x_norm)\n",
    "print ('counts, ', h[0])\n",
    "print ('bin centers', h[1])"
   ]
  },
  {
   "cell_type": "markdown",
   "metadata": {},
   "source": [
    "归一化直方图（用出现频率代替次数），将划分区间变为 `20`（默认 `10`）："
   ]
  },
  {
   "cell_type": "code",
   "execution_count": 44,
   "metadata": {
    "ExecuteTime": {
     "end_time": "2019-11-23T06:23:35.374827Z",
     "start_time": "2019-11-23T06:23:34.946098Z"
    }
   },
   "outputs": [
    {
     "data": {
      "image/png": "[encoded data removed]",
      "text/plain": [
       "<Figure size 432x288 with 1 Axes>"
      ]
     },
     "metadata": {
      "needs_background": "light"
     },
     "output_type": "display_data"
    }
   ],
   "source": [
    "h = hist(x_norm, density=True, bins=20)"
   ]
  },
  {
   "cell_type": "markdown",
   "metadata": {},
   "source": [
    "在这组数据下，正态分布参数的最大似然估计值为："
   ]
  },
  {
   "cell_type": "code",
   "execution_count": 45,
   "metadata": {
    "ExecuteTime": {
     "end_time": "2019-11-23T06:27:40.973496Z",
     "start_time": "2019-11-23T06:27:40.960854Z"
    }
   },
   "outputs": [
    {
     "name": "stdout",
     "output_type": "stream",
     "text": [
      "mean,  -0.06668261405243779\n",
      "x_std,  0.9978989147070589\n"
     ]
    }
   ],
   "source": [
    "x_mean, x_std = norm.fit(x_norm)\n",
    "\n",
    "print ('mean, ', x_mean)\n",
    "print ('x_std, ', x_std)"
   ]
  },
  {
   "cell_type": "markdown",
   "metadata": {},
   "source": [
    "将真实的概率密度函数与直方图进行比较："
   ]
  },
  {
   "cell_type": "code",
   "execution_count": 49,
   "metadata": {
    "ExecuteTime": {
     "end_time": "2019-11-23T06:28:45.192665Z",
     "start_time": "2019-11-23T06:28:44.712995Z"
    }
   },
   "outputs": [
    {
     "data": {
      "image/png": "[encoded data removed]",
      "text/plain": [
       "<Figure size 432x288 with 1 Axes>"
      ]
     },
     "metadata": {
      "needs_background": "light"
     },
     "output_type": "display_data"
    }
   ],
   "source": [
    "h = hist(x_norm, density=True, bins=20)\n",
    "\n",
    "x = linspace(-3,3,50)\n",
    "p = plot(x, norm.pdf(x), 'r-')"
   ]
  },
  {
   "cell_type": "markdown",
   "metadata": {},
   "source": [
    "导入积分函数："
   ]
  },
  {
   "cell_type": "code",
   "execution_count": 50,
   "metadata": {
    "ExecuteTime": {
     "end_time": "2019-11-23T06:28:52.319740Z",
     "start_time": "2019-11-23T06:28:52.312036Z"
    }
   },
   "outputs": [],
   "source": [
    "from scipy.integrate import trapz "
   ]
  },
  {
   "cell_type": "markdown",
   "metadata": {},
   "source": [
    "通过积分，计算落在某个区间的概率大小："
   ]
  },
  {
   "cell_type": "code",
   "execution_count": 52,
   "metadata": {
    "ExecuteTime": {
     "end_time": "2019-11-23T06:30:01.432498Z",
     "start_time": "2019-11-23T06:30:01.093610Z"
    }
   },
   "outputs": [
    {
     "name": "stdout",
     "output_type": "stream",
     "text": [
      "95.45% of the values lie between -2 and 2\n"
     ]
    },
    {
     "data": {
      "text/plain": [
       "[<matplotlib.lines.Line2D at 0x2019593a710>]"
      ]
     },
     "execution_count": 52,
     "metadata": {},
     "output_type": "execute_result"
    },
    {
     "data": {
      "image/png": "[encoded data removed]",
      "text/plain": [
       "<Figure size 432x288 with 1 Axes>"
      ]
     },
     "metadata": {
      "needs_background": "light"
     },
     "output_type": "display_data"
    }
   ],
   "source": [
    "x1 = linspace(-2,2,108)\n",
    "p = trapz(norm.pdf(x1), x1) \n",
    "print ('{:.2%} of the values lie between -2 and 2'.format(p))\n",
    "\n",
    "fill_between(x1, norm.pdf(x1), color = 'red')\n",
    "plot(x, norm.pdf(x), 'k-')"
   ]
  },
  {
   "cell_type": "markdown",
   "metadata": {},
   "source": [
    "默认情况，正态分布的参数为均值0，标准差1，即标准正态分布。"
   ]
  },
  {
   "cell_type": "markdown",
   "metadata": {},
   "source": [
    "可以通过 `loc` 和 `scale` 来调整这些参数，一种方法是调用相关函数时进行输入："
   ]
  },
  {
   "cell_type": "code",
   "execution_count": 53,
   "metadata": {
    "ExecuteTime": {
     "end_time": "2019-11-23T06:31:56.603784Z",
     "start_time": "2019-11-23T06:31:56.241259Z"
    }
   },
   "outputs": [
    {
     "data": {
      "image/png": "[encoded data removed]",
      "text/plain": [
       "<Figure size 432x288 with 1 Axes>"
      ]
     },
     "metadata": {
      "needs_background": "light"
     },
     "output_type": "display_data"
    }
   ],
   "source": [
    "p = plot(x, norm.pdf(x, loc=0, scale=1))\n",
    "p = plot(x, norm.pdf(x, loc=0.5, scale=2))\n",
    "p = plot(x, norm.pdf(x, loc=-0.5, scale=.5))"
   ]
  },
  {
   "cell_type": "markdown",
   "metadata": {},
   "source": [
    "另一种则是将 `loc, scale` 作为参数直接输给 `norm` 生成相应的分布："
   ]
  },
  {
   "cell_type": "code",
   "execution_count": 54,
   "metadata": {
    "ExecuteTime": {
     "end_time": "2019-11-23T06:32:29.112195Z",
     "start_time": "2019-11-23T06:32:28.754915Z"
    }
   },
   "outputs": [
    {
     "data": {
      "image/png": "[encoded data removed]",
      "text/plain": [
       "<Figure size 432x288 with 1 Axes>"
      ]
     },
     "metadata": {
      "needs_background": "light"
     },
     "output_type": "display_data"
    }
   ],
   "source": [
    "p = plot(x, norm(loc=0, scale=1).pdf(x))\n",
    "p = plot(x, norm(loc=0.5, scale=2).pdf(x))\n",
    "p = plot(x, norm(loc=-0.5, scale=.5).pdf(x))"
   ]
  },
  {
   "cell_type": "markdown",
   "metadata": {},
   "source": [
    "### 其他连续分布"
   ]
  },
  {
   "cell_type": "code",
   "execution_count": 55,
   "metadata": {
    "ExecuteTime": {
     "end_time": "2019-11-23T06:32:32.269926Z",
     "start_time": "2019-11-23T06:32:32.265245Z"
    }
   },
   "outputs": [],
   "source": [
    "from scipy.stats import lognorm, t, dweibull"
   ]
  },
  {
   "cell_type": "markdown",
   "metadata": {},
   "source": [
    "支持与 `norm` 类似的操作，如概率密度函数等。"
   ]
  },
  {
   "cell_type": "markdown",
   "metadata": {},
   "source": [
    "不同参数的对数正态分布："
   ]
  },
  {
   "cell_type": "code",
   "execution_count": 56,
   "metadata": {
    "ExecuteTime": {
     "end_time": "2019-11-23T06:32:50.104968Z",
     "start_time": "2019-11-23T06:32:49.661834Z"
    }
   },
   "outputs": [
    {
     "data": {
      "text/plain": [
       "<matplotlib.legend.Legend at 0x20195b776a0>"
      ]
     },
     "execution_count": 56,
     "metadata": {},
     "output_type": "execute_result"
    },
    {
     "data": {
      "image/png": "[encoded data removed]",
      "text/plain": [
       "<Figure size 432x288 with 1 Axes>"
      ]
     },
     "metadata": {
      "needs_background": "light"
     },
     "output_type": "display_data"
    }
   ],
   "source": [
    "x = linspace(0.01, 3, 100)\n",
    "\n",
    "plot(x, lognorm.pdf(x, 1), label='s=1')\n",
    "plot(x, lognorm.pdf(x, 2), label='s=2')\n",
    "plot(x, lognorm.pdf(x, .1), label='s=0.1')\n",
    "\n",
    "legend()"
   ]
  },
  {
   "cell_type": "markdown",
   "metadata": {},
   "source": [
    "不同的韦氏分布："
   ]
  },
  {
   "cell_type": "code",
   "execution_count": 57,
   "metadata": {
    "ExecuteTime": {
     "end_time": "2019-11-23T06:33:08.176153Z",
     "start_time": "2019-11-23T06:33:07.770302Z"
    }
   },
   "outputs": [
    {
     "data": {
      "text/plain": [
       "<matplotlib.legend.Legend at 0x20195bfb5c0>"
      ]
     },
     "execution_count": 57,
     "metadata": {},
     "output_type": "execute_result"
    },
    {
     "data": {
      "image/png": "[encoded data removed]",
      "text/plain": [
       "<Figure size 432x288 with 1 Axes>"
      ]
     },
     "metadata": {
      "needs_background": "light"
     },
     "output_type": "display_data"
    }
   ],
   "source": [
    "x = linspace(0.01, 3, 100)\n",
    "\n",
    "plot(x, dweibull.pdf(x, 1), label='s=1, constant failure rate')\n",
    "plot(x, dweibull.pdf(x, 2), label='s>1, increasing failure rate')\n",
    "plot(x, dweibull.pdf(x, .1), label='0<s<1, decreasing failure rate')\n",
    "\n",
    "legend()"
   ]
  },
  {
   "cell_type": "markdown",
   "metadata": {},
   "source": [
    "不同自由度的 `t` 分布："
   ]
  },
  {
   "cell_type": "code",
   "execution_count": 58,
   "metadata": {
    "ExecuteTime": {
     "end_time": "2019-11-23T06:34:08.315252Z",
     "start_time": "2019-11-23T06:34:07.877961Z"
    }
   },
   "outputs": [
    {
     "data": {
      "text/plain": [
       "<matplotlib.legend.Legend at 0x20195c75588>"
      ]
     },
     "execution_count": 58,
     "metadata": {},
     "output_type": "execute_result"
    },
    {
     "data": {
      "image/png": "[encoded data removed]",
      "text/plain": [
       "<Figure size 432x288 with 1 Axes>"
      ]
     },
     "metadata": {
      "needs_background": "light"
     },
     "output_type": "display_data"
    }
   ],
   "source": [
    "x = linspace(-3, 3, 100)\n",
    "\n",
    "plot(x, t.pdf(x, 1), label='df=1')\n",
    "plot(x, t.pdf(x, 2), label='df=2')\n",
    "plot(x, t.pdf(x, 100), label='df=100')\n",
    "plot(x[::5], norm.pdf(x[::5]), 'kx', label='normal')\n",
    "\n",
    "legend()"
   ]
  },
  {
   "cell_type": "markdown",
   "metadata": {},
   "source": [
    "## 离散分布"
   ]
  },
  {
   "cell_type": "markdown",
   "metadata": {},
   "source": [
    "导入离散分布："
   ]
  },
  {
   "cell_type": "code",
   "execution_count": 59,
   "metadata": {
    "ExecuteTime": {
     "end_time": "2019-11-23T06:34:31.448342Z",
     "start_time": "2019-11-23T06:34:31.441226Z"
    }
   },
   "outputs": [],
   "source": [
    "from scipy.stats import binom, poisson, randint"
   ]
  },
  {
   "cell_type": "markdown",
   "metadata": {},
   "source": [
    "离散分布没有概率密度函数，但是有概率质量函数。"
   ]
  },
  {
   "cell_type": "markdown",
   "metadata": {},
   "source": [
    "离散均匀分布的概率质量函数（PMF）："
   ]
  },
  {
   "cell_type": "code",
   "execution_count": 61,
   "metadata": {
    "ExecuteTime": {
     "end_time": "2019-11-23T06:35:40.489899Z",
     "start_time": "2019-11-23T06:35:40.218366Z"
    }
   },
   "outputs": [
    {
     "data": {
      "image/png": "[encoded data removed]",
      "text/plain": [
       "<Figure size 432x288 with 1 Axes>"
      ]
     },
     "metadata": {
      "needs_background": "light"
     },
     "output_type": "display_data"
    }
   ],
   "source": [
    "high = 10\n",
    "low = -10\n",
    "\n",
    "x = arange(low, high+1, 0.5)\n",
    "p = stem(x, randint(low, high).pmf(x),use_line_collection=True)  # 杆状图"
   ]
  },
  {
   "cell_type": "markdown",
   "metadata": {},
   "source": [
    "二项分布："
   ]
  },
  {
   "cell_type": "code",
   "execution_count": 62,
   "metadata": {
    "ExecuteTime": {
     "end_time": "2019-11-23T06:35:55.163402Z",
     "start_time": "2019-11-23T06:35:54.766196Z"
    }
   },
   "outputs": [
    {
     "data": {
      "text/plain": [
       "<matplotlib.legend.Legend at 0x20195de7550>"
      ]
     },
     "execution_count": 62,
     "metadata": {},
     "output_type": "execute_result"
    },
    {
     "data": {
      "image/png": "[encoded data removed]",
      "text/plain": [
       "<Figure size 432x288 with 1 Axes>"
      ]
     },
     "metadata": {
      "needs_background": "light"
     },
     "output_type": "display_data"
    }
   ],
   "source": [
    "num_trials = 60\n",
    "x = arange(num_trials)\n",
    "\n",
    "plot(x, binom(num_trials, 0.5).pmf(x), 'o-', label='p=0.5')\n",
    "plot(x, binom(num_trials, 0.2).pmf(x), 'o-', label='p=0.2')\n",
    "\n",
    "legend()"
   ]
  },
  {
   "cell_type": "markdown",
   "metadata": {},
   "source": [
    "泊松分布："
   ]
  },
  {
   "cell_type": "code",
   "execution_count": 63,
   "metadata": {
    "ExecuteTime": {
     "end_time": "2019-11-23T06:36:15.296140Z",
     "start_time": "2019-11-23T06:36:14.170089Z"
    }
   },
   "outputs": [
    {
     "data": {
      "text/plain": [
       "<matplotlib.legend.Legend at 0x20195e9f908>"
      ]
     },
     "execution_count": 63,
     "metadata": {},
     "output_type": "execute_result"
    },
    {
     "data": {
      "image/png": "[encoded data removed]",
      "text/plain": [
       "<Figure size 432x288 with 1 Axes>"
      ]
     },
     "metadata": {
      "needs_background": "light"
     },
     "output_type": "display_data"
    }
   ],
   "source": [
    "x = arange(0,21)\n",
    "\n",
    "plot(x, poisson(1).pmf(x), 'o-', label=r'$\\lambda$=1')\n",
    "plot(x, poisson(4).pmf(x), 'o-', label=r'$\\lambda$=4')\n",
    "plot(x, poisson(9).pmf(x), 'o-', label=r'$\\lambda$=9')\n",
    "\n",
    "legend()"
   ]
  },
  {
   "cell_type": "markdown",
   "metadata": {},
   "source": [
    "## 自定义离散分布"
   ]
  },
  {
   "cell_type": "markdown",
   "metadata": {},
   "source": [
    "导入要用的函数："
   ]
  },
  {
   "cell_type": "code",
   "execution_count": 64,
   "metadata": {
    "ExecuteTime": {
     "end_time": "2019-11-23T06:36:18.407023Z",
     "start_time": "2019-11-23T06:36:18.399086Z"
    }
   },
   "outputs": [],
   "source": [
    "from scipy.stats import rv_discrete"
   ]
  },
  {
   "cell_type": "markdown",
   "metadata": {},
   "source": [
    "一个不均匀的骰子对应的离散值及其概率："
   ]
  },
  {
   "cell_type": "code",
   "execution_count": 65,
   "metadata": {
    "ExecuteTime": {
     "end_time": "2019-11-23T06:36:20.553522Z",
     "start_time": "2019-11-23T06:36:20.546797Z"
    }
   },
   "outputs": [],
   "source": [
    "xk = [1, 2, 3, 4, 5, 6]\n",
    "pk = [.3, .35, .25, .05, .025, .025]"
   ]
  },
  {
   "cell_type": "markdown",
   "metadata": {},
   "source": [
    "定义离散分布："
   ]
  },
  {
   "cell_type": "code",
   "execution_count": 66,
   "metadata": {
    "ExecuteTime": {
     "end_time": "2019-11-23T06:36:23.106609Z",
     "start_time": "2019-11-23T06:36:23.095334Z"
    }
   },
   "outputs": [],
   "source": [
    "loaded = rv_discrete(values=(xk, pk))"
   ]
  },
  {
   "cell_type": "markdown",
   "metadata": {},
   "source": [
    "此时， `loaded` 可以当作一个离散分布的模块来使用。"
   ]
  },
  {
   "cell_type": "markdown",
   "metadata": {},
   "source": [
    "产生两个服从该分布的随机变量："
   ]
  },
  {
   "cell_type": "code",
   "execution_count": 67,
   "metadata": {
    "ExecuteTime": {
     "end_time": "2019-11-23T06:36:25.911143Z",
     "start_time": "2019-11-23T06:36:25.899450Z"
    }
   },
   "outputs": [
    {
     "data": {
      "text/plain": [
       "array([3, 1])"
      ]
     },
     "execution_count": 67,
     "metadata": {},
     "output_type": "execute_result"
    }
   ],
   "source": [
    "loaded.rvs(size=2)"
   ]
  },
  {
   "cell_type": "markdown",
   "metadata": {},
   "source": [
    "产生100个随机变量，将直方图与概率质量函数进行比较："
   ]
  },
  {
   "cell_type": "code",
   "execution_count": 70,
   "metadata": {
    "ExecuteTime": {
     "end_time": "2019-11-23T06:36:57.056904Z",
     "start_time": "2019-11-23T06:36:56.740331Z"
    }
   },
   "outputs": [
    {
     "data": {
      "text/plain": [
       "<StemContainer object of 3 artists>"
      ]
     },
     "execution_count": 70,
     "metadata": {},
     "output_type": "execute_result"
    },
    {
     "data": {
      "image/png": "[encoded data removed]",
      "text/plain": [
       "<Figure size 432x288 with 1 Axes>"
      ]
     },
     "metadata": {
      "needs_background": "light"
     },
     "output_type": "display_data"
    }
   ],
   "source": [
    "samples = loaded.rvs(size=100)\n",
    "bins = linspace(.5,6.5,7)\n",
    "\n",
    "hist(samples, bins=bins, density=True)\n",
    "stem(xk, loaded.pmf(xk), markerfmt='ro', linefmt='r-',use_line_collection=True)"
   ]
  },
  {
   "cell_type": "markdown",
   "metadata": {},
   "source": [
    "## 假设检验"
   ]
  },
  {
   "cell_type": "markdown",
   "metadata": {},
   "source": [
    "导入相关的函数：\n",
    "\n",
    "- 正态分布\n",
    "- 独立双样本 `t` 检验，配对样本 `t` 检验，单样本 `t` 检验\n",
    "- `t` 分布\n",
    "\n",
    "`t` 检验的相关内容请参考：\n",
    "- 百度百科-`t` 检验：http://baike.baidu.com/view/557340.htm\n",
    "- 维基百科-学生 `t` 检验：https://en.wikipedia.org/wiki/Student%27s_t-test"
   ]
  },
  {
   "cell_type": "code",
   "execution_count": 71,
   "metadata": {
    "ExecuteTime": {
     "end_time": "2019-11-23T06:37:16.017469Z",
     "start_time": "2019-11-23T06:37:16.009490Z"
    }
   },
   "outputs": [],
   "source": [
    "from scipy.stats import norm\n",
    "from scipy.stats import ttest_ind, ttest_rel, ttest_1samp\n",
    "from scipy.stats import t"
   ]
  },
  {
   "cell_type": "markdown",
   "metadata": {},
   "source": [
    "### 独立样本 t 检验"
   ]
  },
  {
   "cell_type": "markdown",
   "metadata": {},
   "source": [
    "两组参数不同的正态分布："
   ]
  },
  {
   "cell_type": "code",
   "execution_count": 72,
   "metadata": {
    "ExecuteTime": {
     "end_time": "2019-11-23T06:37:18.605654Z",
     "start_time": "2019-11-23T06:37:18.597684Z"
    }
   },
   "outputs": [],
   "source": [
    "n1 = norm(loc=0.3, scale=1.0)\n",
    "n2 = norm(loc=0, scale=1.0)"
   ]
  },
  {
   "cell_type": "markdown",
   "metadata": {},
   "source": [
    "从分布中产生两组随机样本："
   ]
  },
  {
   "cell_type": "code",
   "execution_count": 73,
   "metadata": {
    "ExecuteTime": {
     "end_time": "2019-11-23T06:37:19.641429Z",
     "start_time": "2019-11-23T06:37:19.633539Z"
    }
   },
   "outputs": [],
   "source": [
    "n1_samples = n1.rvs(size=100)\n",
    "n2_samples = n2.rvs(size=100)"
   ]
  },
  {
   "cell_type": "markdown",
   "metadata": {},
   "source": [
    "将两组样本混合在一起："
   ]
  },
  {
   "cell_type": "code",
   "execution_count": 74,
   "metadata": {
    "ExecuteTime": {
     "end_time": "2019-11-23T06:37:20.673010Z",
     "start_time": "2019-11-23T06:37:20.664499Z"
    }
   },
   "outputs": [],
   "source": [
    "samples = hstack((n1_samples, n2_samples)) "
   ]
  },
  {
   "cell_type": "markdown",
   "metadata": {},
   "source": [
    "最大似然参数估计："
   ]
  },
  {
   "cell_type": "code",
   "execution_count": 75,
   "metadata": {
    "ExecuteTime": {
     "end_time": "2019-11-23T06:37:21.749918Z",
     "start_time": "2019-11-23T06:37:21.737858Z"
    }
   },
   "outputs": [],
   "source": [
    "loc, scale = norm.fit(samples)\n",
    "n = norm(loc=loc, scale=scale)"
   ]
  },
  {
   "cell_type": "markdown",
   "metadata": {},
   "source": [
    "比较："
   ]
  },
  {
   "cell_type": "code",
   "execution_count": 77,
   "metadata": {
    "ExecuteTime": {
     "end_time": "2019-11-23T06:37:32.415518Z",
     "start_time": "2019-11-23T06:37:31.986092Z"
    }
   },
   "outputs": [
    {
     "data": {
      "text/plain": [
       "[<matplotlib.lines.Line2D at 0x20192226a58>]"
      ]
     },
     "execution_count": 77,
     "metadata": {},
     "output_type": "execute_result"
    },
    {
     "data": {
      "image/png": "[encoded data removed]",
      "text/plain": [
       "<Figure size 432x288 with 1 Axes>"
      ]
     },
     "metadata": {
      "needs_background": "light"
     },
     "output_type": "display_data"
    }
   ],
   "source": [
    "x = linspace(-3,3,100)\n",
    "\n",
    "hist([samples, n1_samples, n2_samples], density=True)\n",
    "plot(x, n.pdf(x), 'b-')\n",
    "plot(x, n1.pdf(x), 'g-')\n",
    "plot(x, n2.pdf(x), 'r-')"
   ]
  },
  {
   "cell_type": "markdown",
   "metadata": {},
   "source": [
    "独立双样本 `t` 检验的目的在于判断两组样本之间是否有显著差异："
   ]
  },
  {
   "cell_type": "code",
   "execution_count": 78,
   "metadata": {
    "ExecuteTime": {
     "end_time": "2019-11-23T06:37:42.501360Z",
     "start_time": "2019-11-23T06:37:42.489962Z"
    }
   },
   "outputs": [
    {
     "name": "stdout",
     "output_type": "stream",
     "text": [
      "t = 0.8447654649518327\n",
      "p-value = 0.3992613815984767\n"
     ]
    }
   ],
   "source": [
    "t_val, p = ttest_ind(n1_samples, n2_samples)\n",
    "\n",
    "print ('t = {}'.format(t_val))\n",
    "print ('p-value = {}'.format(p))"
   ]
  },
  {
   "cell_type": "markdown",
   "metadata": {
    "collapsed": true
   },
   "source": [
    "`p` 值小，说明这两个样本有显著性差异。"
   ]
  },
  {
   "cell_type": "markdown",
   "metadata": {},
   "source": [
    "### 配对样本 t 检验"
   ]
  },
  {
   "cell_type": "markdown",
   "metadata": {},
   "source": [
    "配对样本指的是两组样本之间的元素一一对应，例如，假设我们有一组病人的数据："
   ]
  },
  {
   "cell_type": "code",
   "execution_count": 79,
   "metadata": {
    "ExecuteTime": {
     "end_time": "2019-11-23T06:37:53.099015Z",
     "start_time": "2019-11-23T06:37:53.090959Z"
    }
   },
   "outputs": [],
   "source": [
    "pop_size = 35\n",
    "\n",
    "pre_treat = norm(loc=0, scale=1)\n",
    "n0 = pre_treat.rvs(size=pop_size)"
   ]
  },
  {
   "cell_type": "markdown",
   "metadata": {},
   "source": [
    "经过某种治疗后，对这组病人得到一组新的数据："
   ]
  },
  {
   "cell_type": "code",
   "execution_count": 80,
   "metadata": {
    "ExecuteTime": {
     "end_time": "2019-11-23T06:37:55.099419Z",
     "start_time": "2019-11-23T06:37:55.091258Z"
    }
   },
   "outputs": [],
   "source": [
    "effect = norm(loc=0.05, scale=0.2)\n",
    "eff = effect.rvs(size=pop_size)\n",
    "\n",
    "n1 = n0 + eff"
   ]
  },
  {
   "cell_type": "markdown",
   "metadata": {},
   "source": [
    "新数据的最大似然估计："
   ]
  },
  {
   "cell_type": "code",
   "execution_count": 81,
   "metadata": {
    "ExecuteTime": {
     "end_time": "2019-11-23T06:37:57.448868Z",
     "start_time": "2019-11-23T06:37:57.440839Z"
    }
   },
   "outputs": [],
   "source": [
    "loc, scale = norm.fit(n1)\n",
    "post_treat = norm(loc=loc, scale=scale)"
   ]
  },
  {
   "cell_type": "markdown",
   "metadata": {},
   "source": [
    "画图："
   ]
  },
  {
   "cell_type": "code",
   "execution_count": 83,
   "metadata": {
    "ExecuteTime": {
     "end_time": "2019-11-23T06:38:23.945239Z",
     "start_time": "2019-11-23T06:38:23.179999Z"
    }
   },
   "outputs": [
    {
     "data": {
      "image/png": "[encoded data removed]",
      "text/plain": [
       "<Figure size 720x288 with 2 Axes>"
      ]
     },
     "metadata": {
      "needs_background": "light"
     },
     "output_type": "display_data"
    }
   ],
   "source": [
    "fig = figure(figsize=(10,4))\n",
    "\n",
    "ax1 = fig.add_subplot(1,2,1)\n",
    "h = ax1.hist([n0, n1], density=True)\n",
    "p = ax1.plot(x, pre_treat.pdf(x), 'b-')\n",
    "p = ax1.plot(x, post_treat.pdf(x), 'g-')\n",
    "\n",
    "ax2 = fig.add_subplot(1,2,2)\n",
    "h = ax2.hist(eff, density=True)"
   ]
  },
  {
   "cell_type": "markdown",
   "metadata": {},
   "source": [
    "独立 `t` 检验："
   ]
  },
  {
   "cell_type": "code",
   "execution_count": 84,
   "metadata": {
    "ExecuteTime": {
     "end_time": "2019-11-23T06:38:34.740911Z",
     "start_time": "2019-11-23T06:38:34.729450Z"
    }
   },
   "outputs": [
    {
     "name": "stdout",
     "output_type": "stream",
     "text": [
      "t = -0.2142272222663313\n",
      "p-value = 0.8310109708126623\n"
     ]
    }
   ],
   "source": [
    "t_val, p = ttest_ind(n0, n1)\n",
    "\n",
    "print ('t = {}'.format(t_val))\n",
    "print( 'p-value = {}'.format(p))"
   ]
  },
  {
   "cell_type": "markdown",
   "metadata": {},
   "source": [
    "高 `p` 值说明两组样本之间没有显著性差异。\n",
    "\n",
    "配对 `t` 检验："
   ]
  },
  {
   "cell_type": "code",
   "execution_count": 85,
   "metadata": {
    "ExecuteTime": {
     "end_time": "2019-11-23T06:38:45.383370Z",
     "start_time": "2019-11-23T06:38:45.372085Z"
    }
   },
   "outputs": [
    {
     "name": "stdout",
     "output_type": "stream",
     "text": [
      "t = -1.5851327164225337\n",
      "p-value = 0.12219449897264542\n"
     ]
    }
   ],
   "source": [
    "t_val, p = ttest_rel(n0, n1)\n",
    "\n",
    "print ('t = {}'.format(t_val))\n",
    "print( 'p-value = {}'.format(p))"
   ]
  },
  {
   "cell_type": "markdown",
   "metadata": {},
   "source": [
    "配对 `t` 检验的结果说明，配对样本之间存在显著性差异，说明治疗有效，符合我们的预期。"
   ]
  },
  {
   "cell_type": "markdown",
   "metadata": {},
   "source": [
    "### `p` 值计算原理 "
   ]
  },
  {
   "cell_type": "markdown",
   "metadata": {},
   "source": [
    "`p` 值对应的部分是下图中的红色区域，边界范围由 `t` 值决定。 "
   ]
  },
  {
   "cell_type": "code",
   "execution_count": 86,
   "metadata": {
    "ExecuteTime": {
     "end_time": "2019-11-23T06:39:04.312426Z",
     "start_time": "2019-11-23T06:39:03.955801Z"
    }
   },
   "outputs": [
    {
     "data": {
      "image/png": "[encoded data removed]",
      "text/plain": [
       "<Figure size 432x288 with 1 Axes>"
      ]
     },
     "metadata": {
      "needs_background": "light"
     },
     "output_type": "display_data"
    }
   ],
   "source": [
    "my_t = t(pop_size) # 传入参数为自由度，这里自由度为50\n",
    "\n",
    "p = plot(x, my_t.pdf(x), 'b-')\n",
    "lower_x = x[x<= -abs(t_val)]\n",
    "upper_x = x[x>= abs(t_val)]\n",
    "\n",
    "p = fill_between(lower_x, my_t.pdf(lower_x), color='red')\n",
    "p = fill_between(upper_x, my_t.pdf(upper_x), color='red')"
   ]
  },
  {
   "cell_type": "markdown",
   "metadata": {},
   "source": [
    "# 曲线拟合"
   ]
  },
  {
   "cell_type": "markdown",
   "metadata": {},
   "source": [
    "导入基础包："
   ]
  },
  {
   "cell_type": "code",
   "execution_count": 87,
   "metadata": {
    "ExecuteTime": {
     "end_time": "2019-11-23T07:46:03.908597Z",
     "start_time": "2019-11-23T07:46:03.890338Z"
    }
   },
   "outputs": [],
   "source": [
    "import numpy as np\n",
    "import matplotlib as mpl\n",
    "import matplotlib.pyplot as plt"
   ]
  },
  {
   "cell_type": "markdown",
   "metadata": {},
   "source": [
    "## 多项式拟合"
   ]
  },
  {
   "cell_type": "markdown",
   "metadata": {},
   "source": [
    "导入线多项式拟合工具："
   ]
  },
  {
   "cell_type": "code",
   "execution_count": 88,
   "metadata": {
    "ExecuteTime": {
     "end_time": "2019-11-23T07:47:02.577220Z",
     "start_time": "2019-11-23T07:47:02.571046Z"
    }
   },
   "outputs": [],
   "source": [
    "from numpy import polyfit, poly1d"
   ]
  },
  {
   "cell_type": "markdown",
   "metadata": {},
   "source": [
    "产生数据："
   ]
  },
  {
   "cell_type": "code",
   "execution_count": 94,
   "metadata": {
    "ExecuteTime": {
     "end_time": "2019-11-23T07:48:40.653292Z",
     "start_time": "2019-11-23T07:48:40.641142Z"
    }
   },
   "outputs": [],
   "source": [
    "x=np.linspace(-5,5,100)\n",
    "y = 4*x+1.5\n",
    "noise_y = y + np.random.randn(y.shape[-1]) * 2.5"
   ]
  },
  {
   "cell_type": "code",
   "execution_count": 96,
   "metadata": {
    "ExecuteTime": {
     "end_time": "2019-11-23T07:48:45.012682Z",
     "start_time": "2019-11-23T07:48:45.005232Z"
    }
   },
   "outputs": [
    {
     "data": {
      "text/plain": [
       "100"
      ]
     },
     "execution_count": 96,
     "metadata": {},
     "output_type": "execute_result"
    }
   ],
   "source": [
    "y.shape[0]"
   ]
  },
  {
   "cell_type": "markdown",
   "metadata": {},
   "source": [
    "画出数据："
   ]
  },
  {
   "cell_type": "code",
   "execution_count": 97,
   "metadata": {
    "ExecuteTime": {
     "end_time": "2019-11-23T07:49:08.721962Z",
     "start_time": "2019-11-23T07:49:08.508039Z"
    }
   },
   "outputs": [
    {
     "data": {
      "image/png": "[encoded data removed]",
      "text/plain": [
       "<Figure size 432x288 with 1 Axes>"
      ]
     },
     "metadata": {
      "needs_background": "light"
     },
     "output_type": "display_data"
    }
   ],
   "source": [
    "%matplotlib inline\n",
    "\n",
    "p = plt.plot(x, noise_y, 'rx')\n",
    "p = plt.plot(x, y, 'b:')"
   ]
  },
  {
   "cell_type": "markdown",
   "metadata": {},
   "source": [
    "进行线性拟合，`polyfit` 是多项式拟合函数，线性拟合即一阶多项式："
   ]
  },
  {
   "cell_type": "code",
   "execution_count": 99,
   "metadata": {
    "ExecuteTime": {
     "end_time": "2019-11-23T07:51:52.664118Z",
     "start_time": "2019-11-23T07:51:52.636671Z"
    }
   },
   "outputs": [
    {
     "data": {
      "text/plain": [
       "array([4.1594, 1.6626])"
      ]
     },
     "execution_count": 99,
     "metadata": {},
     "output_type": "execute_result"
    }
   ],
   "source": [
    "coeff = polyfit(x,noise_y,1)\n",
    "coeff"
   ]
  },
  {
   "cell_type": "markdown",
   "metadata": {},
   "source": [
    "一阶多项式 $y = a_1 x + a_0$ 拟合，返回两个系数 $[a_1, a_0]$。\n",
    "\n",
    "画出拟合曲线："
   ]
  },
  {
   "cell_type": "code",
   "execution_count": 100,
   "metadata": {
    "ExecuteTime": {
     "end_time": "2019-11-23T07:52:56.051951Z",
     "start_time": "2019-11-23T07:52:55.769465Z"
    }
   },
   "outputs": [
    {
     "data": {
      "image/png": "[encoded data removed]",
      "text/plain": [
       "<Figure size 432x288 with 1 Axes>"
      ]
     },
     "metadata": {
      "needs_background": "light"
     },
     "output_type": "display_data"
    }
   ],
   "source": [
    "p = plt.plot(x, noise_y, 'rx')\n",
    "p = plt.plot(x, coeff[0] * x + coeff[1], 'k-')\n",
    "p = plt.plot(x, y, 'b--')"
   ]
  },
  {
   "cell_type": "markdown",
   "metadata": {},
   "source": [
    "还可以用 `poly1d` 生成一个以传入的 `coeff` 为参数的多项式函数："
   ]
  },
  {
   "cell_type": "code",
   "execution_count": 101,
   "metadata": {
    "ExecuteTime": {
     "end_time": "2019-11-23T07:53:33.738742Z",
     "start_time": "2019-11-23T07:53:33.500524Z"
    }
   },
   "outputs": [
    {
     "data": {
      "image/png": "[encoded data removed]",
      "text/plain": [
       "<Figure size 432x288 with 1 Axes>"
      ]
     },
     "metadata": {
      "needs_background": "light"
     },
     "output_type": "display_data"
    }
   ],
   "source": [
    "f = poly1d(coeff)\n",
    "p = plt.plot(x, noise_y, 'rx')\n",
    "p = plt.plot(x, f(x))"
   ]
  },
  {
   "cell_type": "code",
   "execution_count": 102,
   "metadata": {
    "ExecuteTime": {
     "end_time": "2019-11-23T07:53:46.001808Z",
     "start_time": "2019-11-23T07:53:45.993387Z"
    }
   },
   "outputs": [
    {
     "data": {
      "text/plain": [
       "poly1d([4.1594, 1.6626])"
      ]
     },
     "execution_count": 102,
     "metadata": {},
     "output_type": "execute_result"
    }
   ],
   "source": [
    "f"
   ]
  },
  {
   "cell_type": "markdown",
   "metadata": {
    "ExecuteTime": {
     "end_time": "2019-11-23T07:53:57.508566Z",
     "start_time": "2019-11-23T07:53:57.500465Z"
    }
   },
   "source": [
    "显示`f`："
   ]
  },
  {
   "cell_type": "code",
   "execution_count": 104,
   "metadata": {
    "ExecuteTime": {
     "end_time": "2019-11-23T07:54:04.923673Z",
     "start_time": "2019-11-23T07:54:04.914639Z"
    }
   },
   "outputs": [
    {
     "name": "stdout",
     "output_type": "stream",
     "text": [
      " \n",
      "4.159 x + 1.663\n"
     ]
    }
   ],
   "source": [
    "print(f)"
   ]
  },
  {
   "cell_type": "markdown",
   "metadata": {},
   "source": [
    "还可以对它进行数学操作生成新的多项式："
   ]
  },
  {
   "cell_type": "code",
   "execution_count": 105,
   "metadata": {
    "ExecuteTime": {
     "end_time": "2019-11-23T07:54:32.985118Z",
     "start_time": "2019-11-23T07:54:32.974727Z"
    }
   },
   "outputs": [
    {
     "name": "stdout",
     "output_type": "stream",
     "text": [
      "      2\n",
      "34.6 x + 31.82 x + 7.191\n"
     ]
    }
   ],
   "source": [
    "print (f + 2 * f ** 2)"
   ]
  },
  {
   "cell_type": "markdown",
   "metadata": {},
   "source": [
    "## 多项式拟合正弦函数"
   ]
  },
  {
   "cell_type": "markdown",
   "metadata": {},
   "source": [
    "正弦函数："
   ]
  },
  {
   "cell_type": "code",
   "execution_count": 106,
   "metadata": {
    "ExecuteTime": {
     "end_time": "2019-11-23T07:55:04.456200Z",
     "start_time": "2019-11-23T07:55:04.448454Z"
    }
   },
   "outputs": [],
   "source": [
    "x = np.linspace(-np.pi,np.pi,100)\n",
    "y = np.sin(x)"
   ]
  },
  {
   "cell_type": "markdown",
   "metadata": {},
   "source": [
    "用一阶到九阶多项式拟合，类似泰勒展开："
   ]
  },
  {
   "cell_type": "code",
   "execution_count": 107,
   "metadata": {
    "ExecuteTime": {
     "end_time": "2019-11-23T07:55:19.679384Z",
     "start_time": "2019-11-23T07:55:19.670815Z"
    }
   },
   "outputs": [],
   "source": [
    "y1 = poly1d(polyfit(x,y,1))\n",
    "y3 = poly1d(polyfit(x,y,3))\n",
    "y5 = poly1d(polyfit(x,y,5))\n",
    "y7 = poly1d(polyfit(x,y,7))\n",
    "y9 = poly1d(polyfit(x,y,9))"
   ]
  },
  {
   "cell_type": "code",
   "execution_count": 108,
   "metadata": {
    "ExecuteTime": {
     "end_time": "2019-11-23T07:55:27.638098Z",
     "start_time": "2019-11-23T07:55:27.296455Z"
    }
   },
   "outputs": [
    {
     "data": {
      "image/png": "[encoded data removed]",
      "text/plain": [
       "<Figure size 432x288 with 1 Axes>"
      ]
     },
     "metadata": {
      "needs_background": "light"
     },
     "output_type": "display_data"
    }
   ],
   "source": [
    "x = np.linspace(-3 * np.pi,3 * np.pi,100)\n",
    "\n",
    "p = plt.plot(x, np.sin(x), 'k')\n",
    "p = plt.plot(x, y1(x))\n",
    "p = plt.plot(x, y3(x))\n",
    "p = plt.plot(x, y5(x))\n",
    "p = plt.plot(x, y7(x))\n",
    "p = plt.plot(x, y9(x))\n",
    "\n",
    "a = plt.axis([-3 * np.pi, 3 * np.pi, -1.25, 1.25])"
   ]
  },
  {
   "cell_type": "markdown",
   "metadata": {},
   "source": [
    "黑色为原始的图形，可以看到，随着多项式拟合的阶数的增加，曲线与拟合数据的吻合程度在逐渐增大。"
   ]
  },
  {
   "cell_type": "markdown",
   "metadata": {},
   "source": [
    "## 最小二乘拟合"
   ]
  },
  {
   "cell_type": "code",
   "execution_count": 109,
   "metadata": {
    "ExecuteTime": {
     "end_time": "2019-11-23T07:56:05.987345Z",
     "start_time": "2019-11-23T07:56:05.979755Z"
    }
   },
   "outputs": [],
   "source": [
    "# 导入相关的模块：\n",
    "from scipy.linalg import lstsq\n",
    "from scipy.stats import linregress"
   ]
  },
  {
   "cell_type": "code",
   "execution_count": 110,
   "metadata": {
    "ExecuteTime": {
     "end_time": "2019-11-23T07:56:13.443183Z",
     "start_time": "2019-11-23T07:56:13.141965Z"
    }
   },
   "outputs": [
    {
     "data": {
      "text/plain": [
       "[<matplotlib.lines.Line2D at 0x201961f5128>]"
      ]
     },
     "execution_count": 110,
     "metadata": {},
     "output_type": "execute_result"
    },
    {
     "data": {
      "image/png": "[encoded data removed]",
      "text/plain": [
       "<Figure size 432x288 with 1 Axes>"
      ]
     },
     "metadata": {
      "needs_background": "light"
     },
     "output_type": "display_data"
    }
   ],
   "source": [
    "x = np.linspace(0,5,100)\n",
    "y = 0.5 * x + np.random.randn(x.shape[-1]) * 0.35\n",
    "\n",
    "plt.plot(x,y,'x')"
   ]
  },
  {
   "cell_type": "markdown",
   "metadata": {},
   "source": [
    "一般来书，当我们使用一个 N-1 阶的多项式拟合这 M 个点时，有这样的关系存在：\n",
    "\n",
    "$$XC = Y$$\n",
    "\n",
    "即\n",
    "\n",
    "$$\\left[ \\begin{matrix}\n",
    "x_0^{N-1} & \\dots & x_0 & 1 \\\\\\\n",
    "x_1^{N-1} & \\dots & x_1 & 1 \\\\\\\n",
    "\\dots & \\dots & \\dots & \\dots \\\\\\\n",
    "x_M^{N-1} & \\dots & x_M & 1\n",
    "\\end{matrix}\\right] \n",
    "\\left[ \\begin{matrix} C_{N-1} \\\\\\ \\dots \\\\\\ C_1 \\\\\\ C_0 \\end{matrix} \\right] =\n",
    "\\left[ \\begin{matrix} y_0 \\\\\\ y_1 \\\\\\ \\dots \\\\\\ y_M \\end{matrix} \\right]$$"
   ]
  },
  {
   "cell_type": "markdown",
   "metadata": {},
   "source": [
    "### Scipy.linalg.lstsq 最小二乘解"
   ]
  },
  {
   "cell_type": "markdown",
   "metadata": {},
   "source": [
    "要得到 `C` ，可以使用 `scipy.linalg.lstsq` 求最小二乘解。\n",
    "\n",
    "这里，我们使用 1 阶多项式即 `N = 2`，先将 `x` 扩展成 `X`："
   ]
  },
  {
   "cell_type": "code",
   "execution_count": 112,
   "metadata": {
    "ExecuteTime": {
     "end_time": "2019-11-23T07:59:39.701199Z",
     "start_time": "2019-11-23T07:59:39.689272Z"
    }
   },
   "outputs": [
    {
     "data": {
      "text/plain": [
       "array([[0.0505, 1.    ],\n",
       "       [0.101 , 1.    ],\n",
       "       [0.1515, 1.    ],\n",
       "       [0.202 , 1.    ]])"
      ]
     },
     "execution_count": 112,
     "metadata": {},
     "output_type": "execute_result"
    }
   ],
   "source": [
    "X = np.hstack((x[:,np.newaxis], np.ones((x.shape[-1],1))))\n",
    "X[1:5]"
   ]
  },
  {
   "cell_type": "markdown",
   "metadata": {},
   "source": [
    "求解:"
   ]
  },
  {
   "cell_type": "code",
   "execution_count": 113,
   "metadata": {
    "ExecuteTime": {
     "end_time": "2019-11-23T08:00:00.236377Z",
     "start_time": "2019-11-23T08:00:00.224428Z"
    }
   },
   "outputs": [
    {
     "data": {
      "text/plain": [
       "(array([ 0.5224, -0.0622]), 9.716478918290926, 2, array([30.2373,  4.8215]))"
      ]
     },
     "execution_count": 113,
     "metadata": {},
     "output_type": "execute_result"
    }
   ],
   "source": [
    "C, resid, rank, s = lstsq(X, y)\n",
    "C, resid, rank, s"
   ]
  },
  {
   "cell_type": "markdown",
   "metadata": {},
   "source": [
    "画图："
   ]
  },
  {
   "cell_type": "code",
   "execution_count": 114,
   "metadata": {
    "ExecuteTime": {
     "end_time": "2019-11-23T08:05:38.529953Z",
     "start_time": "2019-11-23T08:05:38.195840Z"
    }
   },
   "outputs": [
    {
     "name": "stdout",
     "output_type": "stream",
     "text": [
      "sum squared residual = 9.716\n",
      "rank of the X matrix = 2\n",
      "singular values of X = [30.2373  4.8215]\n"
     ]
    },
    {
     "data": {
      "image/png": "[encoded data removed]",
      "text/plain": [
       "<Figure size 432x288 with 1 Axes>"
      ]
     },
     "metadata": {
      "needs_background": "light"
     },
     "output_type": "display_data"
    }
   ],
   "source": [
    "p = plt.plot(x, y, 'rx')\n",
    "p = plt.plot(x, C[0] * x + C[1], 'k--')\n",
    "print (\"sum squared residual = {:.3f}\".format(resid))\n",
    "print (\"rank of the X matrix = {}\".format(rank))\n",
    "print (\"singular values of X = {}\".format(s))"
   ]
  },
  {
   "cell_type": "markdown",
   "metadata": {},
   "source": [
    "### Scipy.stats.linregress 线性回归"
   ]
  },
  {
   "cell_type": "markdown",
   "metadata": {},
   "source": [
    "对于上面的问题，还可以使用线性回归进行求解："
   ]
  },
  {
   "cell_type": "code",
   "execution_count": 115,
   "metadata": {
    "ExecuteTime": {
     "end_time": "2019-11-23T08:07:00.964797Z",
     "start_time": "2019-11-23T08:07:00.953199Z"
    }
   },
   "outputs": [
    {
     "data": {
      "text/plain": [
       "(0.5223594382812895, -0.062205545756081726)"
      ]
     },
     "execution_count": 115,
     "metadata": {},
     "output_type": "execute_result"
    }
   ],
   "source": [
    "slope, intercept, r_value, p_value, stderr = linregress(x, y)\n",
    "slope, intercept"
   ]
  },
  {
   "cell_type": "code",
   "execution_count": 116,
   "metadata": {
    "ExecuteTime": {
     "end_time": "2019-11-23T08:07:25.590076Z",
     "start_time": "2019-11-23T08:07:25.290731Z"
    }
   },
   "outputs": [
    {
     "name": "stdout",
     "output_type": "stream",
     "text": [
      "R-value = 0.925\n",
      "p-value (probability there is no correlation) = 4.206e-43\n",
      "Root mean squared error of the fit = 0.147\n"
     ]
    },
    {
     "data": {
      "image/png": "[encoded data removed]",
      "text/plain": [
       "<Figure size 432x288 with 1 Axes>"
      ]
     },
     "metadata": {
      "needs_background": "light"
     },
     "output_type": "display_data"
    }
   ],
   "source": [
    "p = plt.plot(x, y, 'rx')\n",
    "p = plt.plot(x, slope * x + intercept, 'k--')\n",
    "print (\"R-value = {:.3f}\".format(r_value))\n",
    "print (\"p-value (probability there is no correlation) = {:.3e}\".format(p_value))\n",
    "print (\"Root mean squared error of the fit = {:.3f}\".format(np.sqrt(stderr)))"
   ]
  },
  {
   "cell_type": "markdown",
   "metadata": {},
   "source": [
    "可以看到，两者求解的结果是一致的，但是出发的角度是不同的。"
   ]
  },
  {
   "cell_type": "markdown",
   "metadata": {},
   "source": [
    "## 更高级的拟合"
   ]
  },
  {
   "cell_type": "code",
   "execution_count": 117,
   "metadata": {
    "ExecuteTime": {
     "end_time": "2019-11-23T08:29:07.965342Z",
     "start_time": "2019-11-23T08:29:07.956881Z"
    }
   },
   "outputs": [],
   "source": [
    "from scipy.optimize import leastsq"
   ]
  },
  {
   "cell_type": "markdown",
   "metadata": {},
   "source": [
    "先定义这个非线性函数：$y = a e^{-b sin( f x + \\phi)}$"
   ]
  },
  {
   "cell_type": "code",
   "execution_count": 118,
   "metadata": {
    "ExecuteTime": {
     "end_time": "2019-11-23T08:29:27.961410Z",
     "start_time": "2019-11-23T08:29:27.946567Z"
    }
   },
   "outputs": [],
   "source": [
    "def function(x, a , b, f, phi):\n",
    "    \"\"\"a function of x with four parameters\"\"\"\n",
    "    result = a * np.exp(-b * np.sin(f * x + phi))\n",
    "    return result"
   ]
  },
  {
   "cell_type": "markdown",
   "metadata": {},
   "source": [
    "画出原始曲线："
   ]
  },
  {
   "cell_type": "code",
   "execution_count": 119,
   "metadata": {
    "ExecuteTime": {
     "end_time": "2019-11-23T08:29:42.357890Z",
     "start_time": "2019-11-23T08:29:42.069673Z"
    }
   },
   "outputs": [
    {
     "data": {
      "image/png": "[encoded data removed]",
      "text/plain": [
       "<Figure size 432x288 with 1 Axes>"
      ]
     },
     "metadata": {
      "needs_background": "light"
     },
     "output_type": "display_data"
    }
   ],
   "source": [
    "x = np.linspace(0, 2 * np.pi, 50)\n",
    "actual_parameters = [3, 2, 1.25, np.pi / 4]\n",
    "y = function(x, *actual_parameters)\n",
    "p = plt.plot(x,y)"
   ]
  },
  {
   "cell_type": "markdown",
   "metadata": {},
   "source": [
    "加入噪声："
   ]
  },
  {
   "cell_type": "code",
   "execution_count": 120,
   "metadata": {
    "ExecuteTime": {
     "end_time": "2019-11-23T08:29:59.800605Z",
     "start_time": "2019-11-23T08:29:59.507401Z"
    }
   },
   "outputs": [
    {
     "data": {
      "image/png": "[encoded data removed]",
      "text/plain": [
       "<Figure size 432x288 with 1 Axes>"
      ]
     },
     "metadata": {
      "needs_background": "light"
     },
     "output_type": "display_data"
    }
   ],
   "source": [
    "from scipy.stats import norm\n",
    "y_noisy = y + 0.8 * norm.rvs(size=len(x))\n",
    "p = plt.plot(x, y, 'k-')\n",
    "p = plt.plot(x, y_noisy, 'rx')"
   ]
  },
  {
   "cell_type": "markdown",
   "metadata": {},
   "source": [
    "### Scipy.optimize.leastsq"
   ]
  },
  {
   "cell_type": "markdown",
   "metadata": {},
   "source": [
    "参考：https://blog.csdn.net/sinat_34328764/article/details/85473276\n",
    "\n",
    "定义误差函数，将要优化的参数放在前面："
   ]
  },
  {
   "cell_type": "code",
   "execution_count": 121,
   "metadata": {
    "ExecuteTime": {
     "end_time": "2019-11-23T08:30:30.125070Z",
     "start_time": "2019-11-23T08:30:30.117481Z"
    }
   },
   "outputs": [],
   "source": [
    "def f_err(p, y, x):\n",
    "    return y - function(x, *p)"
   ]
  },
  {
   "cell_type": "markdown",
   "metadata": {},
   "source": [
    "将这个函数作为参数传入 `leastsq` 函数，第二个参数为初始值："
   ]
  },
  {
   "cell_type": "code",
   "execution_count": 122,
   "metadata": {
    "ExecuteTime": {
     "end_time": "2019-11-23T08:30:47.992171Z",
     "start_time": "2019-11-23T08:30:47.975756Z"
    }
   },
   "outputs": [
    {
     "data": {
      "text/plain": [
       "(array([2.0288, 2.3686, 1.1104, 1.2459]), 1)"
      ]
     },
     "execution_count": 122,
     "metadata": {},
     "output_type": "execute_result"
    }
   ],
   "source": [
    "c, ret_val = leastsq(f_err, [1, 1, 1, 1], args=(y_noisy, x))\n",
    "c, ret_val"
   ]
  },
  {
   "cell_type": "markdown",
   "metadata": {
    "ExecuteTime": {
     "end_time": "2019-11-23T08:30:56.864534Z",
     "start_time": "2019-11-23T08:30:56.851907Z"
    }
   },
   "source": [
    "`ret_val` 是 1~4 时，表示成功找到最小二乘解："
   ]
  },
  {
   "cell_type": "code",
   "execution_count": 124,
   "metadata": {
    "ExecuteTime": {
     "end_time": "2019-11-23T08:31:07.665769Z",
     "start_time": "2019-11-23T08:31:07.418932Z"
    }
   },
   "outputs": [
    {
     "data": {
      "image/png": "[encoded data removed]",
      "text/plain": [
       "<Figure size 432x288 with 1 Axes>"
      ]
     },
     "metadata": {
      "needs_background": "light"
     },
     "output_type": "display_data"
    }
   ],
   "source": [
    "p = plt.plot(x, y_noisy, 'rx')\n",
    "p = plt.plot(x, function(x, *c), 'k--')"
   ]
  },
  {
   "cell_type": "markdown",
   "metadata": {},
   "source": [
    "### Scipy.optimize.curve_fit"
   ]
  },
  {
   "cell_type": "markdown",
   "metadata": {},
   "source": [
    "更高级的做法："
   ]
  },
  {
   "cell_type": "code",
   "execution_count": 126,
   "metadata": {
    "ExecuteTime": {
     "end_time": "2019-11-23T08:32:06.407593Z",
     "start_time": "2019-11-23T08:32:06.403365Z"
    }
   },
   "outputs": [],
   "source": [
    "from scipy.optimize import curve_fit"
   ]
  },
  {
   "cell_type": "markdown",
   "metadata": {},
   "source": [
    "不需要定义误差函数，直接传入 `function` 作为参数："
   ]
  },
  {
   "cell_type": "code",
   "execution_count": 127,
   "metadata": {
    "ExecuteTime": {
     "end_time": "2019-11-23T08:32:38.338275Z",
     "start_time": "2019-11-23T08:32:38.319690Z"
    }
   },
   "outputs": [],
   "source": [
    "p_est, err_est = curve_fit(function, x, y_noisy)"
   ]
  },
  {
   "cell_type": "code",
   "execution_count": 128,
   "metadata": {
    "ExecuteTime": {
     "end_time": "2019-11-23T08:32:50.780080Z",
     "start_time": "2019-11-23T08:32:50.467466Z"
    }
   },
   "outputs": [
    {
     "name": "stdout",
     "output_type": "stream",
     "text": [
      "[2.0288 2.3686 1.1104 1.2459]\n"
     ]
    },
    {
     "data": {
      "image/png": "[encoded data removed]",
      "text/plain": [
       "<Figure size 432x288 with 1 Axes>"
      ]
     },
     "metadata": {
      "needs_background": "light"
     },
     "output_type": "display_data"
    }
   ],
   "source": [
    "print( p_est)\n",
    "p = plt.plot(x, y_noisy, \"rx\")\n",
    "p = plt.plot(x, function(x, *p_est), \"k--\")"
   ]
  },
  {
   "cell_type": "markdown",
   "metadata": {},
   "source": [
    "这里第一个返回的是函数的参数，第二个返回值为各个参数的协方差矩阵："
   ]
  },
  {
   "cell_type": "code",
   "execution_count": 129,
   "metadata": {
    "ExecuteTime": {
     "end_time": "2019-11-23T08:33:18.773645Z",
     "start_time": "2019-11-23T08:33:18.761688Z"
    }
   },
   "outputs": [
    {
     "name": "stdout",
     "output_type": "stream",
     "text": [
      "[[ 0.809  -0.395   0.1068 -0.3336]\n",
      " [-0.395   0.1932 -0.052   0.1624]\n",
      " [ 0.1068 -0.052   0.0145 -0.0454]\n",
      " [-0.3336  0.1624 -0.0454  0.1418]]\n"
     ]
    }
   ],
   "source": [
    "print (err_est)"
   ]
  },
  {
   "cell_type": "markdown",
   "metadata": {},
   "source": [
    "协方差矩阵的对角线为各个参数的方差："
   ]
  },
  {
   "cell_type": "code",
   "execution_count": 130,
   "metadata": {
    "ExecuteTime": {
     "end_time": "2019-11-23T08:34:09.667844Z",
     "start_time": "2019-11-23T08:34:09.659902Z"
    }
   },
   "outputs": [
    {
     "name": "stdout",
     "output_type": "stream",
     "text": [
      "normalized relative errors for each parameter\n",
      "   a\t  b\t f\tphi\n",
      "[0.4433 0.1856 0.1086 0.3023]\n"
     ]
    }
   ],
   "source": [
    "print (\"normalized relative errors for each parameter\")\n",
    "print (\"   a\\t  b\\t f\\tphi\")\n",
    "print (np.sqrt(err_est.diagonal()) / p_est)"
   ]
  },
  {
   "cell_type": "markdown",
   "metadata": {},
   "source": [
    "# 最小化函数"
   ]
  },
  {
   "cell_type": "markdown",
   "metadata": {},
   "source": [
    "## minimize 函数"
   ]
  },
  {
   "cell_type": "code",
   "execution_count": 131,
   "metadata": {
    "ExecuteTime": {
     "end_time": "2019-11-23T09:02:11.719052Z",
     "start_time": "2019-11-23T09:02:11.710814Z"
    }
   },
   "outputs": [],
   "source": [
    "import numpy as np\n",
    "np.set_printoptions(precision=3, suppress=True)"
   ]
  },
  {
   "cell_type": "markdown",
   "metadata": {},
   "source": [
    "已知斜抛运动的水平飞行距离公式：\n",
    "\n",
    "$d = 2 \\frac{v_0^2}{g} \\sin(\\theta) \\cos (\\theta)$\n",
    "\n",
    "- $d$ 水平飞行距离\n",
    "- $v_0$ 初速度大小\n",
    "- $g$ 重力加速度\n",
    "- $\\theta$ 抛出角度\n",
    "\n",
    "希望找到使 $d$ 最大的角度 $\\theta$。\n",
    "\n",
    "定义距离函数："
   ]
  },
  {
   "cell_type": "code",
   "execution_count": 132,
   "metadata": {
    "ExecuteTime": {
     "end_time": "2019-11-23T09:02:31.116538Z",
     "start_time": "2019-11-23T09:02:30.402372Z"
    }
   },
   "outputs": [
    {
     "data": {
      "image/png": "[encoded data removed]",
      "text/plain": [
       "<Figure size 432x288 with 1 Axes>"
      ]
     },
     "metadata": {
      "needs_background": "light"
     },
     "output_type": "display_data"
    }
   ],
   "source": [
    "def dist(theta, v0):\n",
    "    \"\"\"calculate the distance travelled by a projectile launched\n",
    "    at theta degrees with v0 (m/s) initial velocity.\n",
    "    \"\"\"\n",
    "    g = 9.8\n",
    "    theta_rad = pi * theta / 180\n",
    "    return 2 * v0 ** 2 / g * sin(theta_rad) * cos(theta_rad)\n",
    "theta = np.linspace(0,90,90)\n",
    "p = plot(theta, dist(theta, 1.))\n",
    "xl = xlabel(r'launch angle $\\theta (^{\\circ})$')\n",
    "yl = ylabel('horizontal distance traveled')"
   ]
  },
  {
   "cell_type": "markdown",
   "metadata": {},
   "source": [
    "因为 `Scipy` 提供的是最小化方法，所以最大化距离就相当于最小化距离的负数："
   ]
  },
  {
   "cell_type": "code",
   "execution_count": 133,
   "metadata": {
    "ExecuteTime": {
     "end_time": "2019-11-23T09:02:52.566515Z",
     "start_time": "2019-11-23T09:02:52.557928Z"
    }
   },
   "outputs": [],
   "source": [
    "def neg_dist(theta, v0):\n",
    "    return -1 * dist(theta, v0)"
   ]
  },
  {
   "cell_type": "markdown",
   "metadata": {},
   "source": [
    "导入 `scipy.optimize.minimize`："
   ]
  },
  {
   "cell_type": "code",
   "execution_count": 134,
   "metadata": {
    "ExecuteTime": {
     "end_time": "2019-11-23T09:03:11.526244Z",
     "start_time": "2019-11-23T09:03:11.516679Z"
    }
   },
   "outputs": [
    {
     "name": "stdout",
     "output_type": "stream",
     "text": [
      "optimal angle = 45.0 degrees\n"
     ]
    }
   ],
   "source": [
    "from scipy.optimize import minimize\n",
    "result = minimize(neg_dist, 40, args=(1,))\n",
    "print (\"optimal angle = {:.1f} degrees\".format(result.x[0]))"
   ]
  },
  {
   "cell_type": "markdown",
   "metadata": {},
   "source": [
    "`minimize` 接受三个参数：第一个是要优化的函数，第二个是初始猜测值，第三个则是优化函数的附加参数，默认 `minimize` 将优化函数的第一个参数作为优化变量，所以第三个参数输入的附加参数从优化函数的第二个参数开始。\n",
    "\n",
    "查看返回结果："
   ]
  },
  {
   "cell_type": "code",
   "execution_count": 135,
   "metadata": {
    "ExecuteTime": {
     "end_time": "2019-11-23T09:03:35.159809Z",
     "start_time": "2019-11-23T09:03:35.148577Z"
    }
   },
   "outputs": [
    {
     "name": "stdout",
     "output_type": "stream",
     "text": [
      "      fun: -0.10204080670440296\n",
      " hess_inv: array([[8095.267]])\n",
      "      jac: array([0.])\n",
      "  message: 'Optimization terminated successfully.'\n",
      "     nfev: 27\n",
      "      nit: 3\n",
      "     njev: 9\n",
      "   status: 0\n",
      "  success: True\n",
      "        x: array([45.012])\n"
     ]
    }
   ],
   "source": [
    "print (result)"
   ]
  },
  {
   "cell_type": "markdown",
   "metadata": {},
   "source": [
    "## 优化方法"
   ]
  },
  {
   "cell_type": "markdown",
   "metadata": {},
   "source": [
    "### BFGS 算法"
   ]
  },
  {
   "cell_type": "markdown",
   "metadata": {},
   "source": [
    "`minimize` 函数默认根据问题是否有界或者有约束，确定参数 `method`使用 `'BFGS', 'L-BFGS-B', 'SLSQP'` 中的一种。\n",
    "\n",
    "可以查看帮助来得到更多的信息："
   ]
  },
  {
   "cell_type": "code",
   "execution_count": 139,
   "metadata": {
    "ExecuteTime": {
     "end_time": "2019-11-23T09:06:44.771398Z",
     "start_time": "2019-11-23T09:06:44.763183Z"
    }
   },
   "outputs": [],
   "source": [
    "# np.info(minimize)"
   ]
  },
  {
   "cell_type": "markdown",
   "metadata": {},
   "source": [
    "默认没有约束时，使用的是BFGS 方法。"
   ]
  },
  {
   "cell_type": "markdown",
   "metadata": {},
   "source": [
    "# 积分"
   ]
  },
  {
   "cell_type": "markdown",
   "metadata": {},
   "source": [
    "## 符号积分"
   ]
  },
  {
   "cell_type": "markdown",
   "metadata": {},
   "source": [
    "积分与求导的关系：\n",
    "\n",
    "$$\\frac{d}{dx} F(x) = f(x)\n",
    "\\Rightarrow F(x) = \\int f(x) dx$$\n",
    "\n",
    "符号运算可以用 `sympy` 模块完成。\n",
    "\n",
    "先导入 `init_printing` 模块方便其显示："
   ]
  },
  {
   "cell_type": "code",
   "execution_count": 142,
   "metadata": {
    "ExecuteTime": {
     "end_time": "2019-11-23T09:23:02.001786Z",
     "start_time": "2019-11-23T09:23:00.184493Z"
    }
   },
   "outputs": [],
   "source": [
    "from sympy import init_printing\n",
    "init_printing()\n",
    "\n",
    "from sympy import symbols, integrate\n",
    "import sympy"
   ]
  },
  {
   "cell_type": "markdown",
   "metadata": {},
   "source": [
    "产生 x 和 y 两个符号变量，并进行运算："
   ]
  },
  {
   "cell_type": "code",
   "execution_count": 143,
   "metadata": {
    "ExecuteTime": {
     "end_time": "2019-11-23T09:23:05.157450Z",
     "start_time": "2019-11-23T09:23:05.071263Z"
    }
   },
   "outputs": [
    {
     "data": {
      "image/png": "[encoded data removed]",
      "text/latex": [
       "$\\displaystyle \\sqrt{x^{2} + y^{2}}$"
      ],
      "text/plain": [
       "   _________\n",
       "  ╱  2    2 \n",
       "╲╱  x  + y  "
      ]
     },
     "execution_count": 143,
     "metadata": {},
     "output_type": "execute_result"
    }
   ],
   "source": [
    "x, y = symbols('x y')\n",
    "sympy.sqrt(x ** 2 + y ** 2)"
   ]
  },
  {
   "cell_type": "markdown",
   "metadata": {},
   "source": [
    "对于生成的符号变量 `z`，我们将其中的 `x` 利用 `subs` 方法替换为 `3`："
   ]
  },
  {
   "cell_type": "code",
   "execution_count": 144,
   "metadata": {
    "ExecuteTime": {
     "end_time": "2019-11-23T09:23:07.237786Z",
     "start_time": "2019-11-23T09:23:07.191290Z"
    }
   },
   "outputs": [
    {
     "data": {
      "image/png": "[encoded data removed]",
      "text/latex": [
       "$\\displaystyle \\sqrt{y^{2} + 9}$"
      ],
      "text/plain": [
       "   ________\n",
       "  ╱  2     \n",
       "╲╱  y  + 9 "
      ]
     },
     "execution_count": 144,
     "metadata": {},
     "output_type": "execute_result"
    }
   ],
   "source": [
    "z = sympy.sqrt(x ** 2 + y ** 2)\n",
    "z.subs(x, 3)"
   ]
  },
  {
   "cell_type": "markdown",
   "metadata": {},
   "source": [
    "再替换 `y`："
   ]
  },
  {
   "cell_type": "code",
   "execution_count": 145,
   "metadata": {
    "ExecuteTime": {
     "end_time": "2019-11-23T09:23:09.813113Z",
     "start_time": "2019-11-23T09:23:09.774403Z"
    }
   },
   "outputs": [
    {
     "data": {
      "image/png": "[encoded data removed]",
      "text/latex": [
       "$\\displaystyle 5$"
      ],
      "text/plain": [
       "5"
      ]
     },
     "execution_count": 145,
     "metadata": {},
     "output_type": "execute_result"
    }
   ],
   "source": [
    "z.subs(x, 3).subs(y, 4)"
   ]
  },
  {
   "cell_type": "markdown",
   "metadata": {},
   "source": [
    "还可以从 `sympy.abc` 中导入现成的符号变量："
   ]
  },
  {
   "cell_type": "code",
   "execution_count": 146,
   "metadata": {
    "ExecuteTime": {
     "end_time": "2019-11-23T09:23:11.355023Z",
     "start_time": "2019-11-23T09:23:11.284208Z"
    }
   },
   "outputs": [
    {
     "data": {
      "image/png": "[encoded data removed]",
      "text/latex": [
       "$\\displaystyle \\sin^{2}{\\left(\\theta \\right)}$"
      ],
      "text/plain": [
       "   2   \n",
       "sin (θ)"
      ]
     },
     "execution_count": 146,
     "metadata": {},
     "output_type": "execute_result"
    }
   ],
   "source": [
    "from sympy.abc import theta\n",
    "y = sympy.sin(theta) ** 2\n",
    "y"
   ]
  },
  {
   "cell_type": "markdown",
   "metadata": {},
   "source": [
    "对 y 进行积分："
   ]
  },
  {
   "cell_type": "code",
   "execution_count": 147,
   "metadata": {
    "ExecuteTime": {
     "end_time": "2019-11-23T09:23:34.908405Z",
     "start_time": "2019-11-23T09:23:34.819706Z"
    }
   },
   "outputs": [
    {
     "data": {
      "image/png": "[encoded data removed]",
      "text/latex": [
       "$\\displaystyle \\frac{\\theta}{2} - \\frac{\\sin{\\left(\\theta \\right)} \\cos{\\left(\\theta \\right)}}{2}$"
      ],
      "text/plain": [
       "θ   sin(θ)⋅cos(θ)\n",
       "─ - ─────────────\n",
       "2         2      "
      ]
     },
     "execution_count": 147,
     "metadata": {},
     "output_type": "execute_result"
    }
   ],
   "source": [
    "Y = integrate(y)\n",
    "Y"
   ]
  },
  {
   "cell_type": "markdown",
   "metadata": {},
   "source": [
    "计算 $Y(\\pi) - Y(0)$："
   ]
  },
  {
   "cell_type": "code",
   "execution_count": 148,
   "metadata": {
    "ExecuteTime": {
     "end_time": "2019-11-23T09:24:26.041873Z",
     "start_time": "2019-11-23T09:24:25.995208Z"
    }
   },
   "outputs": [
    {
     "data": {
      "image/png": "[encoded data removed]",
      "text/latex": [
       "$\\displaystyle 1.5707963267949$"
      ],
      "text/plain": [
       "1.57079632679490"
      ]
     },
     "execution_count": 148,
     "metadata": {},
     "output_type": "execute_result"
    }
   ],
   "source": [
    "import numpy as np\n",
    "np.set_printoptions(precision=3)\n",
    "\n",
    "Y.subs(theta, np.pi) - Y.subs(theta, 0)"
   ]
  },
  {
   "cell_type": "markdown",
   "metadata": {},
   "source": [
    "计算 $\\int_0^\\pi y d\\theta$ ："
   ]
  },
  {
   "cell_type": "code",
   "execution_count": 149,
   "metadata": {
    "ExecuteTime": {
     "end_time": "2019-11-23T09:25:27.322313Z",
     "start_time": "2019-11-23T09:25:27.257422Z"
    }
   },
   "outputs": [
    {
     "data": {
      "image/png": "[encoded data removed]",
      "text/latex": [
       "$\\displaystyle \\frac{\\pi}{2}$"
      ],
      "text/plain": [
       "π\n",
       "─\n",
       "2"
      ]
     },
     "execution_count": 149,
     "metadata": {},
     "output_type": "execute_result"
    }
   ],
   "source": [
    "integrate(y,(theta,0,sympy.pi))"
   ]
  },
  {
   "cell_type": "markdown",
   "metadata": {},
   "source": [
    "显示的是字符表达式，查看具体数值可以使用 `evalf()` 方法，或者传入 `numpy.pi`，而不是 `sympy.pi` ："
   ]
  },
  {
   "cell_type": "code",
   "execution_count": 150,
   "metadata": {
    "ExecuteTime": {
     "end_time": "2019-11-23T09:25:49.412511Z",
     "start_time": "2019-11-23T09:25:49.332462Z"
    }
   },
   "outputs": [
    {
     "data": {
      "image/png": "[encoded data removed]",
      "text/latex": [
       "$\\displaystyle 1.5707963267949$"
      ],
      "text/plain": [
       "1.57079632679490"
      ]
     },
     "execution_count": 150,
     "metadata": {},
     "output_type": "execute_result"
    }
   ],
   "source": [
    "integrate(y,(theta,0,sympy.pi)).evalf()"
   ]
  },
  {
   "cell_type": "code",
   "execution_count": 151,
   "metadata": {
    "ExecuteTime": {
     "end_time": "2019-11-23T09:25:57.448649Z",
     "start_time": "2019-11-23T09:25:57.353583Z"
    }
   },
   "outputs": [
    {
     "data": {
      "image/png": "[encoded data removed]",
      "text/latex": [
       "$\\displaystyle 1.5707963267949$"
      ],
      "text/plain": [
       "1.57079632679490"
      ]
     },
     "execution_count": 151,
     "metadata": {},
     "output_type": "execute_result"
    }
   ],
   "source": [
    "integrate(y,(theta,0,np.pi))"
   ]
  },
  {
   "cell_type": "markdown",
   "metadata": {},
   "source": [
    "根据牛顿莱布尼兹公式，这两个数值应该相等。\n",
    "\n",
    "产生不定积分对象："
   ]
  },
  {
   "cell_type": "code",
   "execution_count": 152,
   "metadata": {
    "ExecuteTime": {
     "end_time": "2019-11-23T09:26:21.250584Z",
     "start_time": "2019-11-23T09:26:21.187664Z"
    }
   },
   "outputs": [
    {
     "data": {
      "image/png": "[encoded data removed]",
      "text/latex": [
       "$\\displaystyle \\int \\sin^{2}{\\left(\\theta \\right)}\\, d\\theta$"
      ],
      "text/plain": [
       "⌠           \n",
       "⎮    2      \n",
       "⎮ sin (θ) dθ\n",
       "⌡           "
      ]
     },
     "execution_count": 152,
     "metadata": {},
     "output_type": "execute_result"
    }
   ],
   "source": [
    "Y_indef = sympy.Integral(y)\n",
    "Y_indef"
   ]
  },
  {
   "cell_type": "code",
   "execution_count": 153,
   "metadata": {
    "ExecuteTime": {
     "end_time": "2019-11-23T09:26:33.107603Z",
     "start_time": "2019-11-23T09:26:33.095560Z"
    }
   },
   "outputs": [
    {
     "name": "stdout",
     "output_type": "stream",
     "text": [
      "<class 'sympy.integrals.integrals.Integral'>\n"
     ]
    }
   ],
   "source": [
    "print (type(Y_indef))"
   ]
  },
  {
   "cell_type": "markdown",
   "metadata": {},
   "source": [
    "定积分"
   ]
  },
  {
   "cell_type": "code",
   "execution_count": 154,
   "metadata": {
    "ExecuteTime": {
     "end_time": "2019-11-23T09:26:49.108279Z",
     "start_time": "2019-11-23T09:26:49.026148Z"
    }
   },
   "outputs": [
    {
     "data": {
      "image/png": "[encoded data removed]",
      "text/latex": [
       "$\\displaystyle \\int\\limits_{0}^{\\pi} \\sin^{2}{\\left(\\theta \\right)}\\, d\\theta$"
      ],
      "text/plain": [
       "π           \n",
       "⌠           \n",
       "⎮    2      \n",
       "⎮ sin (θ) dθ\n",
       "⌡           \n",
       "0           "
      ]
     },
     "execution_count": 154,
     "metadata": {},
     "output_type": "execute_result"
    }
   ],
   "source": [
    "Y_def = sympy.Integral(y, (theta, 0, sympy.pi))\n",
    "Y_def"
   ]
  },
  {
   "cell_type": "markdown",
   "metadata": {},
   "source": [
    "产生函数 $Y(x) = \\int_0^x sin^2(\\theta) d\\theta$，并将其向量化："
   ]
  },
  {
   "cell_type": "code",
   "execution_count": 155,
   "metadata": {
    "ExecuteTime": {
     "end_time": "2019-11-23T09:27:20.154726Z",
     "start_time": "2019-11-23T09:27:18.803112Z"
    }
   },
   "outputs": [
    {
     "data": {
      "image/png": "[encoded data removed]",
      "text/plain": [
       "<Figure size 432x288 with 1 Axes>"
      ]
     },
     "metadata": {
      "needs_background": "light"
     },
     "output_type": "display_data"
    }
   ],
   "source": [
    "Y_raw = lambda x: integrate(y, (theta, 0, x))\n",
    "Y = np.vectorize(Y_raw)\n",
    "\n",
    "%matplotlib inline\n",
    "import matplotlib.pyplot as plt\n",
    "\n",
    "x = np.linspace(0, 2 * np.pi)\n",
    "p = plt.plot(x, Y(x))\n",
    "t = plt.title(r'$Y(x) = \\int_0^x sin^2(\\theta) d\\theta$')"
   ]
  },
  {
   "cell_type": "markdown",
   "metadata": {},
   "source": [
    "## 数值积分"
   ]
  },
  {
   "cell_type": "markdown",
   "metadata": {},
   "source": [
    "数值积分：\n",
    "\n",
    "$$F(x) = \\lim_{n \\rightarrow \\infty} \\sum_{i=0}^{n-1} f(x_i)(x_{i+1}-x_i) \n",
    "\\Rightarrow F(x) = \\int_{x_0}^{x_n} f(x) dx$$\n",
    "\n",
    "导入贝塞尔函数："
   ]
  },
  {
   "cell_type": "markdown",
   "metadata": {},
   "source": [
    "导入贝塞尔函数："
   ]
  },
  {
   "cell_type": "code",
   "execution_count": 156,
   "metadata": {
    "ExecuteTime": {
     "end_time": "2019-11-23T09:28:21.946037Z",
     "start_time": "2019-11-23T09:28:21.938389Z"
    }
   },
   "outputs": [],
   "source": [
    "from scipy.special import jv"
   ]
  },
  {
   "cell_type": "code",
   "execution_count": 157,
   "metadata": {
    "ExecuteTime": {
     "end_time": "2019-11-23T09:28:29.174432Z",
     "start_time": "2019-11-23T09:28:29.166284Z"
    }
   },
   "outputs": [],
   "source": [
    "def f(x):\n",
    "    return jv(2.5, x)"
   ]
  },
  {
   "cell_type": "code",
   "execution_count": 158,
   "metadata": {
    "ExecuteTime": {
     "end_time": "2019-11-23T09:28:38.581674Z",
     "start_time": "2019-11-23T09:28:38.215484Z"
    }
   },
   "outputs": [
    {
     "data": {
      "image/png": "[encoded data removed]",
      "text/plain": [
       "<Figure size 432x288 with 1 Axes>"
      ]
     },
     "metadata": {
      "needs_background": "light"
     },
     "output_type": "display_data"
    }
   ],
   "source": [
    "x = np.linspace(0, 10)\n",
    "p = plt.plot(x, f(x), 'k-')"
   ]
  },
  {
   "cell_type": "markdown",
   "metadata": {},
   "source": [
    "### `quad` 函数"
   ]
  },
  {
   "cell_type": "markdown",
   "metadata": {},
   "source": [
    "Quadrature 积分的原理参见：\n",
    "\n",
    "http://en.wikipedia.org/wiki/Numerical_integration#Quadrature_rules_based_on_interpolating_functions\n",
    "\n",
    "quad 返回一个 (积分值，误差) 组成的元组："
   ]
  },
  {
   "cell_type": "code",
   "execution_count": 160,
   "metadata": {
    "ExecuteTime": {
     "end_time": "2019-11-23T09:29:53.586982Z",
     "start_time": "2019-11-23T09:29:53.576103Z"
    }
   },
   "outputs": [
    {
     "name": "stdout",
     "output_type": "stream",
     "text": [
      "1.2847429723410955\n",
      "2.3418185139578114e-09\n"
     ]
    }
   ],
   "source": [
    "from scipy.integrate import quad\n",
    "interval = [0, 6.5]\n",
    "value, max_err = quad(f, *interval)\n",
    "\n",
    "print(value) #积分值\n",
    "print (max_err) # 最大误差"
   ]
  },
  {
   "cell_type": "markdown",
   "metadata": {},
   "source": [
    "积分区间图示，蓝色为正，红色为负："
   ]
  },
  {
   "cell_type": "code",
   "execution_count": 161,
   "metadata": {
    "ExecuteTime": {
     "end_time": "2019-11-23T09:30:21.752858Z",
     "start_time": "2019-11-23T09:30:21.401408Z"
    }
   },
   "outputs": [
    {
     "name": "stdout",
     "output_type": "stream",
     "text": [
      "integral = 1.284742972\n",
      "upper bound on error: 2.34e-09\n"
     ]
    },
    {
     "data": {
      "image/png": "[encoded data removed]",
      "text/plain": [
       "<Figure size 432x288 with 1 Axes>"
      ]
     },
     "metadata": {
      "needs_background": "light"
     },
     "output_type": "display_data"
    }
   ],
   "source": [
    "print (\"integral = {:.9f}\".format(value))\n",
    "print (\"upper bound on error: {:.2e}\".format(max_err))\n",
    "x = np.linspace(0, 10, 100)\n",
    "p = plt.plot(x, f(x), 'k-')\n",
    "x = np.linspace(0, 6.5, 45)\n",
    "p = plt.fill_between(x, f(x), where=f(x)>0, color=\"blue\")\n",
    "p = plt.fill_between(x, f(x), where=f(x)<0, color=\"red\", interpolate=True)"
   ]
  },
  {
   "cell_type": "markdown",
   "metadata": {},
   "source": [
    "### 积分到无穷"
   ]
  },
  {
   "cell_type": "code",
   "execution_count": 162,
   "metadata": {
    "ExecuteTime": {
     "end_time": "2019-11-23T09:30:47.724297Z",
     "start_time": "2019-11-23T09:30:47.716259Z"
    }
   },
   "outputs": [],
   "source": [
    "from numpy import inf\n",
    "interval = [0., inf]\n",
    "\n",
    "def g(x):\n",
    "    return np.exp(-x ** 1/2)"
   ]
  },
  {
   "cell_type": "code",
   "execution_count": 163,
   "metadata": {
    "ExecuteTime": {
     "end_time": "2019-11-23T09:31:01.689281Z",
     "start_time": "2019-11-23T09:31:01.307696Z"
    }
   },
   "outputs": [
    {
     "name": "stdout",
     "output_type": "stream",
     "text": [
      "upper bound on error: 7.2e-11\n"
     ]
    },
    {
     "data": {
      "image/png": "[encoded data removed]",
      "text/plain": [
       "<Figure size 720x216 with 1 Axes>"
      ]
     },
     "metadata": {
      "needs_background": "light"
     },
     "output_type": "display_data"
    }
   ],
   "source": [
    "value, max_err = quad(g, *interval)\n",
    "x = np.linspace(0, 10, 50)\n",
    "fig = plt.figure(figsize=(10,3))\n",
    "p = plt.plot(x, g(x), 'k-')\n",
    "p = plt.fill_between(x, g(x))\n",
    "plt.annotate(r\"$\\int_0^{\\infty}e^{-x^1/2}dx = $\" + \"{}\".format(value), (4, 0.6),\n",
    "         fontsize=16)\n",
    "print (\"upper bound on error: {:.1e}\".format(max_err))"
   ]
  },
  {
   "cell_type": "markdown",
   "metadata": {},
   "source": [
    "### 双重积分"
   ]
  },
  {
   "cell_type": "markdown",
   "metadata": {},
   "source": [
    "假设我们要进行如下的积分：\n",
    "\n",
    "$$ I_n = \\int \\limits_0^{\\infty} \\int \\limits_1^{\\infty} \\frac{e^{-xt}}{t^n}dt dx = \\frac{1}{n}$$"
   ]
  },
  {
   "cell_type": "code",
   "execution_count": 164,
   "metadata": {
    "ExecuteTime": {
     "end_time": "2019-11-23T09:32:03.685935Z",
     "start_time": "2019-11-23T09:32:03.673402Z"
    }
   },
   "outputs": [],
   "source": [
    "def h(x, t, n):\n",
    "    \"\"\"core function, takes x, t, n\"\"\"\n",
    "    return np.exp(-x * t) / (t ** n)"
   ]
  },
  {
   "cell_type": "markdown",
   "metadata": {},
   "source": [
    "一种方式是调用两次 `quad` 函数，不过这里 `quad` 的返回值不能向量化，所以使用了修饰符 `vectorize` 将其向量化："
   ]
  },
  {
   "cell_type": "code",
   "execution_count": 165,
   "metadata": {
    "ExecuteTime": {
     "end_time": "2019-11-23T09:32:24.500470Z",
     "start_time": "2019-11-23T09:32:24.488840Z"
    }
   },
   "outputs": [],
   "source": [
    "from numpy import vectorize\n",
    "@vectorize\n",
    "def int_h_dx(t, n):\n",
    "    \"\"\"Time integrand of h(x).\"\"\"\n",
    "    return quad(h, 0, np.inf, args=(t, n))[0]"
   ]
  },
  {
   "cell_type": "code",
   "execution_count": 167,
   "metadata": {
    "ExecuteTime": {
     "end_time": "2019-11-23T09:34:10.791403Z",
     "start_time": "2019-11-23T09:34:10.783823Z"
    }
   },
   "outputs": [],
   "source": [
    "@vectorize\n",
    "def I_n(n):\n",
    "    return quad(int_h_dx, 1, np.inf, args=(n))"
   ]
  },
  {
   "cell_type": "code",
   "execution_count": 168,
   "metadata": {
    "ExecuteTime": {
     "end_time": "2019-11-23T09:34:20.072187Z",
     "start_time": "2019-11-23T09:34:19.745283Z"
    }
   },
   "outputs": [
    {
     "data": {
      "text/plain": [
       "(array([2. , 1. , 0.5, 0.2]), array([0., 0., 0., 0.]))"
      ]
     },
     "execution_count": 168,
     "metadata": {},
     "output_type": "execute_result"
    }
   ],
   "source": [
    "I_n([0.5, 1.0, 2.0, 5])"
   ]
  },
  {
   "cell_type": "markdown",
   "metadata": {},
   "source": [
    "或者直接调用 `dblquad` 函数，并将积分参数传入，传入方式有多种，后传入的先进行积分："
   ]
  },
  {
   "cell_type": "code",
   "execution_count": 169,
   "metadata": {
    "ExecuteTime": {
     "end_time": "2019-11-23T09:34:46.827589Z",
     "start_time": "2019-11-23T09:34:46.814984Z"
    }
   },
   "outputs": [],
   "source": [
    "from scipy.integrate import dblquad\n",
    "@vectorize\n",
    "def I(n):\n",
    "    \"\"\"Same as I_n, but using the built-in dblquad\"\"\"\n",
    "    x_lower = 0\n",
    "    x_upper = np.inf\n",
    "    return dblquad(h,\n",
    "                   lambda t_lower: 1, lambda t_upper: np.inf,\n",
    "                   x_lower, x_upper, args=(n,))"
   ]
  },
  {
   "cell_type": "code",
   "execution_count": 170,
   "metadata": {
    "ExecuteTime": {
     "end_time": "2019-11-23T09:34:55.419826Z",
     "start_time": "2019-11-23T09:34:55.090032Z"
    }
   },
   "outputs": [
    {
     "data": {
      "text/plain": [
       "(array([2. , 1. , 0.5, 0.2]), array([0., 0., 0., 0.]))"
      ]
     },
     "execution_count": 170,
     "metadata": {},
     "output_type": "execute_result"
    }
   ],
   "source": [
    "I_n([0.5, 1.0, 2.0, 5])"
   ]
  },
  {
   "cell_type": "markdown",
   "metadata": {},
   "source": [
    "## 采样点积分"
   ]
  },
  {
   "cell_type": "markdown",
   "metadata": {
    "ExecuteTime": {
     "end_time": "2019-11-23T09:35:16.551697Z",
     "start_time": "2019-11-23T09:35:16.542792Z"
    }
   },
   "source": [
    "### trapz 方法 和 simps 方法"
   ]
  },
  {
   "cell_type": "code",
   "execution_count": 172,
   "metadata": {
    "ExecuteTime": {
     "end_time": "2019-11-23T09:36:25.299270Z",
     "start_time": "2019-11-23T09:36:25.290924Z"
    }
   },
   "outputs": [],
   "source": [
    "from scipy.integrate import trapz, simps"
   ]
  },
  {
   "cell_type": "markdown",
   "metadata": {},
   "source": [
    "`sin` 函数， `100` 个采样点和 `5` 个采样点："
   ]
  },
  {
   "cell_type": "code",
   "execution_count": 173,
   "metadata": {
    "ExecuteTime": {
     "end_time": "2019-11-23T09:37:03.247264Z",
     "start_time": "2019-11-23T09:37:03.235214Z"
    }
   },
   "outputs": [],
   "source": [
    "x_s = np.linspace(0, np.pi, 5)\n",
    "y_s = np.sin(x_s)\n",
    "x = np.linspace(0, np.pi, 100)\n",
    "y = np.sin(x)"
   ]
  },
  {
   "cell_type": "code",
   "execution_count": 174,
   "metadata": {
    "ExecuteTime": {
     "end_time": "2019-11-23T09:37:21.257037Z",
     "start_time": "2019-11-23T09:37:21.020086Z"
    }
   },
   "outputs": [
    {
     "data": {
      "image/png": "[encoded data removed]",
      "text/plain": [
       "<Figure size 432x288 with 1 Axes>"
      ]
     },
     "metadata": {
      "needs_background": "light"
     },
     "output_type": "display_data"
    }
   ],
   "source": [
    "p = plt.plot(x, y, 'k:')\n",
    "p = plt.plot(x_s, y_s, 'k+-')\n",
    "p = plt.fill_between(x_s, y_s, color=\"gray\")"
   ]
  },
  {
   "cell_type": "markdown",
   "metadata": {},
   "source": [
    "采用 [trapezoidal 方法](https://en.wikipedia.org/wiki/Trapezoidal_rule) 和 [simpson 方法](https://en.wikipedia.org/wiki/Simpson%27s_rule) 对这些采样点进行积分（函数积分为 2）："
   ]
  },
  {
   "cell_type": "code",
   "execution_count": 175,
   "metadata": {
    "ExecuteTime": {
     "end_time": "2019-11-23T09:38:21.656017Z",
     "start_time": "2019-11-23T09:38:21.643617Z"
    }
   },
   "outputs": [
    {
     "name": "stdout",
     "output_type": "stream",
     "text": [
      "Trapezoidal Integration over 5 points : 1.896\n",
      "Simpson Integration over 5 points : 2.005\n",
      "Trapezoidal Integration over 100 points : 2.000\n"
     ]
    }
   ],
   "source": [
    "result_s = trapz(y_s, x_s)\n",
    "result_s_s = simps(y_s, x_s)\n",
    "result = trapz(y, x)\n",
    "print (\"Trapezoidal Integration over 5 points : {:.3f}\".format(result_s))\n",
    "print (\"Simpson Integration over 5 points : {:.3f}\".format(result_s_s))\n",
    "print (\"Trapezoidal Integration over 100 points : {:.3f}\".format(result))"
   ]
  },
  {
   "cell_type": "markdown",
   "metadata": {},
   "source": [
    "### 使用 ufunc 进行积分"
   ]
  },
  {
   "cell_type": "markdown",
   "metadata": {},
   "source": [
    "`Numpy` 中有很多 `ufunc` 对象："
   ]
  },
  {
   "cell_type": "code",
   "execution_count": 176,
   "metadata": {
    "ExecuteTime": {
     "end_time": "2019-11-23T09:38:51.943636Z",
     "start_time": "2019-11-23T09:38:51.934369Z"
    }
   },
   "outputs": [
    {
     "data": {
      "text/plain": [
       "numpy.ufunc"
      ]
     },
     "execution_count": 176,
     "metadata": {},
     "output_type": "execute_result"
    }
   ],
   "source": [
    "type(np.add)"
   ]
  },
  {
   "cell_type": "code",
   "execution_count": 177,
   "metadata": {
    "ExecuteTime": {
     "end_time": "2019-11-23T09:39:04.592937Z",
     "start_time": "2019-11-23T09:39:04.585017Z"
    }
   },
   "outputs": [],
   "source": [
    "# np.info(np.add.accumulate)"
   ]
  },
  {
   "cell_type": "code",
   "execution_count": 190,
   "metadata": {
    "ExecuteTime": {
     "end_time": "2019-11-23T09:41:50.276582Z",
     "start_time": "2019-11-23T09:41:50.268640Z"
    }
   },
   "outputs": [],
   "source": [
    "# from pandas import DataFrame\n",
    "# np.info(DataFrame.groupby)"
   ]
  },
  {
   "cell_type": "markdown",
   "metadata": {},
   "source": [
    "`np.add.accumulate` 相当于 `cumsum` ："
   ]
  },
  {
   "cell_type": "code",
   "execution_count": 191,
   "metadata": {
    "ExecuteTime": {
     "end_time": "2019-11-23T09:42:22.263314Z",
     "start_time": "2019-11-23T09:42:21.966862Z"
    }
   },
   "outputs": [
    {
     "data": {
      "image/png": "[encoded data removed]",
      "text/plain": [
       "<Figure size 432x288 with 1 Axes>"
      ]
     },
     "metadata": {
      "needs_background": "light"
     },
     "output_type": "display_data"
    }
   ],
   "source": [
    "result_np = np.add.accumulate(y) * (x[1] - x[0]) - (x[1] - x[0]) / 2\n",
    "p = plt.plot(x, - np.cos(x) + np.cos(0), 'rx')\n",
    "p = plt.plot(x, result_np)"
   ]
  },
  {
   "cell_type": "markdown",
   "metadata": {},
   "source": [
    "# 解微分方程"
   ]
  },
  {
   "cell_type": "markdown",
   "metadata": {},
   "source": [
    "## 积分求解"
   ]
  },
  {
   "cell_type": "markdown",
   "metadata": {},
   "source": [
    "### 简单的例子"
   ]
  },
  {
   "cell_type": "markdown",
   "metadata": {},
   "source": [
    "$$\\frac{dy}{dt} = sin(t)$$"
   ]
  },
  {
   "cell_type": "code",
   "execution_count": 199,
   "metadata": {
    "ExecuteTime": {
     "end_time": "2019-11-23T09:51:41.951832Z",
     "start_time": "2019-11-23T09:51:41.944049Z"
    }
   },
   "outputs": [],
   "source": [
    "def dy_dt(y, t):\n",
    "    return np.sin(t)"
   ]
  },
  {
   "cell_type": "markdown",
   "metadata": {
    "ExecuteTime": {
     "end_time": "2019-11-23T09:51:52.531670Z",
     "start_time": "2019-11-23T09:51:52.520301Z"
    }
   },
   "source": [
    "积分求解："
   ]
  },
  {
   "cell_type": "code",
   "execution_count": 201,
   "metadata": {
    "ExecuteTime": {
     "end_time": "2019-11-23T09:51:57.838246Z",
     "start_time": "2019-11-23T09:51:57.821769Z"
    }
   },
   "outputs": [],
   "source": [
    "from scipy.integrate import odeint\n",
    "\n",
    "t = np.linspace(0, 2*pi, 100)\n",
    "\n",
    "result = odeint(dy_dt, 0, t)"
   ]
  },
  {
   "cell_type": "code",
   "execution_count": 203,
   "metadata": {
    "ExecuteTime": {
     "end_time": "2019-11-23T09:53:24.362144Z",
     "start_time": "2019-11-23T09:53:23.887767Z"
    }
   },
   "outputs": [
    {
     "data": {
      "image/png": "[encoded data removed]",
      "text/plain": [
       "<Figure size 864x288 with 1 Axes>"
      ]
     },
     "metadata": {
      "needs_background": "light"
     },
     "output_type": "display_data"
    }
   ],
   "source": [
    "resfig = figure(figsize=(12,4))\n",
    "p = plot(t, result, \"rx\", label=r\"$\\int_{0}^{x}sin(t) dt $\")\n",
    "p = plot(t, -cos(t) + cos(0), label=r\"$cos(0) - cos(t)$\")\n",
    "p = plot(t, dy_dt(0, t), \"g-\", label=r\"$\\frac{dy}{dt}(t)$\")\n",
    "l = legend(loc=\"upper right\")\n",
    "xl = xlabel(\"t\")"
   ]
  },
  {
   "cell_type": "markdown",
   "metadata": {},
   "source": [
    "### 高阶微分方程"
   ]
  },
  {
   "cell_type": "markdown",
   "metadata": {},
   "source": [
    "抛物运动（竖直方向）：\n",
    "\n",
    "$$\n",
    "\\frac{d^2x}{dt^2} = g - \\frac{D}{m}\\frac{dx}{dt}\n",
    "$$\n",
    "\n",
    "改写成如下形式：\n",
    "\n",
    "$$y = \\left[x, \\frac{dx}{dt}\\right] $$\n",
    "\n",
    "$$\\begin{aligned}\n",
    "\\frac{dy_0}{dt} &= y_1 \\\\\\\n",
    "\\frac{dy_1}{dt} &= -g - \\frac{D}{m} y_1 \\\\\\\n",
    "\\end{aligned}\n",
    "$$"
   ]
  },
  {
   "cell_type": "code",
   "execution_count": 204,
   "metadata": {
    "ExecuteTime": {
     "end_time": "2019-11-23T09:54:20.588129Z",
     "start_time": "2019-11-23T09:54:20.575895Z"
    }
   },
   "outputs": [],
   "source": [
    "def dy_dt(y, t):\n",
    "    \"\"\"Governing equations for projectile motion with drag.\n",
    "    y[0] = position\n",
    "    y[1] = velocity\n",
    "    g = gravity (m/s2)\n",
    "    D = drag (1/s) = force/velocity\n",
    "    m = mass (kg)\n",
    "    \"\"\"\n",
    "    g = -9.8\n",
    "    D = 0.1\n",
    "    m = 0.15\n",
    "    dy1 = g - (D/m) * y[1]\n",
    "    dy0 = y[1] if y[0] >= 0 else 0.\n",
    "    return [dy0, dy1]"
   ]
  },
  {
   "cell_type": "code",
   "execution_count": 205,
   "metadata": {
    "ExecuteTime": {
     "end_time": "2019-11-23T09:54:31.330832Z",
     "start_time": "2019-11-23T09:54:31.318968Z"
    }
   },
   "outputs": [],
   "source": [
    "position_0 = 0.\n",
    "velocity_0 = 100\n",
    "t = linspace(0, 12, 100)\n",
    "y = odeint(dy_dt, [position_0, velocity_0], t)"
   ]
  },
  {
   "cell_type": "code",
   "execution_count": 206,
   "metadata": {
    "ExecuteTime": {
     "end_time": "2019-11-23T09:54:39.993146Z",
     "start_time": "2019-11-23T09:54:39.610384Z"
    }
   },
   "outputs": [
    {
     "data": {
      "image/png": "[encoded data removed]",
      "text/plain": [
       "<Figure size 432x288 with 1 Axes>"
      ]
     },
     "metadata": {
      "needs_background": "light"
     },
     "output_type": "display_data"
    }
   ],
   "source": [
    "p = plot(t, y[:,0])\n",
    "yl = ylabel(\"Height (m)\")\n",
    "xl = xlabel(\"Time (s)\")"
   ]
  },
  {
   "cell_type": "code",
   "execution_count": 208,
   "metadata": {
    "ExecuteTime": {
     "end_time": "2019-11-23T09:55:32.596616Z",
     "start_time": "2019-11-23T09:55:32.573357Z"
    }
   },
   "outputs": [
    {
     "name": "stdout",
     "output_type": "stream",
     "text": [
      "['hu', 'imxer', 'leniw', 'lenrw', 'message', 'mused', 'nfe', 'nje', 'nqu', 'nst', 'tcur', 'tolsf', 'tsw']\n",
      "cumulative number of function evaluations at each calculated point: [ 45  49  51  53  55  59  61  61  63  65  67  67  69  71  73  73  75  77\n",
      "  77  79  79  81  81  83  85  85  87  87  89  89  91  91  93  95  95  97\n",
      "  97  99  99 101 101 103 103 105 107 107 109 109 111 111 113 113 115 115\n",
      " 117 117 119 119 121 121 123 123 123 125 125 127 127 129 129 131 131 131\n",
      " 133 133 135 135 135 137 137 139 139 139 141 141 143 143 143 145 145 147\n",
      " 147 149 149 149 154 158 283 289 289]\n",
      "cumulative number of time steps [ 20  22  23  24  25  27  28  28  29  30  31  31  32  33  34  34  35  36\n",
      "  36  37  37  38  38  39  40  40  41  41  42  42  43  43  44  45  45  46\n",
      "  46  47  47  48  48  49  49  50  51  51  52  52  53  53  54  54  55  55\n",
      "  56  56  57  57  58  58  59  59  59  60  60  61  61  62  62  63  63  63\n",
      "  64  64  65  65  65  66  66  67  67  67  68  68  69  69  69  70  70  71\n",
      "  71  72  72  72  73  75 128 131 131]\n"
     ]
    },
    {
     "name": "stderr",
     "output_type": "stream",
     "text": [
      "c:\\users\\admin\\appdata\\local\\programs\\python\\python37\\lib\\site-packages\\scipy\\integrate\\odepack.py:250: ODEintWarning: Integration successful.\n",
      "  warnings.warn(warning_msg, ODEintWarning)\n"
     ]
    }
   ],
   "source": [
    "y, infodict = odeint(dy_dt, [position_0, velocity_0], t, full_output=True, printmessg=True, )\n",
    "print (sorted(infodict.keys()))\n",
    "print (\"cumulative number of function evaluations at each calculated point:\", infodict['nfe'])\n",
    "print (\"cumulative number of time steps\", infodict['nst'])"
   ]
  },
  {
   "cell_type": "markdown",
   "metadata": {},
   "source": [
    "# 稀疏矩阵"
   ]
  },
  {
   "cell_type": "markdown",
   "metadata": {},
   "source": [
    "`Scipy` 提供了稀疏矩阵的支持（`scipy.sparse`）。\n",
    "\n",
    "稀疏矩阵主要使用 位置 + 值 的方法来存储矩阵的非零元素，根据存储和使用方式的不同，有如下几种类型的稀疏矩阵：\n",
    "\n",
    "类型|描述\n",
    "---|----\n",
    "`bsr_matrix(arg1[, shape, dtype, copy, blocksize])`\t| Block Sparse Row matrix\n",
    "`coo_matrix(arg1[, shape, dtype, copy])`\t| A sparse matrix in COOrdinate format.\n",
    "`csc_matrix(arg1[, shape, dtype, copy])`\t| Compressed Sparse Column matrix\n",
    "`csr_matrix(arg1[, shape, dtype, copy])`\t| Compressed Sparse Row matrix\n",
    "`dia_matrix(arg1[, shape, dtype, copy])`\t| Sparse matrix with DIAgonal storage\n",
    "`dok_matrix(arg1[, shape, dtype, copy])`\t| Dictionary Of Keys based sparse matrix.\n",
    "`lil_matrix(arg1[, shape, dtype, copy])`\t| Row-based linked list sparse matrix\n",
    "\n",
    "在这些存储格式中：\n",
    "\n",
    "- COO 格式在构建矩阵时比较高效\n",
    "- CSC 和 CSR 格式在乘法计算时比较高效"
   ]
  },
  {
   "cell_type": "markdown",
   "metadata": {
    "ExecuteTime": {
     "end_time": "2019-11-23T09:57:49.805454Z",
     "start_time": "2019-11-23T09:57:49.797982Z"
    }
   },
   "source": [
    "## 构建稀疏矩阵"
   ]
  },
  {
   "cell_type": "code",
   "execution_count": 210,
   "metadata": {
    "ExecuteTime": {
     "end_time": "2019-11-23T09:57:57.655332Z",
     "start_time": "2019-11-23T09:57:57.649532Z"
    }
   },
   "outputs": [],
   "source": [
    "from scipy.sparse import *\n",
    "import numpy as np"
   ]
  },
  {
   "cell_type": "markdown",
   "metadata": {},
   "source": [
    "创建一个空的稀疏矩阵："
   ]
  },
  {
   "cell_type": "code",
   "execution_count": 211,
   "metadata": {
    "ExecuteTime": {
     "end_time": "2019-11-23T09:58:25.719236Z",
     "start_time": "2019-11-23T09:58:25.707374Z"
    }
   },
   "outputs": [
    {
     "data": {
      "text/plain": [
       "<2x3 sparse matrix of type '<class 'numpy.float64'>'\n",
       "\twith 0 stored elements in COOrdinate format>"
      ]
     },
     "execution_count": 211,
     "metadata": {},
     "output_type": "execute_result"
    }
   ],
   "source": [
    "coo_matrix((2,3))"
   ]
  },
  {
   "cell_type": "markdown",
   "metadata": {},
   "source": [
    "也可以使用一个已有的矩阵或数组或列表中创建新矩阵："
   ]
  },
  {
   "cell_type": "code",
   "execution_count": 213,
   "metadata": {
    "ExecuteTime": {
     "end_time": "2019-11-23T09:58:57.199852Z",
     "start_time": "2019-11-23T09:58:57.188185Z"
    }
   },
   "outputs": [
    {
     "name": "stdout",
     "output_type": "stream",
     "text": [
      "  (0, 0)\t1\n",
      "  (0, 1)\t2\n",
      "  (1, 2)\t3\n",
      "  (2, 0)\t4\n",
      "  (2, 2)\t5\n"
     ]
    }
   ],
   "source": [
    "A = coo_matrix([[1,2,0],[0,0,3],[4,0,5]])\n",
    "print(A)"
   ]
  },
  {
   "cell_type": "markdown",
   "metadata": {},
   "source": [
    "不同格式的稀疏矩阵可以相互转化："
   ]
  },
  {
   "cell_type": "code",
   "execution_count": 214,
   "metadata": {
    "ExecuteTime": {
     "end_time": "2019-11-23T10:00:04.995249Z",
     "start_time": "2019-11-23T10:00:04.986289Z"
    }
   },
   "outputs": [
    {
     "name": "stdout",
     "output_type": "stream",
     "text": [
      "<class 'scipy.sparse.coo.coo_matrix'>\n",
      "<class 'scipy.sparse.csr.csr_matrix'>\n"
     ]
    }
   ],
   "source": [
    "print(type(A))\n",
    "B = A.tocsr()\n",
    "print(type(B))"
   ]
  },
  {
   "cell_type": "markdown",
   "metadata": {},
   "source": [
    "可以转化为普通矩阵："
   ]
  },
  {
   "cell_type": "code",
   "execution_count": 215,
   "metadata": {
    "ExecuteTime": {
     "end_time": "2019-11-23T10:00:23.348133Z",
     "start_time": "2019-11-23T10:00:23.335855Z"
    }
   },
   "outputs": [
    {
     "data": {
      "text/plain": [
       "matrix([[1, 2, 0],\n",
       "        [0, 0, 3],\n",
       "        [4, 0, 5]])"
      ]
     },
     "execution_count": 215,
     "metadata": {},
     "output_type": "execute_result"
    }
   ],
   "source": [
    "C = A.todense()\n",
    "C"
   ]
  },
  {
   "cell_type": "markdown",
   "metadata": {},
   "source": [
    "与向量的乘法："
   ]
  },
  {
   "cell_type": "code",
   "execution_count": 216,
   "metadata": {
    "ExecuteTime": {
     "end_time": "2019-11-23T10:00:44.226187Z",
     "start_time": "2019-11-23T10:00:44.213201Z"
    }
   },
   "outputs": [
    {
     "data": {
      "text/plain": [
       "array([ 1, -3, -1], dtype=int32)"
      ]
     },
     "execution_count": 216,
     "metadata": {},
     "output_type": "execute_result"
    }
   ],
   "source": [
    "v = np.array([1,0,-1])\n",
    "A.dot(v)"
   ]
  },
  {
   "cell_type": "markdown",
   "metadata": {},
   "source": [
    "还可以传入一个 `(data, (row, col))` 的元组来构建稀疏矩阵："
   ]
  },
  {
   "cell_type": "code",
   "execution_count": 217,
   "metadata": {
    "ExecuteTime": {
     "end_time": "2019-11-23T10:01:04.026337Z",
     "start_time": "2019-11-23T10:01:04.009294Z"
    }
   },
   "outputs": [],
   "source": [
    "I = np.array([0,3,1,0])\n",
    "J = np.array([0,3,1,2])\n",
    "V = np.array([4,5,7,9])\n",
    "A = coo_matrix((V,(I,J)),shape=(4,4))"
   ]
  },
  {
   "cell_type": "code",
   "execution_count": 218,
   "metadata": {
    "ExecuteTime": {
     "end_time": "2019-11-23T10:01:14.256801Z",
     "start_time": "2019-11-23T10:01:14.249175Z"
    }
   },
   "outputs": [
    {
     "name": "stdout",
     "output_type": "stream",
     "text": [
      "  (0, 0)\t4\n",
      "  (3, 3)\t5\n",
      "  (1, 1)\t7\n",
      "  (0, 2)\t9\n"
     ]
    }
   ],
   "source": [
    "print (A)"
   ]
  },
  {
   "cell_type": "markdown",
   "metadata": {},
   "source": [
    "COO 格式的稀疏矩阵在构建的时候只是简单的将坐标和值加到后面，对于重复的坐标不进行处理："
   ]
  },
  {
   "cell_type": "code",
   "execution_count": 219,
   "metadata": {
    "ExecuteTime": {
     "end_time": "2019-11-23T10:01:53.204097Z",
     "start_time": "2019-11-23T10:01:53.186330Z"
    }
   },
   "outputs": [
    {
     "name": "stdout",
     "output_type": "stream",
     "text": [
      "  (0, 0)\t1\n",
      "  (0, 2)\t1\n",
      "  (1, 1)\t1\n",
      "  (3, 3)\t1\n",
      "  (1, 1)\t1\n",
      "  (0, 0)\t1\n",
      "  (0, 0)\t1\n"
     ]
    }
   ],
   "source": [
    "I = np.array([0,0,1,3,1,0,0])\n",
    "J = np.array([0,2,1,3,1,0,0])\n",
    "V = np.array([1,1,1,1,1,1,1])\n",
    "B = coo_matrix((V,(I,J)),shape=(4,4))\n",
    "print (B)"
   ]
  },
  {
   "cell_type": "markdown",
   "metadata": {},
   "source": [
    "转换成 CSR 格式会自动将相同坐标的值合并："
   ]
  },
  {
   "cell_type": "code",
   "execution_count": 221,
   "metadata": {
    "ExecuteTime": {
     "end_time": "2019-11-23T10:02:30.318646Z",
     "start_time": "2019-11-23T10:02:30.305112Z"
    }
   },
   "outputs": [
    {
     "name": "stdout",
     "output_type": "stream",
     "text": [
      "  (0, 0)\t3\n",
      "  (0, 2)\t1\n",
      "  (1, 1)\t2\n",
      "  (3, 3)\t1\n"
     ]
    }
   ],
   "source": [
    "C = B.tocsr()\n",
    "print(C)"
   ]
  },
  {
   "cell_type": "markdown",
   "metadata": {},
   "source": [
    "## 求解微分方程"
   ]
  },
  {
   "cell_type": "code",
   "execution_count": 222,
   "metadata": {
    "ExecuteTime": {
     "end_time": "2019-11-23T10:04:26.762103Z",
     "start_time": "2019-11-23T10:04:26.750246Z"
    }
   },
   "outputs": [],
   "source": [
    "from scipy.sparse import lil_matrix\n",
    "from scipy.sparse.linalg import spsolve\n",
    "from numpy.linalg import solve, norm\n",
    "from numpy.random import rand"
   ]
  },
  {
   "cell_type": "markdown",
   "metadata": {},
   "source": [
    "构建 `1000 x 1000` 的稀疏矩阵："
   ]
  },
  {
   "cell_type": "code",
   "execution_count": 223,
   "metadata": {
    "ExecuteTime": {
     "end_time": "2019-11-23T10:04:44.900514Z",
     "start_time": "2019-11-23T10:04:44.869170Z"
    }
   },
   "outputs": [],
   "source": [
    "A = lil_matrix((1000, 1000))\n",
    "A[0, :100] = rand(100)\n",
    "A[1, 100:200] = A[0, :100]\n",
    "A.setdiag(rand(1000))"
   ]
  },
  {
   "cell_type": "markdown",
   "metadata": {},
   "source": [
    "转化为 CSR 之后，用 `spsolve` 求解 $Ax=b$："
   ]
  },
  {
   "cell_type": "code",
   "execution_count": 224,
   "metadata": {
    "ExecuteTime": {
     "end_time": "2019-11-23T10:05:07.814081Z",
     "start_time": "2019-11-23T10:05:07.801606Z"
    }
   },
   "outputs": [],
   "source": [
    "A = A.tocsr()\n",
    "b = rand(1000)\n",
    "x = spsolve(A, b)"
   ]
  },
  {
   "cell_type": "markdown",
   "metadata": {},
   "source": [
    "转化成正常数组之后求解并查看误差："
   ]
  },
  {
   "cell_type": "code",
   "execution_count": 225,
   "metadata": {
    "ExecuteTime": {
     "end_time": "2019-11-23T10:05:45.307304Z",
     "start_time": "2019-11-23T10:05:45.191738Z"
    }
   },
   "outputs": [
    {
     "data": {
      "image/png": "[encoded data removed]",
      "text/latex": [
       "$\\displaystyle 9.16876165781452e-13$"
      ],
      "text/plain": [
       "9.16876165781452e-13"
      ]
     },
     "execution_count": 225,
     "metadata": {},
     "output_type": "execute_result"
    }
   ],
   "source": [
    "x_ = solve(A.toarray(), b)\n",
    "err = norm(x-x_)\n",
    "err"
   ]
  },
  {
   "cell_type": "markdown",
   "metadata": {},
   "source": [
    "## sparse.find 函数"
   ]
  },
  {
   "cell_type": "markdown",
   "metadata": {},
   "source": [
    "返回一个三元组，表示稀疏矩阵中非零元素的 `(row, col, value)`："
   ]
  },
  {
   "cell_type": "code",
   "execution_count": 226,
   "metadata": {
    "ExecuteTime": {
     "end_time": "2019-11-23T10:06:50.537037Z",
     "start_time": "2019-11-23T10:06:50.525009Z"
    }
   },
   "outputs": [
    {
     "name": "stdout",
     "output_type": "stream",
     "text": [
      "[0 1 0 3] [0 1 2 3] [3 2 1 1]\n"
     ]
    }
   ],
   "source": [
    "from scipy import sparse\n",
    "\n",
    "row, col, val = sparse.find(C)\n",
    "print (row, col, val)"
   ]
  },
  {
   "cell_type": "markdown",
   "metadata": {},
   "source": [
    "## sparse.issparse 函数"
   ]
  },
  {
   "cell_type": "markdown",
   "metadata": {},
   "source": [
    "查看一个对象是否为稀疏矩阵"
   ]
  },
  {
   "cell_type": "code",
   "execution_count": 227,
   "metadata": {
    "ExecuteTime": {
     "end_time": "2019-11-23T10:07:12.394001Z",
     "start_time": "2019-11-23T10:07:12.371938Z"
    }
   },
   "outputs": [
    {
     "data": {
      "text/plain": [
       "True"
      ]
     },
     "execution_count": 227,
     "metadata": {},
     "output_type": "execute_result"
    }
   ],
   "source": [
    "sparse.issparse(B)"
   ]
  },
  {
   "cell_type": "markdown",
   "metadata": {},
   "source": [
    "或者"
   ]
  },
  {
   "cell_type": "code",
   "execution_count": 228,
   "metadata": {
    "ExecuteTime": {
     "end_time": "2019-11-23T10:07:36.751390Z",
     "start_time": "2019-11-23T10:07:36.739579Z"
    }
   },
   "outputs": [
    {
     "data": {
      "text/plain": [
       "False"
      ]
     },
     "execution_count": 228,
     "metadata": {},
     "output_type": "execute_result"
    }
   ],
   "source": [
    "sparse.isspmatrix(B.todense())"
   ]
  },
  {
   "cell_type": "markdown",
   "metadata": {},
   "source": [
    "还可以查询是否为指定格式的稀疏矩阵："
   ]
  },
  {
   "cell_type": "code",
   "execution_count": 229,
   "metadata": {
    "ExecuteTime": {
     "end_time": "2019-11-23T10:08:17.122568Z",
     "start_time": "2019-11-23T10:08:17.108166Z"
    }
   },
   "outputs": [
    {
     "name": "stdout",
     "output_type": "stream",
     "text": [
      "True \n",
      " False\n"
     ]
    }
   ],
   "source": [
    "print(sparse.isspmatrix_coo(B),'\\n',sparse.isspmatrix_csr(B))"
   ]
  },
  {
   "cell_type": "markdown",
   "metadata": {},
   "source": [
    "对于稀疏矩阵来说，其线性代数操作可以使用 `scipy.sparse.linalg` 实现："
   ]
  },
  {
   "cell_type": "code",
   "execution_count": 230,
   "metadata": {
    "ExecuteTime": {
     "end_time": "2019-11-23T10:11:28.320200Z",
     "start_time": "2019-11-23T10:11:28.311477Z"
    }
   },
   "outputs": [],
   "source": [
    "import scipy.sparse.linalg"
   ]
  }
 ],
 "metadata": {
  "kernelspec": {
   "display_name": "Python 3",
   "language": "python",
   "name": "python3"
  },
  "language_info": {
   "codemirror_mode": {
    "name": "ipython",
    "version": 3
   },
   "file_extension": ".py",
   "mimetype": "text/x-python",
   "name": "python",
   "nbconvert_exporter": "python",
   "pygments_lexer": "ipython3",
   "version": "3.7.3"
  },
  "toc": {
   "base_numbering": 1,
   "nav_menu": {},
   "number_sections": true,
   "sideBar": true,
   "skip_h1_title": false,
   "title_cell": "Table of Contents",
   "title_sidebar": "Contents",
   "toc_cell": false,
   "toc_position": {},
   "toc_section_display": true,
   "toc_window_display": true
  }
 },
 "nbformat": 4,
 "nbformat_minor": 1
}

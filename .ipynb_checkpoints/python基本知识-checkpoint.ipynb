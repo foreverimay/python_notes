{
 "cells": [
  {
   "cell_type": "markdown",
   "metadata": {},
   "source": [
    "# python基本知识"
   ]
  },
  {
   "cell_type": "markdown",
   "metadata": {},
   "source": [
    "## Python 数据类型"
   ]
  },
  {
   "cell_type": "markdown",
   "metadata": {},
   "source": [
    "| 类型| 例子|是否可变|\n",
    "| -----  | ----- |---|\n",
    "| 整数 | `-100` |不可变|\n",
    "| 浮点数 | `3.1416` |不可变|\n",
    "| 布尔型 | `True, False`|不可变|\n",
    "| 复数型 | `4+3j`|不可变|\n",
    "| 字符串 | `'hello'` |不可变|\n",
    "| 列表 | `[1, 1.2, 'hello']` |可变|\n",
    "| 字典 | `{'dogs': 5, 'pigs': 3}`|可变|\n",
    "| 元组 | `('ring', 1000)`|不可变|\n",
    "| 集合 | `{1, 2, 3}`|可变|\n",
    "| Numpy数组 | `array([1, 2, 3])`|可变|\n",
    "| Pandas类型| `DataFrame, Series`|可变|\n",
    "| 自定义 | `Object Oriented Classes`|自定义|"
   ]
  },
  {
   "cell_type": "markdown",
   "metadata": {},
   "source": [
    "之后会一一介绍各自的用法和特点。"
   ]
  },
  {
   "cell_type": "markdown",
   "metadata": {},
   "source": [
    "### 可变的列表和不可变的字符串"
   ]
  },
  {
   "cell_type": "markdown",
   "metadata": {},
   "source": [
    "列表可以通过如下的方式或者赋值改变"
   ]
  },
  {
   "cell_type": "code",
   "execution_count": 2,
   "metadata": {
    "ExecuteTime": {
     "end_time": "2019-09-21T07:57:14.860231Z",
     "start_time": "2019-09-21T07:57:14.824230Z"
    }
   },
   "outputs": [
    {
     "data": {
      "text/plain": [
       "[100, 2, 3, 4]"
      ]
     },
     "execution_count": 2,
     "metadata": {},
     "output_type": "execute_result"
    }
   ],
   "source": [
    "a = [1, 2, 3, 4]\n",
    "b = a\n",
    "b[0] = 100\n",
    "a"
   ]
  },
  {
   "cell_type": "markdown",
   "metadata": {},
   "source": [
    "字符串与整数浮点数一样被认为是基本类型，而基本类型在Python中是不可变的。"
   ]
  },
  {
   "cell_type": "markdown",
   "metadata": {},
   "source": [
    " ## 整型 Integers"
   ]
  },
  {
   "cell_type": "markdown",
   "metadata": {},
   "source": [
    "### 基本运算"
   ]
  },
  {
   "cell_type": "code",
   "execution_count": 13,
   "metadata": {
    "ExecuteTime": {
     "end_time": "2019-09-02T17:24:35.446795Z",
     "start_time": "2019-09-02T17:24:35.432794Z"
    }
   },
   "outputs": [
    {
     "name": "stdout",
     "output_type": "stream",
     "text": [
      "\n",
      " 加法示例：2+3= 5 \n",
      " 减法示例：2-3= -1 \n",
      " 乘法示例：2*3= 6 \n",
      " 除法示例：2/3= 0.6666666666666666 \n",
      " 幂指数运算:2**3= 8 \n",
      " 取余运算:2%3= 2 \n",
      "\n"
     ]
    }
   ],
   "source": [
    "print('\\n','加法示例：2+3=',2+3,'\\n',\n",
    "      '减法示例：2-3=',2-3,'\\n',\n",
    "      '乘法示例：2*3=',2*3,'\\n',\n",
    "      '除法示例：2/3=',2/3,'\\n',\n",
    "     '幂指数运算:2**3=',2**3,'\\n',\n",
    "      '取余运算:2%3=',2%3,'\\n')"
   ]
  },
  {
   "cell_type": "markdown",
   "metadata": {},
   "source": [
    "整数的其他表示"
   ]
  },
  {
   "cell_type": "markdown",
   "metadata": {},
   "source": [
    "### 整数的其他表示"
   ]
  },
  {
   "cell_type": "markdown",
   "metadata": {},
   "source": [
    "除了10进制外，整数还有其他类型的表示方法。"
   ]
  },
  {
   "cell_type": "code",
   "execution_count": 46,
   "metadata": {
    "ExecuteTime": {
     "end_time": "2019-09-02T18:28:17.048209Z",
     "start_time": "2019-09-02T18:28:17.037208Z"
    }
   },
   "outputs": [
    {
     "name": "stdout",
     "output_type": "stream",
     "text": [
      "科学计数法: 1e-06 \n",
      " 16进制，前面加0x修饰，后面使用数字0-9A-F： 255 \n",
      " 8进制，前面加0或者0o修饰，后面使用数字0-7: 067 \n",
      " 2进制，前面加0b修饰，后面使用数字0或1: 42\n"
     ]
    }
   ],
   "source": [
    "print('科学计数法:',1e-6,'\\n',\n",
    "      '16进制，前面加0x修饰，后面使用数字0-9A-F：',0xFF,'\\n',\n",
    "      '8进制，前面加0或者0o修饰，后面使用数字0-7:','067','\\n',\n",
    "     '2进制，前面加0b修饰，后面使用数字0或1:',0b101010)"
   ]
  },
  {
   "cell_type": "markdown",
   "metadata": {},
   "source": [
    "## 浮点数 Floating Point Numbers"
   ]
  },
  {
   "cell_type": "code",
   "execution_count": 22,
   "metadata": {
    "ExecuteTime": {
     "end_time": "2019-09-02T18:02:33.722936Z",
     "start_time": "2019-09-02T18:02:33.707935Z"
    }
   },
   "outputs": [
    {
     "name": "stdout",
     "output_type": "stream",
     "text": [
      "\n",
      " 加法示例：2.2+3= 5.2 \n",
      " 减法示例：2.2-3.0= -0.7999999999999998 \n",
      " 乘法示例：2*3.0= 6.0 \n",
      " 除法示例：2/3= 0.6666666666666666 \n",
      " 幂指数运算:2**3.0= 8 \n",
      " 取余运算:2%3.0= 2 \n",
      "\n"
     ]
    }
   ],
   "source": [
    "print('\\n','加法示例：2.2+3=',2.2+3,'\\n',\n",
    "      '减法示例：2.2-3.0=',2.2-3.0,'\\n',\n",
    "      '乘法示例：2*3.0=',2*3.0,'\\n',\n",
    "      '除法示例：2/3=',2/3,'\\n',\n",
    "     '幂指数运算:2**3.0=',2**3,'\\n',\n",
    "      '取余运算:2%3.0=',2%3,'\\n')"
   ]
  },
  {
   "cell_type": "code",
   "execution_count": 23,
   "metadata": {
    "ExecuteTime": {
     "end_time": "2019-09-02T18:04:12.245571Z",
     "start_time": "2019-09-02T18:04:12.225570Z"
    }
   },
   "outputs": [
    {
     "data": {
      "text/plain": [
       "0.19999999999999973"
      ]
     },
     "execution_count": 23,
     "metadata": {},
     "output_type": "execute_result"
    }
   ],
   "source": [
    "3.4 - 3.2"
   ]
  },
  {
   "cell_type": "markdown",
   "metadata": {},
   "source": [
    "注意看 3.4 - 3.2 的结果并不是我们预期的0.2，这是因为浮点数本身储存方式引起的，浮点数本身会存在一点误差。\n",
    "\n",
    "事实上，Python 中储存的值为'0.199999999999999733546474089962430298328399658203125'，因为这是最接近0.2的浮点数。"
   ]
  },
  {
   "cell_type": "markdown",
   "metadata": {},
   "source": [
    "## 复数 Complex Numbers"
   ]
  },
  {
   "cell_type": "markdown",
   "metadata": {},
   "source": [
    "Python 使用 `j` 来表示复数的虚部"
   ]
  },
  {
   "cell_type": "code",
   "execution_count": 25,
   "metadata": {
    "ExecuteTime": {
     "end_time": "2019-09-02T18:06:41.228092Z",
     "start_time": "2019-09-02T18:06:41.221092Z"
    }
   },
   "outputs": [
    {
     "data": {
      "text/plain": [
       "complex"
      ]
     },
     "execution_count": 25,
     "metadata": {},
     "output_type": "execute_result"
    }
   ],
   "source": [
    "a = 1 + 2j\n",
    "type(a)"
   ]
  },
  {
   "cell_type": "code",
   "execution_count": 26,
   "metadata": {
    "ExecuteTime": {
     "end_time": "2019-09-02T18:10:54.792595Z",
     "start_time": "2019-09-02T18:10:54.782595Z"
    }
   },
   "outputs": [
    {
     "name": "stdout",
     "output_type": "stream",
     "text": [
      "实部是： 1.0 \n",
      " 虚部是： 2.0 \n",
      " 共轭是： (1-2j) \n",
      "\n"
     ]
    }
   ],
   "source": [
    "print('实部是：',a.real,'\\n',\n",
    "      '虚部是：',a.imag,'\\n',\n",
    "      '共轭是：',a.conjugate(),'\\n'\n",
    "     )"
   ]
  },
  {
   "cell_type": "markdown",
   "metadata": {},
   "source": [
    "## 简单的数学函数"
   ]
  },
  {
   "cell_type": "code",
   "execution_count": 27,
   "metadata": {
    "ExecuteTime": {
     "end_time": "2019-09-02T18:16:32.507911Z",
     "start_time": "2019-09-02T18:16:32.495911Z"
    }
   },
   "outputs": [
    {
     "name": "stdout",
     "output_type": "stream",
     "text": [
      "绝对值函数: 12.4 \n",
      " 小数截取函数： 22 \n",
      " 最小值函数： 2 \n",
      " 最大值函数： 4 \n",
      "\n"
     ]
    }
   ],
   "source": [
    "print('绝对值函数:',abs(-12.4),'\\n',\n",
    "      '小数截取函数：',round(21.6),'\\n',\n",
    "      '最小值函数：',min(2,3,4,5),'\\n',\n",
    "      '最大值函数：',max(2, 4, 3),'\\n')"
   ]
  },
  {
   "cell_type": "markdown",
   "metadata": {},
   "source": [
    "## 布尔型 Boolean Data Type"
   ]
  },
  {
   "cell_type": "markdown",
   "metadata": {},
   "source": [
    "布尔型可以看成特殊的二值变量，其取值为True和False："
   ]
  },
  {
   "cell_type": "code",
   "execution_count": 47,
   "metadata": {
    "ExecuteTime": {
     "end_time": "2019-09-02T18:30:29.674795Z",
     "start_time": "2019-09-02T18:30:29.666794Z"
    }
   },
   "outputs": [
    {
     "data": {
      "text/plain": [
       "bool"
      ]
     },
     "execution_count": 47,
     "metadata": {},
     "output_type": "execute_result"
    }
   ],
   "source": [
    "q = True\n",
    "type(q)"
   ]
  },
  {
   "cell_type": "markdown",
   "metadata": {},
   "source": [
    "常用的比较符号包括：\n",
    "\n",
    "`<, >, <=, >=, ==, !=`"
   ]
  },
  {
   "cell_type": "markdown",
   "metadata": {},
   "source": [
    "Python支持链式比较："
   ]
  },
  {
   "cell_type": "code",
   "execution_count": 48,
   "metadata": {
    "ExecuteTime": {
     "end_time": "2019-09-02T18:31:05.945869Z",
     "start_time": "2019-09-02T18:31:05.936869Z"
    }
   },
   "outputs": [
    {
     "data": {
      "text/plain": [
       "True"
      ]
     },
     "execution_count": 48,
     "metadata": {},
     "output_type": "execute_result"
    }
   ],
   "source": [
    "x = 2 \n",
    "1 < x <= 3"
   ]
  },
  {
   "cell_type": "markdown",
   "metadata": {},
   "source": [
    "## 类型转换"
   ]
  },
  {
   "cell_type": "code",
   "execution_count": 30,
   "metadata": {
    "ExecuteTime": {
     "end_time": "2019-09-02T18:20:07.962235Z",
     "start_time": "2019-09-02T18:20:07.953234Z"
    }
   },
   "outputs": [
    {
     "name": "stdout",
     "output_type": "stream",
     "text": [
      "浮点数转整型: 12 \n",
      " 浮点型转整型: 12.0 \n",
      "\n"
     ]
    }
   ],
   "source": [
    "print('浮点数转整型:',int(12.324),'\\n',\n",
    "      '浮点型转整型:',float(12),'\\n')"
   ]
  }
 ],
 "metadata": {
  "hide_input": false,
  "kernelspec": {
   "display_name": "Python 3",
   "language": "python",
   "name": "python3"
  },
  "language_info": {
   "codemirror_mode": {
    "name": "ipython",
    "version": 3
   },
   "file_extension": ".py",
   "mimetype": "text/x-python",
   "name": "python",
   "nbconvert_exporter": "python",
   "pygments_lexer": "ipython3",
   "version": "3.7.3"
  },
  "toc": {
   "base_numbering": 1,
   "nav_menu": {},
   "number_sections": true,
   "sideBar": true,
   "skip_h1_title": false,
   "title_cell": "Table of Contents",
   "title_sidebar": "Contents",
   "toc_cell": false,
   "toc_position": {
    "height": "calc(100% - 180px)",
    "left": "10px",
    "top": "150px",
    "width": "273.188px"
   },
   "toc_section_display": true,
   "toc_window_display": true
  },
  "varInspector": {
   "cols": {
    "lenName": 16,
    "lenType": 16,
    "lenVar": 40
   },
   "kernels_config": {
    "python": {
     "delete_cmd_postfix": "",
     "delete_cmd_prefix": "del ",
     "library": "var_list.py",
     "varRefreshCmd": "print(var_dic_list())"
    },
    "r": {
     "delete_cmd_postfix": ") ",
     "delete_cmd_prefix": "rm(",
     "library": "var_list.r",
     "varRefreshCmd": "cat(var_dic_list()) "
    }
   },
   "types_to_exclude": [
    "module",
    "function",
    "builtin_function_or_method",
    "instance",
    "_Feature"
   ],
   "window_display": false
  }
 },
 "nbformat": 4,
 "nbformat_minor": 2
}

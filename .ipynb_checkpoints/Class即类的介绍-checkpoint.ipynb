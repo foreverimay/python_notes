{
 "cells": [
  {
   "cell_type": "markdown",
   "metadata": {},
   "source": [
    "# OOP:面向对象编程"
   ]
  },
  {
   "cell_type": "markdown",
   "metadata": {},
   "source": [
    "[OOP的理解](https://zh.wikipedia.org/wiki/%E9%9D%A2%E5%90%91%E5%AF%B9%E8%B1%A1%E7%A8%8B%E5%BA%8F%E8%AE%BE%E8%AE%A1)"
   ]
  },
  {
   "cell_type": "markdown",
   "metadata": {},
   "source": [
    "- 构建自己的类型来模拟真实世界的对象\n",
    "- 处理抽象对象\n",
    "- 容易复用和扩展\n",
    "- 理解其他 OPP 代码\n",
    "- GUI 通常使用 OPP 规则编写\n",
    "- ..."
   ]
  },
  {
   "cell_type": "markdown",
   "metadata": {},
   "source": [
    "## 一个类的案例：使用 OOP 对森林火灾建模"
   ]
  },
  {
   "cell_type": "code",
   "execution_count": 35,
   "metadata": {
    "ExecuteTime": {
     "end_time": "2019-11-06T17:06:53.731159Z",
     "start_time": "2019-11-06T17:06:53.203647Z"
    }
   },
   "outputs": [],
   "source": [
    "%matplotlib inline\n",
    "\n",
    "import matplotlib.pyplot as plt\n",
    "import numpy as np"
   ]
  },
  {
   "cell_type": "markdown",
   "metadata": {},
   "source": [
    "### 对森林建模"
   ]
  },
  {
   "cell_type": "code",
   "execution_count": 36,
   "metadata": {
    "ExecuteTime": {
     "end_time": "2019-11-06T17:07:17.304729Z",
     "start_time": "2019-11-06T17:07:17.134225Z"
    }
   },
   "outputs": [],
   "source": [
    "class Forest(object):\n",
    "    def __init__(self, size=(150, 150), p_sapling=0.0025, p_lightning=5.e-6, name=None):\n",
    "        self.size = size\n",
    "        self.trees = np.zeros(self.size, dtype=bool)\n",
    "        self.forest_fires = np.zeros(self.size, dtype=bool)\n",
    "        self.p_sapling = p_sapling\n",
    "        self.p_lightning = p_lightning\n",
    "        if name is not None:\n",
    "            self.name = name\n",
    "        else:\n",
    "            self.name = self.__class__.__name__\n",
    "\n",
    "    @property\n",
    "    def num_cells(self):\n",
    "        return self.size[0] * self.size[1]\n",
    "\n",
    "    @property\n",
    "    def tree_fraction(self):\n",
    "        return self.trees.sum() / float(self.num_cells)\n",
    "\n",
    "    @property\n",
    "    def fire_fraction(self):\n",
    "        return self.forest_fires.sum() / float(self.num_cells)\n",
    "\n",
    "    def advance_one_step(self):\n",
    "        self.grow_trees()\n",
    "        self.start_fires()\n",
    "        self.burn_trees()\n",
    "\n",
    "    def grow_trees(self):\n",
    "        growth_sites = self._rand_bool(self.p_sapling)\n",
    "        self.trees[growth_sites] = True\n",
    "\n",
    "    def start_fires(self):\n",
    "        lightning_strikes = (self._rand_bool(self.p_lightning) & \n",
    "            self.trees)\n",
    "        self.forest_fires[lightning_strikes] = True\n",
    "        \n",
    "    def burn_trees(self):\n",
    "        fires = np.zeros((self.size[0] + 2, self.size[1] + 2), dtype=bool)\n",
    "        fires[1:-1, 1:-1] = self.forest_fires\n",
    "        north = fires[:-2, 1:-1]\n",
    "        south = fires[2:, 1:-1]\n",
    "        east = fires[1:-1, :-2]\n",
    "        west = fires[1:-1, 2:]\n",
    "        new_fires = (north | south | east | west) & self.trees\n",
    "        self.trees[self.forest_fires] = False\n",
    "        self.forest_fires = new_fires\n",
    "\n",
    "    def _rand_bool(self, p):\n",
    "        return np.random.uniform(size=self.trees.shape) < p"
   ]
  },
  {
   "cell_type": "markdown",
   "metadata": {},
   "source": [
    "定义一个森林类之后，我们创建一个新的森林类对象："
   ]
  },
  {
   "cell_type": "code",
   "execution_count": 37,
   "metadata": {
    "ExecuteTime": {
     "end_time": "2019-11-06T17:07:37.432468Z",
     "start_time": "2019-11-06T17:07:37.414968Z"
    }
   },
   "outputs": [],
   "source": [
    "forest = Forest()"
   ]
  },
  {
   "cell_type": "code",
   "execution_count": 38,
   "metadata": {
    "ExecuteTime": {
     "end_time": "2019-11-06T17:07:59.483785Z",
     "start_time": "2019-11-06T17:07:59.463785Z"
    }
   },
   "outputs": [
    {
     "name": "stdout",
     "output_type": "stream",
     "text": [
      "[[False False False ... False False False]\n",
      " [False False False ... False False False]\n",
      " [False False False ... False False False]\n",
      " ...\n",
      " [False False False ... False False False]\n",
      " [False False False ... False False False]\n",
      " [False False False ... False False False]]\n"
     ]
    }
   ],
   "source": [
    "# 显示当前的状态：\n",
    "print (forest.trees)"
   ]
  },
  {
   "cell_type": "code",
   "execution_count": 39,
   "metadata": {
    "ExecuteTime": {
     "end_time": "2019-11-06T17:08:20.383503Z",
     "start_time": "2019-11-06T17:08:20.366502Z"
    }
   },
   "outputs": [
    {
     "name": "stdout",
     "output_type": "stream",
     "text": [
      "[[False False False ... False False False]\n",
      " [False False False ... False False False]\n",
      " [False False False ... False False False]\n",
      " ...\n",
      " [False False False ... False False False]\n",
      " [False False False ... False False False]\n",
      " [False False False ... False False False]]\n"
     ]
    }
   ],
   "source": [
    "print (forest.forest_fires)"
   ]
  },
  {
   "cell_type": "markdown",
   "metadata": {},
   "source": [
    "使用 `matshow` 进行可视化："
   ]
  },
  {
   "cell_type": "code",
   "execution_count": 40,
   "metadata": {
    "ExecuteTime": {
     "end_time": "2019-11-06T17:08:42.816886Z",
     "start_time": "2019-11-06T17:08:42.600884Z"
    }
   },
   "outputs": [
    {
     "data": {
      "image/png": "[encoded data removed]",
      "text/plain": [
       "<Figure size 288x288 with 1 Axes>"
      ]
     },
     "metadata": {
      "needs_background": "light"
     },
     "output_type": "display_data"
    }
   ],
   "source": [
    "plt.matshow(forest.trees, cmap=plt.cm.Greens)\n",
    "\n",
    "plt.show()"
   ]
  },
  {
   "cell_type": "markdown",
   "metadata": {},
   "source": [
    "### 模拟森林生长和火灾的过程"
   ]
  },
  {
   "cell_type": "code",
   "execution_count": 41,
   "metadata": {
    "ExecuteTime": {
     "end_time": "2019-11-06T17:09:21.269801Z",
     "start_time": "2019-11-06T17:09:21.079799Z"
    }
   },
   "outputs": [
    {
     "data": {
      "image/png": "[encoded data removed]",
      "text/plain": [
       "<Figure size 288x288 with 1 Axes>"
      ]
     },
     "metadata": {
      "needs_background": "light"
     },
     "output_type": "display_data"
    }
   ],
   "source": [
    "# 经过一段时间：\n",
    "forest.advance_one_step()\n",
    "plt.matshow(forest.trees, cmap=plt.cm.Greens)\n",
    "plt.show()"
   ]
  },
  {
   "cell_type": "code",
   "execution_count": 42,
   "metadata": {
    "ExecuteTime": {
     "end_time": "2019-11-06T17:09:40.299134Z",
     "start_time": "2019-11-06T17:09:39.741129Z"
    }
   },
   "outputs": [
    {
     "name": "stdout",
     "output_type": "stream",
     "text": [
      "0.23004444444444444\n"
     ]
    },
    {
     "data": {
      "image/png": "[encoded data removed]",
      "text/plain": [
       "<Figure size 288x288 with 1 Axes>"
      ]
     },
     "metadata": {
      "needs_background": "light"
     },
     "output_type": "display_data"
    }
   ],
   "source": [
    "# 循环很长时间：\n",
    "for i in range(500):\n",
    "    forest.advance_one_step()\n",
    "plt.matshow(forest.trees, cmap=plt.cm.Greens)\n",
    "print (forest.tree_fraction)"
   ]
  },
  {
   "cell_type": "code",
   "execution_count": 43,
   "metadata": {
    "ExecuteTime": {
     "end_time": "2019-11-06T17:10:02.211076Z",
     "start_time": "2019-11-06T17:09:57.934524Z"
    }
   },
   "outputs": [
    {
     "data": {
      "image/png": "[encoded data removed]",
      "text/plain": [
       "<Figure size 432x288 with 2 Axes>"
      ]
     },
     "metadata": {
      "needs_background": "light"
     },
     "output_type": "display_data"
    }
   ],
   "source": [
    "# 迭代更长时间：\n",
    "forest = Forest()\n",
    "tree_fractions = []\n",
    "for i in range(5000):\n",
    "    forest.advance_one_step()\n",
    "    tree_fractions.append(forest.tree_fraction)\n",
    "fig = plt.figure()\n",
    "ax0 = fig.add_subplot(1,2,1)\n",
    "ax0.matshow(forest.trees, cmap=plt.cm.Greens)\n",
    "ax1 = fig.add_subplot(1,2,2)\n",
    "ax1.plot(tree_fractions)\n",
    "\n",
    "plt.show()"
   ]
  },
  {
   "cell_type": "markdown",
   "metadata": {},
   "source": [
    "## 什么是对象？"
   ]
  },
  {
   "cell_type": "markdown",
   "metadata": {},
   "source": [
    "在 `Python` 中，几乎所有的东西都是对象。\n",
    "\n",
    "整数是对象："
   ]
  },
  {
   "cell_type": "code",
   "execution_count": 3,
   "metadata": {
    "ExecuteTime": {
     "end_time": "2019-11-06T16:44:56.457270Z",
     "start_time": "2019-11-06T16:44:56.427270Z"
    }
   },
   "outputs": [
    {
     "data": {
      "text/plain": [
       "int"
      ]
     },
     "execution_count": 3,
     "metadata": {},
     "output_type": "execute_result"
    }
   ],
   "source": [
    "a = 257\n",
    "type(a)"
   ]
  },
  {
   "cell_type": "code",
   "execution_count": 4,
   "metadata": {
    "ExecuteTime": {
     "end_time": "2019-11-06T16:45:06.206506Z",
     "start_time": "2019-11-06T16:45:06.186506Z"
    }
   },
   "outputs": [
    {
     "data": {
      "text/plain": [
       "88627056"
      ]
     },
     "execution_count": 4,
     "metadata": {},
     "output_type": "execute_result"
    }
   ],
   "source": [
    "id(a)"
   ]
  },
  {
   "cell_type": "markdown",
   "metadata": {},
   "source": [
    "`b` 和 `a` 是同一个对象："
   ]
  },
  {
   "cell_type": "code",
   "execution_count": 5,
   "metadata": {
    "ExecuteTime": {
     "end_time": "2019-11-06T16:45:28.689403Z",
     "start_time": "2019-11-06T16:45:28.671402Z"
    }
   },
   "outputs": [
    {
     "data": {
      "text/plain": [
       "88627056"
      ]
     },
     "execution_count": 5,
     "metadata": {},
     "output_type": "execute_result"
    }
   ],
   "source": [
    "b=a\n",
    "id(b)"
   ]
  },
  {
   "cell_type": "markdown",
   "metadata": {},
   "source": [
    "函数："
   ]
  },
  {
   "cell_type": "code",
   "execution_count": 6,
   "metadata": {
    "ExecuteTime": {
     "end_time": "2019-11-06T16:45:54.815933Z",
     "start_time": "2019-11-06T16:45:54.795931Z"
    }
   },
   "outputs": [
    {
     "data": {
      "text/plain": [
       "function"
      ]
     },
     "execution_count": 6,
     "metadata": {},
     "output_type": "execute_result"
    }
   ],
   "source": [
    "def foo():\n",
    "    print(1)\n",
    "\n",
    "type(foo)"
   ]
  },
  {
   "cell_type": "code",
   "execution_count": 7,
   "metadata": {
    "ExecuteTime": {
     "end_time": "2019-11-06T16:46:01.417310Z",
     "start_time": "2019-11-06T16:46:01.399309Z"
    }
   },
   "outputs": [
    {
     "data": {
      "text/plain": [
       "91065200"
      ]
     },
     "execution_count": 7,
     "metadata": {},
     "output_type": "execute_result"
    }
   ],
   "source": [
    "id(foo)"
   ]
  },
  {
   "cell_type": "markdown",
   "metadata": {},
   "source": [
    "`type` 函数本身也是对象："
   ]
  },
  {
   "cell_type": "code",
   "execution_count": 8,
   "metadata": {
    "ExecuteTime": {
     "end_time": "2019-11-06T16:46:30.152011Z",
     "start_time": "2019-11-06T16:46:30.134010Z"
    }
   },
   "outputs": [
    {
     "data": {
      "text/plain": [
       "type"
      ]
     },
     "execution_count": 8,
     "metadata": {},
     "output_type": "execute_result"
    }
   ],
   "source": [
    "type(type)"
   ]
  },
  {
   "cell_type": "code",
   "execution_count": 9,
   "metadata": {
    "ExecuteTime": {
     "end_time": "2019-11-06T16:46:32.363137Z",
     "start_time": "2019-11-06T16:46:32.343136Z"
    }
   },
   "outputs": [
    {
     "data": {
      "text/plain": [
       "8791226862496"
      ]
     },
     "execution_count": 9,
     "metadata": {},
     "output_type": "execute_result"
    }
   ],
   "source": [
    "id(type)"
   ]
  },
  {
   "cell_type": "markdown",
   "metadata": {},
   "source": [
    "只有一些保留的关键词不是对象："
   ]
  },
  {
   "cell_type": "code",
   "execution_count": 10,
   "metadata": {
    "ExecuteTime": {
     "end_time": "2019-11-06T16:46:46.786879Z",
     "start_time": "2019-11-06T16:46:46.776879Z"
    }
   },
   "outputs": [
    {
     "ename": "SyntaxError",
     "evalue": "invalid syntax (<ipython-input-10-f7af22456537>, line 1)",
     "output_type": "error",
     "traceback": [
      "\u001b[1;36m  File \u001b[1;32m\"<ipython-input-10-f7af22456537>\"\u001b[1;36m, line \u001b[1;32m1\u001b[0m\n\u001b[1;33m    type(else)\u001b[0m\n\u001b[1;37m            ^\u001b[0m\n\u001b[1;31mSyntaxError\u001b[0m\u001b[1;31m:\u001b[0m invalid syntax\n"
     ]
    }
   ],
   "source": [
    "type(else)"
   ]
  },
  {
   "cell_type": "markdown",
   "metadata": {},
   "source": [
    "## 定义 class"
   ]
  },
  {
   "cell_type": "markdown",
   "metadata": {},
   "source": [
    "### 基本形式"
   ]
  },
  {
   "cell_type": "markdown",
   "metadata": {},
   "source": [
    "`class` 定义如下：\n",
    "\n",
    "```python\n",
    "class ClassName(ParentClass):\n",
    "    \"\"\"class docstring\"\"\"\n",
    "    def method(self):\n",
    "        return\n",
    "```\n",
    "\n",
    "- `class` 关键词在最前面\n",
    "- `ClassName` 通常采用 `CamelCase` 记法\n",
    "- 括号中的 `ParentClass` 用来表示继承关系\n",
    "- 冒号不能缺少\n",
    "- `\"\"\"\"\"\"` 中的内容表示 `docstring`，可以省略\n",
    "- 方法定义与函数定义十分类似，不过多了一个 `self` 参数表示这个对象本身\n",
    "- `class` 中的方法要进行缩进"
   ]
  },
  {
   "cell_type": "code",
   "execution_count": 20,
   "metadata": {
    "ExecuteTime": {
     "end_time": "2019-11-06T16:51:30.647550Z",
     "start_time": "2019-11-06T16:51:30.632549Z"
    }
   },
   "outputs": [],
   "source": [
    "class Forest(object):\n",
    "    \"\"\" Forest can grow trees which eventually die.\"\"\"\n",
    "    pass\n",
    "    def chen_t():\n",
    "        return 1"
   ]
  },
  {
   "cell_type": "markdown",
   "metadata": {},
   "source": [
    "其中 `object` 是[最基本的类型](https://my.oschina.net/zhengtong0898/blog/636468)。\n",
    "\n",
    "查看帮助："
   ]
  },
  {
   "cell_type": "code",
   "execution_count": 21,
   "metadata": {
    "ExecuteTime": {
     "end_time": "2019-11-06T16:51:31.480597Z",
     "start_time": "2019-11-06T16:51:31.463596Z"
    }
   },
   "outputs": [
    {
     "name": "stdout",
     "output_type": "stream",
     "text": [
      " Forest()\n",
      "\n",
      "Forest can grow trees which eventually die.\n",
      "\n",
      "\n",
      "Methods:\n",
      "\n",
      "  chen_t  --  None\n"
     ]
    }
   ],
   "source": [
    "import numpy as np\n",
    "np.info(Forest)"
   ]
  },
  {
   "cell_type": "code",
   "execution_count": 22,
   "metadata": {
    "ExecuteTime": {
     "end_time": "2019-11-06T16:51:34.121748Z",
     "start_time": "2019-11-06T16:51:34.102747Z"
    }
   },
   "outputs": [
    {
     "data": {
      "text/plain": [
       "<__main__.Forest at 0x54dc160>"
      ]
     },
     "execution_count": 22,
     "metadata": {},
     "output_type": "execute_result"
    }
   ],
   "source": [
    "forest = Forest()\n",
    "forest"
   ]
  },
  {
   "cell_type": "markdown",
   "metadata": {},
   "source": [
    "### 添加属性和方法"
   ]
  },
  {
   "cell_type": "markdown",
   "metadata": {},
   "source": [
    "* 属性：属性是与对象绑定的一组数据，可以只读，只写，或者读写，使用时不加括号;\n",
    "* 方法：方法是与属性绑定的一组函数，需要使用括号，作用于对象本身。"
   ]
  },
  {
   "cell_type": "markdown",
   "metadata": {
    "ExecuteTime": {
     "end_time": "2019-11-06T16:57:44.607639Z",
     "start_time": "2019-11-06T16:57:44.588638Z"
    }
   },
   "source": [
    "可以直接添加属性（有更好的替代方式）："
   ]
  },
  {
   "cell_type": "code",
   "execution_count": 28,
   "metadata": {
    "ExecuteTime": {
     "end_time": "2019-11-06T16:59:50.014634Z",
     "start_time": "2019-11-06T16:59:50.004634Z"
    }
   },
   "outputs": [],
   "source": [
    "forest.trees = np.zeros((150, 150), dtype=bool)"
   ]
  },
  {
   "cell_type": "code",
   "execution_count": 29,
   "metadata": {
    "ExecuteTime": {
     "end_time": "2019-11-06T16:59:54.833284Z",
     "start_time": "2019-11-06T16:59:54.813283Z"
    }
   },
   "outputs": [
    {
     "data": {
      "text/plain": [
       "array([[False, False, False, ..., False, False, False],\n",
       "       [False, False, False, ..., False, False, False],\n",
       "       [False, False, False, ..., False, False, False],\n",
       "       ...,\n",
       "       [False, False, False, ..., False, False, False],\n",
       "       [False, False, False, ..., False, False, False],\n",
       "       [False, False, False, ..., False, False, False]])"
      ]
     },
     "execution_count": 29,
     "metadata": {},
     "output_type": "execute_result"
    }
   ],
   "source": [
    "forest.trees"
   ]
  },
  {
   "cell_type": "code",
   "execution_count": 30,
   "metadata": {
    "ExecuteTime": {
     "end_time": "2019-11-06T17:00:28.602765Z",
     "start_time": "2019-11-06T17:00:28.589264Z"
    }
   },
   "outputs": [],
   "source": [
    "forest2 = Forest()"
   ]
  },
  {
   "cell_type": "markdown",
   "metadata": {},
   "source": [
    "`forest2` 没有这个属性："
   ]
  },
  {
   "cell_type": "code",
   "execution_count": 31,
   "metadata": {
    "ExecuteTime": {
     "end_time": "2019-11-06T17:00:44.653448Z",
     "start_time": "2019-11-06T17:00:44.623448Z"
    }
   },
   "outputs": [
    {
     "ename": "AttributeError",
     "evalue": "'Forest' object has no attribute 'trees'",
     "output_type": "error",
     "traceback": [
      "\u001b[1;31m---------------------------------------------------------------------------\u001b[0m",
      "\u001b[1;31mAttributeError\u001b[0m                            Traceback (most recent call last)",
      "\u001b[1;32m<ipython-input-31-3df08e6a8b5b>\u001b[0m in \u001b[0;36m<module>\u001b[1;34m()\u001b[0m\n\u001b[1;32m----> 1\u001b[1;33m \u001b[0mforest2\u001b[0m\u001b[1;33m.\u001b[0m\u001b[0mtrees\u001b[0m\u001b[1;33m\u001b[0m\u001b[1;33m\u001b[0m\u001b[0m\n\u001b[0m",
      "\u001b[1;31mAttributeError\u001b[0m: 'Forest' object has no attribute 'trees'"
     ]
    }
   ],
   "source": [
    "forest2.trees"
   ]
  },
  {
   "cell_type": "markdown",
   "metadata": {},
   "source": [
    "添加方法时，默认第一个参数是对象本身，一般为 `self`，可能用到也可能用不到，然后才是其他的参数："
   ]
  },
  {
   "cell_type": "code",
   "execution_count": 33,
   "metadata": {
    "ExecuteTime": {
     "end_time": "2019-11-06T17:01:29.923428Z",
     "start_time": "2019-11-06T17:01:29.902427Z"
    }
   },
   "outputs": [],
   "source": [
    "class Forest(object):\n",
    "    \"\"\" Forest can grow trees which eventually die.\"\"\"\n",
    "    def grow(self):\n",
    "        print (\"the tree is growing!\")\n",
    "        \n",
    "    def number(self, num=1):\n",
    "        if num == 1:\n",
    "            print ('there is 1 tree.')\n",
    "        else:\n",
    "            print ('there are', num, 'trees.')"
   ]
  },
  {
   "cell_type": "code",
   "execution_count": 34,
   "metadata": {
    "ExecuteTime": {
     "end_time": "2019-11-06T17:01:46.222743Z",
     "start_time": "2019-11-06T17:01:46.197743Z"
    }
   },
   "outputs": [
    {
     "name": "stdout",
     "output_type": "stream",
     "text": [
      "the tree is growing!\n",
      "there are 12 trees.\n"
     ]
    }
   ],
   "source": [
    "forest = Forest()\n",
    "\n",
    "forest.grow()\n",
    "forest.number(12)"
   ]
  },
  {
   "cell_type": "markdown",
   "metadata": {},
   "source": [
    "## 特殊方法"
   ]
  },
  {
   "cell_type": "markdown",
   "metadata": {},
   "source": [
    "**Python** 使用 `__` 开头的名字来定义特殊的方法和属性，它们有：\n",
    "\n",
    "- `__init__()`\n",
    "- `__repr__()`\n",
    "- `__str__()`\n",
    "- `__call__()`\n",
    "- `__iter__()`\n",
    "- `__add__()`\n",
    "- `__sub__()`\n",
    "- `__mul__()`\n",
    "- `__rmul__()`\n",
    "- `__class__`\n",
    "- `__name__`"
   ]
  },
  {
   "cell_type": "markdown",
   "metadata": {},
   "source": [
    "### 构造方法 `__init__()`"
   ]
  },
  {
   "cell_type": "markdown",
   "metadata": {},
   "source": [
    "之前说到，在产生对象之后，我们可以向对象中添加属性。事实上，还可以通过构造方法，在构造对象的时候直接添加属性："
   ]
  },
  {
   "cell_type": "code",
   "execution_count": 44,
   "metadata": {
    "ExecuteTime": {
     "end_time": "2019-11-06T17:14:48.320730Z",
     "start_time": "2019-11-06T17:14:48.300730Z"
    }
   },
   "outputs": [],
   "source": [
    "class Leaf(object):\n",
    "    \"\"\"\n",
    "    A leaf falling in the woods.\n",
    "    \"\"\"\n",
    "    def __init__(self, color='green'):\n",
    "        self.color = color"
   ]
  },
  {
   "cell_type": "code",
   "execution_count": 45,
   "metadata": {
    "ExecuteTime": {
     "end_time": "2019-11-06T17:15:06.647009Z",
     "start_time": "2019-11-06T17:15:06.627009Z"
    }
   },
   "outputs": [
    {
     "name": "stdout",
     "output_type": "stream",
     "text": [
      "green\n"
     ]
    }
   ],
   "source": [
    "# 默认属性值：\n",
    "leaf1 = Leaf()\n",
    "\n",
    "print (leaf1.color)"
   ]
  },
  {
   "cell_type": "code",
   "execution_count": 46,
   "metadata": {
    "ExecuteTime": {
     "end_time": "2019-11-06T17:15:30.453362Z",
     "start_time": "2019-11-06T17:15:30.433362Z"
    }
   },
   "outputs": [
    {
     "name": "stdout",
     "output_type": "stream",
     "text": [
      "orange\n"
     ]
    }
   ],
   "source": [
    "# 传入有参数的值：\n",
    "leaf2 = Leaf('orange')\n",
    "\n",
    "print (leaf2.color)"
   ]
  },
  {
   "cell_type": "markdown",
   "metadata": {},
   "source": [
    "回到森林的例子："
   ]
  },
  {
   "cell_type": "code",
   "execution_count": 47,
   "metadata": {
    "ExecuteTime": {
     "end_time": "2019-11-06T17:15:54.898187Z",
     "start_time": "2019-11-06T17:15:54.875687Z"
    }
   },
   "outputs": [],
   "source": [
    "import numpy as np\n",
    "\n",
    "class Forest(object):\n",
    "    \"\"\" Forest can grow trees which eventually die.\"\"\"\n",
    "    def __init__(self):\n",
    "        self.trees = np.zeros((150,150), dtype=bool)\n",
    "        self.fires = np.zeros((150,150), dtype=bool)"
   ]
  },
  {
   "cell_type": "markdown",
   "metadata": {},
   "source": [
    "我们在构造方法中定义了两个属性 `trees` 和 `fires`："
   ]
  },
  {
   "cell_type": "code",
   "execution_count": 48,
   "metadata": {
    "ExecuteTime": {
     "end_time": "2019-11-06T17:16:08.575446Z",
     "start_time": "2019-11-06T17:16:08.545446Z"
    }
   },
   "outputs": [
    {
     "data": {
      "text/plain": [
       "array([[False, False, False, ..., False, False, False],\n",
       "       [False, False, False, ..., False, False, False],\n",
       "       [False, False, False, ..., False, False, False],\n",
       "       ...,\n",
       "       [False, False, False, ..., False, False, False],\n",
       "       [False, False, False, ..., False, False, False],\n",
       "       [False, False, False, ..., False, False, False]])"
      ]
     },
     "execution_count": 48,
     "metadata": {},
     "output_type": "execute_result"
    }
   ],
   "source": [
    "forest = Forest()\n",
    "\n",
    "forest.trees"
   ]
  },
  {
   "cell_type": "code",
   "execution_count": 49,
   "metadata": {
    "ExecuteTime": {
     "end_time": "2019-11-06T17:20:09.548066Z",
     "start_time": "2019-11-06T17:20:09.540566Z"
    }
   },
   "outputs": [
    {
     "data": {
      "text/plain": [
       "array([[False, False, False, ..., False, False, False],\n",
       "       [False, False, False, ..., False, False, False],\n",
       "       [False, False, False, ..., False, False, False],\n",
       "       ...,\n",
       "       [False, False, False, ..., False, False, False],\n",
       "       [False, False, False, ..., False, False, False],\n",
       "       [False, False, False, ..., False, False, False]])"
      ]
     },
     "execution_count": 49,
     "metadata": {},
     "output_type": "execute_result"
    }
   ],
   "source": [
    "forest.fires"
   ]
  },
  {
   "cell_type": "code",
   "execution_count": 50,
   "metadata": {
    "ExecuteTime": {
     "end_time": "2019-11-06T17:20:23.678254Z",
     "start_time": "2019-11-06T17:20:23.653254Z"
    }
   },
   "outputs": [
    {
     "data": {
      "text/plain": [
       "array([[ True, False, False, ..., False, False, False],\n",
       "       [False, False, False, ..., False, False, False],\n",
       "       [False, False, False, ..., False, False, False],\n",
       "       ...,\n",
       "       [False, False, False, ..., False, False, False],\n",
       "       [False, False, False, ..., False, False, False],\n",
       "       [False, False, False, ..., False, False, False]])"
      ]
     },
     "execution_count": 50,
     "metadata": {},
     "output_type": "execute_result"
    }
   ],
   "source": [
    "# 修改属性的值：\n",
    "forest.trees[0,0]=True\n",
    "forest.trees"
   ]
  },
  {
   "cell_type": "markdown",
   "metadata": {},
   "source": [
    "改变它的属性值不会影响其他对象的属性值："
   ]
  },
  {
   "cell_type": "code",
   "execution_count": 51,
   "metadata": {
    "ExecuteTime": {
     "end_time": "2019-11-06T17:20:40.124499Z",
     "start_time": "2019-11-06T17:20:40.094499Z"
    }
   },
   "outputs": [
    {
     "data": {
      "text/plain": [
       "array([[False, False, False, ..., False, False, False],\n",
       "       [False, False, False, ..., False, False, False],\n",
       "       [False, False, False, ..., False, False, False],\n",
       "       ...,\n",
       "       [False, False, False, ..., False, False, False],\n",
       "       [False, False, False, ..., False, False, False],\n",
       "       [False, False, False, ..., False, False, False]])"
      ]
     },
     "execution_count": 51,
     "metadata": {},
     "output_type": "execute_result"
    }
   ],
   "source": [
    "forest2 = Forest()\n",
    "\n",
    "forest2.trees"
   ]
  },
  {
   "cell_type": "markdown",
   "metadata": {},
   "source": [
    "事实上，`__new__()` 才是真正产生新对象的方法，`__init__()` 只是对对象进行了初始化，所以：\n",
    "\n",
    "```python\n",
    "leaf = Leaf()\n",
    "```\n",
    "\n",
    "相当于\n",
    "\n",
    "```python\n",
    "my_new_leaf = Leaf.__new__(Leaf)\n",
    "Leaf.__init__(my_new_leaf)\n",
    "leaf = my_new_leaf\n",
    "```"
   ]
  },
  {
   "cell_type": "markdown",
   "metadata": {},
   "source": [
    "### 表示方法 `__repr__()` 和 `__str__()`"
   ]
  },
  {
   "cell_type": "code",
   "execution_count": 52,
   "metadata": {
    "ExecuteTime": {
     "end_time": "2019-11-06T17:22:05.635369Z",
     "start_time": "2019-11-06T17:22:05.607869Z"
    }
   },
   "outputs": [],
   "source": [
    "class Leaf(object):\n",
    "    \"\"\"\n",
    "    A leaf falling in the woods.\n",
    "    \"\"\"\n",
    "    def __init__(self, color='green'):\n",
    "        self.color = color\n",
    "    def __str__(self):\n",
    "        \"This is the string that is printed.\"\n",
    "        return \"A {} leaf\".format(self.color)\n",
    "    def __repr__(self):\n",
    "        \"This string recreates the object.\"\n",
    "        return \"{}(color='{}')\".format(self.__class__.__name__, self.color)"
   ]
  },
  {
   "cell_type": "markdown",
   "metadata": {},
   "source": [
    "`__str__()` 是使用 `print` 函数显示的结果："
   ]
  },
  {
   "cell_type": "code",
   "execution_count": 53,
   "metadata": {
    "ExecuteTime": {
     "end_time": "2019-11-06T17:22:27.236165Z",
     "start_time": "2019-11-06T17:22:27.206165Z"
    }
   },
   "outputs": [
    {
     "name": "stdout",
     "output_type": "stream",
     "text": [
      "A green leaf\n"
     ]
    }
   ],
   "source": [
    "leaf = Leaf()\n",
    "\n",
    "print (leaf)"
   ]
  },
  {
   "cell_type": "markdown",
   "metadata": {},
   "source": [
    "`__repr__()` 返回的是不使用 `print` 方法的结果："
   ]
  },
  {
   "cell_type": "code",
   "execution_count": 54,
   "metadata": {
    "ExecuteTime": {
     "end_time": "2019-11-06T17:23:26.993701Z",
     "start_time": "2019-11-06T17:23:26.963701Z"
    }
   },
   "outputs": [
    {
     "data": {
      "text/plain": [
       "Leaf(color='green')"
      ]
     },
     "execution_count": 54,
     "metadata": {},
     "output_type": "execute_result"
    }
   ],
   "source": [
    "leaf"
   ]
  },
  {
   "cell_type": "markdown",
   "metadata": {},
   "source": [
    "回到森林的例子："
   ]
  },
  {
   "cell_type": "code",
   "execution_count": 55,
   "metadata": {
    "ExecuteTime": {
     "end_time": "2019-11-06T17:23:42.326393Z",
     "start_time": "2019-11-06T17:23:42.288892Z"
    }
   },
   "outputs": [],
   "source": [
    "import numpy as np\n",
    "\n",
    "class Forest(object):\n",
    "    \"\"\" Forest can grow trees which eventually die.\"\"\"\n",
    "    def __init__(self, size=(150,150)):\n",
    "        self.size = size\n",
    "        self.trees = np.zeros(self.size, dtype=bool)\n",
    "        self.fires = np.zeros((self.size), dtype=bool)\n",
    "        \n",
    "    def __repr__(self):\n",
    "        my_repr = \"{}(size={})\".format(self.__class__.__name__, self.size)\n",
    "        return my_repr\n",
    "    \n",
    "    def __str__(self):\n",
    "        return self.__class__.__name__"
   ]
  },
  {
   "cell_type": "code",
   "execution_count": 56,
   "metadata": {
    "ExecuteTime": {
     "end_time": "2019-11-06T17:23:51.745002Z",
     "start_time": "2019-11-06T17:23:51.730002Z"
    }
   },
   "outputs": [],
   "source": [
    "forest = Forest()"
   ]
  },
  {
   "cell_type": "markdown",
   "metadata": {},
   "source": [
    "`__str__()` 方法："
   ]
  },
  {
   "cell_type": "code",
   "execution_count": 57,
   "metadata": {
    "ExecuteTime": {
     "end_time": "2019-11-06T17:24:04.408140Z",
     "start_time": "2019-11-06T17:24:04.388140Z"
    }
   },
   "outputs": [
    {
     "name": "stdout",
     "output_type": "stream",
     "text": [
      "Forest\n"
     ]
    }
   ],
   "source": [
    "print(forest)"
   ]
  },
  {
   "cell_type": "markdown",
   "metadata": {},
   "source": [
    "`__repr__()` 方法："
   ]
  },
  {
   "cell_type": "code",
   "execution_count": 58,
   "metadata": {
    "ExecuteTime": {
     "end_time": "2019-11-06T17:24:32.727181Z",
     "start_time": "2019-11-06T17:24:32.704681Z"
    }
   },
   "outputs": [
    {
     "data": {
      "text/plain": [
       "Forest(size=(150, 150))"
      ]
     },
     "execution_count": 58,
     "metadata": {},
     "output_type": "execute_result"
    }
   ],
   "source": [
    "forest"
   ]
  },
  {
   "cell_type": "markdown",
   "metadata": {},
   "source": [
    "`__name__` 和 `__class__` 为特殊的属性："
   ]
  },
  {
   "cell_type": "code",
   "execution_count": 59,
   "metadata": {
    "ExecuteTime": {
     "end_time": "2019-11-06T17:24:57.467855Z",
     "start_time": "2019-11-06T17:24:57.457855Z"
    }
   },
   "outputs": [
    {
     "data": {
      "text/plain": [
       "__main__.Forest"
      ]
     },
     "execution_count": 59,
     "metadata": {},
     "output_type": "execute_result"
    }
   ],
   "source": [
    "forest.__class__"
   ]
  },
  {
   "cell_type": "code",
   "execution_count": 61,
   "metadata": {
    "ExecuteTime": {
     "end_time": "2019-11-06T17:25:19.297133Z",
     "start_time": "2019-11-06T17:25:19.284633Z"
    }
   },
   "outputs": [
    {
     "data": {
      "text/plain": [
       "'Forest'"
      ]
     },
     "execution_count": 61,
     "metadata": {},
     "output_type": "execute_result"
    }
   ],
   "source": [
    "# forest实例对应的类的名字\n",
    "forest.__class__.__name__"
   ]
  },
  {
   "cell_type": "markdown",
   "metadata": {},
   "source": [
    "### 特殊方法 `__class__`"
   ]
  },
  {
   "cell_type": "markdown",
   "metadata": {
    "ExecuteTime": {
     "end_time": "2019-11-06T17:28:10.530925Z",
     "start_time": "2019-11-06T17:28:10.514924Z"
    }
   },
   "source": [
    "通过 `__class__` 可以实现实例之间的通信，也就是说 `__class__` 属于通用的类本身的方法。"
   ]
  },
  {
   "cell_type": "markdown",
   "metadata": {},
   "source": [
    "当一个类中的某个成员变量是所有该类的对象的公共变量时,可以用到__class__。\n",
    "\n",
    "[参考](https://luobuda.github.io/2015/01/16/python-class/)"
   ]
  },
  {
   "cell_type": "code",
   "execution_count": 75,
   "metadata": {
    "ExecuteTime": {
     "end_time": "2019-11-06T17:30:05.355988Z",
     "start_time": "2019-11-06T17:30:05.340987Z"
    }
   },
   "outputs": [],
   "source": [
    "class A(object):\n",
    "    count = 0\n",
    "    def __init__(self):\n",
    "        self.__class__.count += 1"
   ]
  },
  {
   "cell_type": "code",
   "execution_count": 76,
   "metadata": {
    "ExecuteTime": {
     "end_time": "2019-11-06T17:30:05.873018Z",
     "start_time": "2019-11-06T17:30:05.860017Z"
    }
   },
   "outputs": [
    {
     "name": "stdout",
     "output_type": "stream",
     "text": [
      "1\n",
      "2\n",
      "3\n",
      "4\n",
      "5\n"
     ]
    }
   ],
   "source": [
    "for i in range(5): \n",
    "    print(A().count)"
   ]
  }
 ],
 "metadata": {
  "hide_input": false,
  "kernelspec": {
   "display_name": "Python 3",
   "language": "python",
   "name": "python3"
  },
  "language_info": {
   "codemirror_mode": {
    "name": "ipython",
    "version": 3
   },
   "file_extension": ".py",
   "mimetype": "text/x-python",
   "name": "python",
   "nbconvert_exporter": "python",
   "pygments_lexer": "ipython3",
   "version": "3.7.3"
  },
  "toc": {
   "base_numbering": 1,
   "nav_menu": {},
   "number_sections": true,
   "sideBar": true,
   "skip_h1_title": false,
   "title_cell": "Table of Contents",
   "title_sidebar": "Contents",
   "toc_cell": false,
   "toc_position": {},
   "toc_section_display": true,
   "toc_window_display": true
  },
  "varInspector": {
   "cols": {
    "lenName": 16,
    "lenType": 16,
    "lenVar": 40
   },
   "kernels_config": {
    "python": {
     "delete_cmd_postfix": "",
     "delete_cmd_prefix": "del ",
     "library": "var_list.py",
     "varRefreshCmd": "print(var_dic_list())"
    },
    "r": {
     "delete_cmd_postfix": ") ",
     "delete_cmd_prefix": "rm(",
     "library": "var_list.r",
     "varRefreshCmd": "cat(var_dic_list()) "
    }
   },
   "types_to_exclude": [
    "module",
    "function",
    "builtin_function_or_method",
    "instance",
    "_Feature"
   ],
   "window_display": false
  }
 },
 "nbformat": 4,
 "nbformat_minor": 2
}

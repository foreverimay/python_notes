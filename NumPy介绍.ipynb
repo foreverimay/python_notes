{
 "cells": [
  {
   "cell_type": "markdown",
   "metadata": {},
   "source": [
    "# NumPy "
   ]
  },
  {
   "cell_type": "code",
   "execution_count": 48,
   "metadata": {
    "ExecuteTime": {
     "end_time": "2019-08-26T16:57:07.540770Z",
     "start_time": "2019-08-26T16:57:07.535770Z"
    }
   },
   "outputs": [],
   "source": [
    "import numpy as np"
   ]
  },
  {
   "cell_type": "markdown",
   "metadata": {},
   "source": [
    "## 文件的输入输出"
   ]
  },
  {
   "cell_type": "code",
   "execution_count": 79,
   "metadata": {
    "ExecuteTime": {
     "end_time": "2019-08-26T17:27:53.863374Z",
     "start_time": "2019-08-26T17:27:53.847373Z"
    }
   },
   "outputs": [
    {
     "data": {
      "text/plain": [
       "array([ 0,  1,  2,  3,  4,  5,  6,  7,  8,  9, 10, 11, 12, 13, 14, 15, 16,\n",
       "       17, 18, 19])"
      ]
     },
     "execution_count": 79,
     "metadata": {},
     "output_type": "execute_result"
    }
   ],
   "source": [
    "# 文件的输入输出\n",
    "arr = np.arange(10)\n",
    "np.save('output/some_array', arr)\n",
    "np.load('output/some_array.npy')\n",
    "\n",
    "np.savez('output/array_archive.npz', a=arr, b=np.arange(20))\n",
    "arch = np.load('output/array_archive.npz')\n",
    "arch['b']"
   ]
  },
  {
   "cell_type": "markdown",
   "metadata": {},
   "source": [
    "读写各种格式的文件：\n",
    "\n",
    "文件格式|使用的包|函数\n",
    "----|----|----\n",
    "txt | numpy | loadtxt, genfromtxt, fromfile, savetxt, tofile\n",
    "csv | csv | reader, writer\n",
    "Matlab | scipy.io | loadmat, savemat\n",
    "hdf | pytables, h5py| \n",
    "NetCDF | netCDF4, scipy.io.netcdf | netCDF4.Dataset, scipy.io.netcdf.netcdf_file\n",
    "**文件格式**|**使用的包**|**备注**\n",
    "wav | scipy.io.wavfile | 音频文件\n",
    "jpeg,png,...| PIL, scipy.misc.pilutil | 图像文件\n",
    "fits | pyfits | 天文图像"
   ]
  },
  {
   "cell_type": "markdown",
   "metadata": {},
   "source": [
    "## 生成array对象"
   ]
  },
  {
   "cell_type": "markdown",
   "metadata": {},
   "source": [
    "与列表不同，数组中要求所有元素的 `dtype` 是一样的，如果传入参数的类型与数组类型不一样，需要按照已有的类型进行转换。"
   ]
  },
  {
   "cell_type": "code",
   "execution_count": 1,
   "metadata": {
    "ExecuteTime": {
     "end_time": "2019-08-26T16:21:41.130149Z",
     "start_time": "2019-08-26T16:21:41.116148Z"
    }
   },
   "outputs": [
    {
     "data": {
      "text/plain": [
       "array([6. , 7.5, 8. , 0. , 1. ])"
      ]
     },
     "execution_count": 1,
     "metadata": {},
     "output_type": "execute_result"
    }
   ],
   "source": [
    "# list 转array\n",
    "data1 = [6, 7.5, 8, 0, 1]\n",
    "arr1 = np.array(data1)\n",
    "arr1"
   ]
  },
  {
   "cell_type": "code",
   "execution_count": 3,
   "metadata": {
    "ExecuteTime": {
     "end_time": "2019-08-26T16:22:31.708042Z",
     "start_time": "2019-08-26T16:22:31.697041Z"
    }
   },
   "outputs": [
    {
     "data": {
      "text/plain": [
       "dtype('int32')"
      ]
     },
     "execution_count": 3,
     "metadata": {},
     "output_type": "execute_result"
    }
   ],
   "source": [
    "# 设置数据类型\n",
    "data2 = [[1,2,3, 4], [5, 6, 7,8]]\n",
    "arr2 = np.array(data2, dtype=np.int32)\n",
    "arr2.dtype"
   ]
  },
  {
   "cell_type": "code",
   "execution_count": 5,
   "metadata": {
    "ExecuteTime": {
     "end_time": "2019-08-26T16:22:53.446285Z",
     "start_time": "2019-08-26T16:22:53.438285Z"
    }
   },
   "outputs": [
    {
     "name": "stdout",
     "output_type": "stream",
     "text": [
      "1 (5,) float64\n"
     ]
    }
   ],
   "source": [
    "# 基本属性\n",
    "print(arr1.ndim,arr1.shape,arr1.dtype)"
   ]
  },
  {
   "cell_type": "code",
   "execution_count": 7,
   "metadata": {
    "ExecuteTime": {
     "end_time": "2019-08-26T16:25:48.305287Z",
     "start_time": "2019-08-26T16:25:48.296286Z"
    }
   },
   "outputs": [
    {
     "data": {
      "text/plain": [
       "array([ 0,  1,  2,  3,  4,  5,  6,  7,  8,  9, 10, 11, 12, 13, 14])"
      ]
     },
     "execution_count": 7,
     "metadata": {},
     "output_type": "execute_result"
    }
   ],
   "source": [
    "# 生成连续的range值\n",
    "np.arange(15)"
   ]
  },
  {
   "cell_type": "code",
   "execution_count": 8,
   "metadata": {
    "ExecuteTime": {
     "end_time": "2019-08-26T16:26:47.647681Z",
     "start_time": "2019-08-26T16:26:47.639680Z"
    }
   },
   "outputs": [
    {
     "data": {
      "text/plain": [
       "array([1, 2])"
      ]
     },
     "execution_count": 8,
     "metadata": {},
     "output_type": "execute_result"
    }
   ],
   "source": [
    "# 将输入转为array\n",
    "np.asarray([1,2])"
   ]
  },
  {
   "cell_type": "code",
   "execution_count": 18,
   "metadata": {
    "ExecuteTime": {
     "end_time": "2019-08-26T16:32:18.596609Z",
     "start_time": "2019-08-26T16:32:18.585609Z"
    }
   },
   "outputs": [
    {
     "name": "stdout",
     "output_type": "stream",
     "text": [
      "[[1 2 3]\n",
      " [4 5 6]\n",
      " [7 8 9]]\n"
     ]
    },
    {
     "data": {
      "text/plain": [
       "3"
      ]
     },
     "execution_count": 18,
     "metadata": {},
     "output_type": "execute_result"
    }
   ],
   "source": [
    "# 生成二维的array\n",
    "arr2d = np.array([[1,2,3],[4,5,6], [7,8,9]])\n",
    "print(arr2d)\n",
    "arr2d[0,2]"
   ]
  },
  {
   "cell_type": "markdown",
   "metadata": {},
   "source": [
    "## 数组形态的改变"
   ]
  },
  {
   "cell_type": "markdown",
   "metadata": {},
   "source": [
    "### transpose：转置 "
   ]
  },
  {
   "cell_type": "markdown",
   "metadata": {},
   "source": [
    "使用 `transpose` 返回数组的转置，本质上是将所有维度反过来："
   ]
  },
  {
   "cell_type": "code",
   "execution_count": 26,
   "metadata": {
    "ExecuteTime": {
     "end_time": "2019-10-04T11:18:52.106816Z",
     "start_time": "2019-10-04T11:18:52.101834Z"
    }
   },
   "outputs": [
    {
     "data": {
      "text/plain": [
       "array([[1, 2, 3],\n",
       "       [4, 5, 6]])"
      ]
     },
     "execution_count": 26,
     "metadata": {},
     "output_type": "execute_result"
    }
   ],
   "source": [
    "a"
   ]
  },
  {
   "cell_type": "code",
   "execution_count": 27,
   "metadata": {
    "ExecuteTime": {
     "end_time": "2019-10-04T11:18:56.458204Z",
     "start_time": "2019-10-04T11:18:56.452186Z"
    }
   },
   "outputs": [
    {
     "data": {
      "text/plain": [
       "array([[1, 4],\n",
       "       [2, 5],\n",
       "       [3, 6]])"
      ]
     },
     "execution_count": 27,
     "metadata": {},
     "output_type": "execute_result"
    }
   ],
   "source": [
    "a.transpose()"
   ]
  },
  {
   "cell_type": "code",
   "execution_count": 28,
   "metadata": {
    "ExecuteTime": {
     "end_time": "2019-10-04T11:19:13.192315Z",
     "start_time": "2019-10-04T11:19:13.186334Z"
    }
   },
   "outputs": [
    {
     "data": {
      "text/plain": [
       "array([[1, 4],\n",
       "       [2, 5],\n",
       "       [3, 6]])"
      ]
     },
     "execution_count": 28,
     "metadata": {},
     "output_type": "execute_result"
    }
   ],
   "source": [
    "a.T"
   ]
  },
  {
   "cell_type": "markdown",
   "metadata": {},
   "source": [
    "注意：\n",
    "- 对于复数数组，转置并不返回复共轭，只是单纯的交换轴的位置\n",
    "- 转置可以作用于多维数组\n",
    "- 转置只是交换了轴的位置。\n",
    "- 转置返回的是对原数组的另一种view，所以改变转置会改变原来数组的值。"
   ]
  },
  {
   "cell_type": "markdown",
   "metadata": {},
   "source": [
    "### reshape:数组重塑"
   ]
  },
  {
   "cell_type": "code",
   "execution_count": 53,
   "metadata": {
    "ExecuteTime": {
     "end_time": "2019-08-26T17:01:32.452923Z",
     "start_time": "2019-08-26T17:01:32.440922Z"
    }
   },
   "outputs": [
    {
     "data": {
      "text/plain": [
       "array([[ 0,  1,  2,  3],\n",
       "       [ 4,  5,  6,  7],\n",
       "       [ 8,  9, 10, 11],\n",
       "       [12, 13, 14, 15],\n",
       "       [16, 17, 18, 19],\n",
       "       [20, 21, 22, 23],\n",
       "       [24, 25, 26, 27],\n",
       "       [28, 29, 30, 31]])"
      ]
     },
     "execution_count": 53,
     "metadata": {},
     "output_type": "execute_result"
    }
   ],
   "source": [
    "# 改变arr 的形状\n",
    "arr = np.arange(32).reshape((8,4))\n",
    "arr"
   ]
  },
  {
   "cell_type": "code",
   "execution_count": 54,
   "metadata": {
    "ExecuteTime": {
     "end_time": "2019-08-26T17:01:35.258083Z",
     "start_time": "2019-08-26T17:01:35.245082Z"
    }
   },
   "outputs": [
    {
     "data": {
      "text/plain": [
       "array([[ 0,  1,  2],\n",
       "       [ 3,  4,  5],\n",
       "       [ 6,  7,  8],\n",
       "       [ 9, 10, 11]])"
      ]
     },
     "execution_count": 54,
     "metadata": {},
     "output_type": "execute_result"
    }
   ],
   "source": [
    "#－1表示维度大小由数据本身推断\n",
    "arr = np.arange(12)\n",
    "arr.reshape((3,4)).reshape((6,2))\n",
    "arr.reshape((4,-1))"
   ]
  },
  {
   "cell_type": "markdown",
   "metadata": {},
   "source": [
    "### ravel,flatten,flat:数组展开"
   ]
  },
  {
   "cell_type": "code",
   "execution_count": 29,
   "metadata": {
    "ExecuteTime": {
     "end_time": "2019-10-04T11:21:28.505530Z",
     "start_time": "2019-10-04T11:21:28.498548Z"
    }
   },
   "outputs": [
    {
     "name": "stdout",
     "output_type": "stream",
     "text": [
      "[[ 0  1  2]\n",
      " [ 3  4  5]\n",
      " [ 6  7  8]\n",
      " [ 9 10 11]\n",
      " [12 13 14]]\n"
     ]
    },
    {
     "data": {
      "text/plain": [
       "array([ 0,  1,  2,  3,  4,  5,  6,  7,  8,  9, 10, 11, 12, 13, 14])"
      ]
     },
     "execution_count": 29,
     "metadata": {},
     "output_type": "execute_result"
    }
   ],
   "source": [
    "# 相反操作：扁平化和散开\n",
    "arr = np.arange(15).reshape((5,3))\n",
    "print(arr)\n",
    "arr.ravel()"
   ]
  },
  {
   "cell_type": "code",
   "execution_count": 59,
   "metadata": {
    "ExecuteTime": {
     "end_time": "2019-08-26T17:03:59.275320Z",
     "start_time": "2019-08-26T17:03:59.262320Z"
    }
   },
   "outputs": [
    {
     "name": "stdout",
     "output_type": "stream",
     "text": [
      "[[ 0  1  2  3]\n",
      " [ 4  5  6  7]\n",
      " [ 8  9 10 11]]\n"
     ]
    },
    {
     "data": {
      "text/plain": [
       "array([ 0,  4,  8,  1,  5,  9,  2,  6, 10,  3,  7, 11])"
      ]
     },
     "execution_count": 59,
     "metadata": {},
     "output_type": "execute_result"
    }
   ],
   "source": [
    "#列优先\n",
    "arr = np.arange(12).reshape((3,4))\n",
    "print(arr)\n",
    "arr.ravel('F')"
   ]
  },
  {
   "cell_type": "code",
   "execution_count": 31,
   "metadata": {
    "ExecuteTime": {
     "end_time": "2019-10-04T11:23:28.582045Z",
     "start_time": "2019-10-04T11:23:28.578079Z"
    }
   },
   "outputs": [
    {
     "data": {
      "text/plain": [
       "array([ 0,  1,  2,  3,  4,  5,  6,  7,  8,  9, 10, 11, 12, 13, 14])"
      ]
     },
     "execution_count": 31,
     "metadata": {},
     "output_type": "execute_result"
    }
   ],
   "source": [
    "# flatten\n",
    "arr.flatten()"
   ]
  },
  {
   "cell_type": "markdown",
   "metadata": {},
   "source": [
    "`flat` 相当于返回了所有元组组成的一个迭代器："
   ]
  },
  {
   "cell_type": "code",
   "execution_count": 32,
   "metadata": {
    "ExecuteTime": {
     "end_time": "2019-10-04T11:23:41.684592Z",
     "start_time": "2019-10-04T11:23:41.679605Z"
    }
   },
   "outputs": [
    {
     "data": {
      "text/plain": [
       "<numpy.flatiter at 0x25da0c2d190>"
      ]
     },
     "execution_count": 32,
     "metadata": {},
     "output_type": "execute_result"
    }
   ],
   "source": [
    "arr.flat"
   ]
  },
  {
   "cell_type": "markdown",
   "metadata": {},
   "source": [
    "### concatenate,split:数组合并与拆分"
   ]
  },
  {
   "cell_type": "code",
   "execution_count": 61,
   "metadata": {
    "ExecuteTime": {
     "end_time": "2019-08-26T17:06:44.742784Z",
     "start_time": "2019-08-26T17:06:44.728784Z"
    }
   },
   "outputs": [
    {
     "data": {
      "text/plain": [
       "array([[ 1,  2,  3],\n",
       "       [ 4,  5,  6],\n",
       "       [ 7,  8,  9],\n",
       "       [10, 11, 12]])"
      ]
     },
     "execution_count": 61,
     "metadata": {},
     "output_type": "execute_result"
    }
   ],
   "source": [
    "#数组的合并\n",
    "arr1 = np.array([[1,2,3], [4,5,6]])\n",
    "arr2 = np.array([[7,8,9], [10,11,12]])\n",
    "np.concatenate([arr1, arr2], axis=0)"
   ]
  },
  {
   "cell_type": "code",
   "execution_count": 68,
   "metadata": {
    "ExecuteTime": {
     "end_time": "2019-08-26T17:10:54.675080Z",
     "start_time": "2019-08-26T17:10:54.651078Z"
    }
   },
   "outputs": [
    {
     "name": "stdout",
     "output_type": "stream",
     "text": [
      "[[ 1.10855471e-03 -2.89544069e-01]\n",
      " [-1.11606630e+00 -1.28827567e-02]\n",
      " [-3.78361464e-01 -4.81135363e-01]\n",
      " [-1.51733118e+00 -4.90871981e-01]\n",
      " [-2.40680579e-01 -6.47947460e-01]] \n",
      " ##########\n",
      "[[ 0.00110855 -0.28954407]] \n",
      " ##########\n",
      "[[-1.1160663  -0.01288276]\n",
      " [-0.37836146 -0.48113536]] \n",
      " ##########\n",
      "[[-1.51733118 -0.49087198]\n",
      " [-0.24068058 -0.64794746]] \n",
      " ##########\n"
     ]
    }
   ],
   "source": [
    "# 数组的拆分\n",
    "# split(ary, indices_or_sections, axis=0) \n",
    "# 把一个数组从左到右按顺序切分 \n",
    "# 参数： \n",
    "# ary:要切分的数组 \n",
    "# indices_or_sections:如果是一个整数，就用该数平均切分，如果是一个数组，为沿轴切分的位置 \n",
    "# axis：沿着哪个维度进行切向，默认为0，横向切分\n",
    "\n",
    "np.random.seed(9)\n",
    "arr = np.random.randn(5,2)\n",
    "print(arr,'\\n ##########')\n",
    "f,s,t = np.split(arr, [1,3])\n",
    "print(f,'\\n ##########')\n",
    "print(s,'\\n ##########')\n",
    "print(t,'\\n ##########')"
   ]
  },
  {
   "cell_type": "markdown",
   "metadata": {},
   "source": [
    "### repeat,tile:元素的重复扩展"
   ]
  },
  {
   "cell_type": "code",
   "execution_count": 77,
   "metadata": {
    "ExecuteTime": {
     "end_time": "2019-08-26T17:23:02.508709Z",
     "start_time": "2019-08-26T17:23:02.496709Z"
    }
   },
   "outputs": [
    {
     "name": "stdout",
     "output_type": "stream",
     "text": [
      "[0 0 0 1 1 1 2 2 2]\n",
      "[0 0 1 1 1 2 2 2 2]\n"
     ]
    }
   ],
   "source": [
    "# repeat 以行/列为单位进行指定倍数扩展\n",
    "arr = np.arange(3)\n",
    "print(arr.repeat(3))\n",
    "print(arr.repeat([2,3,4]))"
   ]
  },
  {
   "cell_type": "code",
   "execution_count": 76,
   "metadata": {
    "ExecuteTime": {
     "end_time": "2019-08-26T17:21:44.959274Z",
     "start_time": "2019-08-26T17:21:44.937273Z"
    }
   },
   "outputs": [
    {
     "name": "stdout",
     "output_type": "stream",
     "text": [
      "[[ 0.2438351  -0.74731818]\n",
      " [-1.56117699 -0.46425312]] \n",
      " ##########\n",
      "[[ 0.2438351  -0.74731818]\n",
      " [ 0.2438351  -0.74731818]\n",
      " [-1.56117699 -0.46425312]\n",
      " [-1.56117699 -0.46425312]] \n",
      " ##########\n",
      "[[ 0.2438351  -0.74731818]\n",
      " [ 0.2438351  -0.74731818]\n",
      " [-1.56117699 -0.46425312]\n",
      " [-1.56117699 -0.46425312]\n",
      " [-1.56117699 -0.46425312]] \n",
      " ##########\n",
      "[[ 0.2438351   0.2438351  -0.74731818 -0.74731818 -0.74731818]\n",
      " [-1.56117699 -1.56117699 -0.46425312 -0.46425312 -0.46425312]] \n",
      " ##########\n"
     ]
    }
   ],
   "source": [
    "# 二维array的扩展\n",
    "np.random.seed(34)\n",
    "arr = np.random.randn(2,2)\n",
    "print(arr,'\\n ##########')\n",
    "print(arr.repeat(2, axis=0),'\\n ##########')\n",
    "print(arr.repeat([2,3], axis=0),'\\n ##########')\n",
    "print(arr.repeat([2,3], axis=1),'\\n ##########')"
   ]
  },
  {
   "cell_type": "code",
   "execution_count": 78,
   "metadata": {
    "ExecuteTime": {
     "end_time": "2019-08-26T17:25:07.640867Z",
     "start_time": "2019-08-26T17:25:07.632866Z"
    }
   },
   "outputs": [
    {
     "name": "stdout",
     "output_type": "stream",
     "text": [
      "[0 1 2] \n",
      " ##########\n",
      "[0 1 2 0 1 2] \n",
      " ##########\n",
      "[[0 1 2]\n",
      " [0 1 2]] \n",
      " ##########\n",
      "[[0 1 2 0 1 2]\n",
      " [0 1 2 0 1 2]\n",
      " [0 1 2 0 1 2]] \n",
      " ##########\n"
     ]
    }
   ],
   "source": [
    "# tile 以array整体为单位进行指定倍数扩展\n",
    "print(arr,'\\n ##########')\n",
    "print(np.tile(arr,2),'\\n ##########')\n",
    "print(np.tile(arr,(2,1)),'\\n ##########')\n",
    "print(np.tile(arr,(3,2)),'\\n ##########')"
   ]
  },
  {
   "cell_type": "markdown",
   "metadata": {},
   "source": [
    "## 生成特定矩阵"
   ]
  },
  {
   "cell_type": "markdown",
   "metadata": {},
   "source": [
    "### ones,zeros:0/1矩阵"
   ]
  },
  {
   "cell_type": "markdown",
   "metadata": {},
   "source": [
    "```python\n",
    "ones(shape, dtype=float64)\n",
    "zeros(shape, dtype=float64)\n",
    "```\n",
    "\n",
    "产生一个制定形状的全 `0` 或全 `1` 的数组，还可以制定数组类型："
   ]
  },
  {
   "cell_type": "code",
   "execution_count": 56,
   "metadata": {
    "ExecuteTime": {
     "end_time": "2019-10-04T11:46:22.796812Z",
     "start_time": "2019-10-04T11:46:22.790827Z"
    }
   },
   "outputs": [
    {
     "data": {
      "text/plain": [
       "array([[0., 0., 0.],\n",
       "       [0., 0., 0.],\n",
       "       [0., 0., 0.]])"
      ]
     },
     "execution_count": 56,
     "metadata": {},
     "output_type": "execute_result"
    }
   ],
   "source": [
    "np.zeros([3,3])"
   ]
  },
  {
   "cell_type": "code",
   "execution_count": 55,
   "metadata": {
    "ExecuteTime": {
     "end_time": "2019-10-04T11:46:13.227324Z",
     "start_time": "2019-10-04T11:46:13.219334Z"
    }
   },
   "outputs": [
    {
     "data": {
      "text/plain": [
       "array([[1., 1., 1.],\n",
       "       [1., 1., 1.]], dtype=float32)"
      ]
     },
     "execution_count": 55,
     "metadata": {},
     "output_type": "execute_result"
    }
   ],
   "source": [
    "np.ones([2,3], dtype=np.float32)"
   ]
  },
  {
   "cell_type": "markdown",
   "metadata": {
    "ExecuteTime": {
     "end_time": "2019-10-04T11:47:49.973963Z",
     "start_time": "2019-10-04T11:47:49.968970Z"
    }
   },
   "source": [
    "### empty:空矩阵"
   ]
  },
  {
   "cell_type": "markdown",
   "metadata": {},
   "source": [
    "    empty(shape, dtype=float64, order='C')\n",
    "\n",
    "也可以使用 `empty` 方法产生一个制定大小的数组（数组所指向的内存未被初始化，所以值随机），再用 `fill` 方法填充："
   ]
  },
  {
   "cell_type": "code",
   "execution_count": 58,
   "metadata": {
    "ExecuteTime": {
     "end_time": "2019-10-04T11:48:03.650231Z",
     "start_time": "2019-10-04T11:48:03.645244Z"
    }
   },
   "outputs": [
    {
     "data": {
      "text/plain": [
       "array([1.28500842e-311, 0.00000000e+000])"
      ]
     },
     "execution_count": 58,
     "metadata": {},
     "output_type": "execute_result"
    }
   ],
   "source": [
    "a = np.empty(2)\n",
    "a"
   ]
  },
  {
   "cell_type": "markdown",
   "metadata": {},
   "source": [
    "### empty`_`like, ones`_`like, zeros`_`like,identity"
   ]
  },
  {
   "cell_type": "markdown",
   "metadata": {},
   "source": [
    "    empty_like(a)\n",
    "    ones_like(a)\n",
    "    zeros_like(a)\n",
    "\n",
    "产生一个跟 `a` 大小一样，类型一样的对应数组。"
   ]
  },
  {
   "cell_type": "code",
   "execution_count": 59,
   "metadata": {
    "ExecuteTime": {
     "end_time": "2019-10-04T11:49:45.043641Z",
     "start_time": "2019-10-04T11:49:45.039655Z"
    }
   },
   "outputs": [],
   "source": [
    "a = np.array([[1,2], [3,4]])"
   ]
  },
  {
   "cell_type": "code",
   "execution_count": 60,
   "metadata": {
    "ExecuteTime": {
     "end_time": "2019-10-04T11:49:47.639188Z",
     "start_time": "2019-10-04T11:49:47.635239Z"
    }
   },
   "outputs": [
    {
     "data": {
      "text/plain": [
       "array([[1, 1],\n",
       "       [1, 1]])"
      ]
     },
     "execution_count": 60,
     "metadata": {},
     "output_type": "execute_result"
    }
   ],
   "source": [
    "# 生成全是1的矩阵\n",
    "np.ones_like(a)"
   ]
  },
  {
   "cell_type": "code",
   "execution_count": 61,
   "metadata": {
    "ExecuteTime": {
     "end_time": "2019-10-04T11:50:01.967482Z",
     "start_time": "2019-10-04T11:50:01.963460Z"
    }
   },
   "outputs": [
    {
     "data": {
      "text/plain": [
       "array([[0, 0],\n",
       "       [0, 0]])"
      ]
     },
     "execution_count": 61,
     "metadata": {},
     "output_type": "execute_result"
    }
   ],
   "source": [
    "# 生成全是0的矩阵\n",
    "np.zeros_like(a)"
   ]
  },
  {
   "cell_type": "code",
   "execution_count": 62,
   "metadata": {
    "ExecuteTime": {
     "end_time": "2019-10-04T11:50:17.023743Z",
     "start_time": "2019-10-04T11:50:17.019774Z"
    }
   },
   "outputs": [
    {
     "data": {
      "text/plain": [
       "array([[-1864395872,         605],\n",
       "       [          0,           0]])"
      ]
     },
     "execution_count": 62,
     "metadata": {},
     "output_type": "execute_result"
    }
   ],
   "source": [
    "# 生成全是空的矩阵\n",
    "np.empty_like(a)"
   ]
  },
  {
   "cell_type": "code",
   "execution_count": null,
   "metadata": {},
   "outputs": [],
   "source": [
    "# 生成单位矩阵\n",
    "np.identity(4)"
   ]
  },
  {
   "cell_type": "markdown",
   "metadata": {},
   "source": [
    "## diagonal：对角线元素"
   ]
  },
  {
   "cell_type": "code",
   "execution_count": 33,
   "metadata": {
    "ExecuteTime": {
     "end_time": "2019-10-04T11:27:40.282480Z",
     "start_time": "2019-10-04T11:27:40.276496Z"
    }
   },
   "outputs": [
    {
     "data": {
      "text/plain": [
       "array([[11, 21, 31],\n",
       "       [12, 22, 32],\n",
       "       [13, 23, 33]])"
      ]
     },
     "execution_count": 33,
     "metadata": {},
     "output_type": "execute_result"
    }
   ],
   "source": [
    "a = np.array([11,21,31,12,22,32,13,23,33])\n",
    "a.shape = 3,3\n",
    "a"
   ]
  },
  {
   "cell_type": "code",
   "execution_count": 34,
   "metadata": {
    "ExecuteTime": {
     "end_time": "2019-10-04T11:27:57.143965Z",
     "start_time": "2019-10-04T11:27:57.138978Z"
    }
   },
   "outputs": [
    {
     "data": {
      "text/plain": [
       "array([11, 22, 33])"
      ]
     },
     "execution_count": 34,
     "metadata": {},
     "output_type": "execute_result"
    }
   ],
   "source": [
    "# 查看对角线元素\n",
    "a.diagonal()"
   ]
  },
  {
   "cell_type": "markdown",
   "metadata": {},
   "source": [
    "可以使用偏移来查看它的次对角线，正数表示右移，负数表示左移："
   ]
  },
  {
   "cell_type": "code",
   "execution_count": 35,
   "metadata": {
    "ExecuteTime": {
     "end_time": "2019-10-04T11:28:20.588248Z",
     "start_time": "2019-10-04T11:28:20.583293Z"
    }
   },
   "outputs": [
    {
     "data": {
      "text/plain": [
       "array([21, 32])"
      ]
     },
     "execution_count": 35,
     "metadata": {},
     "output_type": "execute_result"
    }
   ],
   "source": [
    "a.diagonal(offset=1)"
   ]
  },
  {
   "cell_type": "code",
   "execution_count": 36,
   "metadata": {
    "ExecuteTime": {
     "end_time": "2019-10-04T11:28:21.915602Z",
     "start_time": "2019-10-04T11:28:21.910648Z"
    }
   },
   "outputs": [
    {
     "data": {
      "text/plain": [
       "array([12, 23])"
      ]
     },
     "execution_count": 36,
     "metadata": {},
     "output_type": "execute_result"
    }
   ],
   "source": [
    "a.diagonal(offset=-1)"
   ]
  },
  {
   "cell_type": "markdown",
   "metadata": {},
   "source": [
    "## astype:改变数据类型"
   ]
  },
  {
   "cell_type": "markdown",
   "metadata": {},
   "source": [
    "`NumPy`的数据类型具体如下：\n",
    "\n",
    "|基本类型|可用的**Numpy**类型|备注\n",
    "|--|--|--\n",
    "|布尔型|`bool`|占1个字节\n",
    "|整型|`int8, int16, int32, int64, int128, int`| `int` 跟**C**语言中的 `long` 一样大\n",
    "|无符号整型|`uint8, uint16, uint32, uint64, uint128, uint`| `uint` 跟**C**语言中的 `unsigned long` 一样大\n",
    "|浮点数| `float16, float32, float64, float, longfloat`|默认为双精度 `float64` ，`longfloat` 精度大小与系统有关\n",
    "|复数| `complex64, complex128, complex, longcomplex`| 默认为 `complex128` ，即实部虚部都为双精度\n",
    "|字符串| `string, unicode` | 可以使用 `dtype=S4` 表示一个4字节字符串的数组\n",
    "|对象| `object` |数组中可以使用任意值|\n",
    "|Records| `void` ||\n",
    "|时间| `datetime64, timedelta64` ||\n",
    "\n",
    "任意类型的数组："
   ]
  },
  {
   "cell_type": "code",
   "execution_count": 10,
   "metadata": {
    "ExecuteTime": {
     "end_time": "2019-08-26T16:29:17.372244Z",
     "start_time": "2019-08-26T16:29:17.364243Z"
    }
   },
   "outputs": [
    {
     "data": {
      "text/plain": [
       "array([  2, 534])"
      ]
     },
     "execution_count": 10,
     "metadata": {},
     "output_type": "execute_result"
    }
   ],
   "source": [
    "arr3 = np.array(['2', ' 534'], dtype=np.string_)\n",
    "arr3.astype(np.int32)"
   ]
  },
  {
   "cell_type": "code",
   "execution_count": 11,
   "metadata": {
    "ExecuteTime": {
     "end_time": "2019-08-26T16:29:19.220350Z",
     "start_time": "2019-08-26T16:29:19.211349Z"
    }
   },
   "outputs": [
    {
     "data": {
      "text/plain": [
       "array([[1., 2., 3., 4.],\n",
       "       [5., 6., 7., 8.]])"
      ]
     },
     "execution_count": 11,
     "metadata": {},
     "output_type": "execute_result"
    }
   ],
   "source": [
    "arr2.astype(np.float64)"
   ]
  },
  {
   "cell_type": "code",
   "execution_count": 12,
   "metadata": {
    "ExecuteTime": {
     "end_time": "2019-08-26T16:29:23.007566Z",
     "start_time": "2019-08-26T16:29:22.999566Z"
    }
   },
   "outputs": [
    {
     "data": {
      "text/plain": [
       "array([6, 7, 8, 0, 1])"
      ]
     },
     "execution_count": 12,
     "metadata": {},
     "output_type": "execute_result"
    }
   ],
   "source": [
    "arr1.astype(arr2.dtype)"
   ]
  },
  {
   "cell_type": "markdown",
   "metadata": {},
   "source": [
    "## array之间的运算"
   ]
  },
  {
   "cell_type": "code",
   "execution_count": 13,
   "metadata": {
    "ExecuteTime": {
     "end_time": "2019-08-26T16:29:46.967937Z",
     "start_time": "2019-08-26T16:29:46.958936Z"
    }
   },
   "outputs": [
    {
     "data": {
      "text/plain": [
       "array([[ 1,  4,  9, 16],\n",
       "       [25, 36, 49, 64]])"
      ]
     },
     "execution_count": 13,
     "metadata": {},
     "output_type": "execute_result"
    }
   ],
   "source": [
    "arr2 * arr2"
   ]
  },
  {
   "cell_type": "code",
   "execution_count": 14,
   "metadata": {
    "ExecuteTime": {
     "end_time": "2019-08-26T16:29:57.428535Z",
     "start_time": "2019-08-26T16:29:57.420535Z"
    }
   },
   "outputs": [
    {
     "data": {
      "text/plain": [
       "array([[ 2,  4,  6,  8],\n",
       "       [10, 12, 14, 16]])"
      ]
     },
     "execution_count": 14,
     "metadata": {},
     "output_type": "execute_result"
    }
   ],
   "source": [
    "arr2*2"
   ]
  },
  {
   "cell_type": "markdown",
   "metadata": {},
   "source": [
    "## 数组广播机制"
   ]
  },
  {
   "cell_type": "code",
   "execution_count": 79,
   "metadata": {
    "ExecuteTime": {
     "end_time": "2019-10-04T12:40:16.306365Z",
     "start_time": "2019-10-04T12:40:16.299418Z"
    }
   },
   "outputs": [
    {
     "data": {
      "text/plain": [
       "array([[ 0,  1,  2],\n",
       "       [10, 11, 12],\n",
       "       [20, 21, 22],\n",
       "       [30, 31, 32]])"
      ]
     },
     "execution_count": 79,
     "metadata": {},
     "output_type": "execute_result"
    }
   ],
   "source": [
    "a = np.array([[ 0, 0, 0],\n",
    "              [10,10,10],\n",
    "              [20,20,20],\n",
    "              [30,30,30]])\n",
    "b = np.array([0,1,2])\n",
    "\n",
    "a + b"
   ]
  },
  {
   "cell_type": "markdown",
   "metadata": {},
   "source": [
    "结果一样，虽然两个数组的维数不一样，但是 **Numpy** 检测到 `b` 的维度与 `a` 的维度匹配，所以将 `b` 扩展为之前的形式，得到相同的形状。\n",
    "\n",
    "对于更高维度，这样的扩展依然有效。 "
   ]
  },
  {
   "cell_type": "markdown",
   "metadata": {},
   "source": [
    "## 切片与索引"
   ]
  },
  {
   "cell_type": "code",
   "execution_count": 3,
   "metadata": {
    "ExecuteTime": {
     "end_time": "2019-10-04T08:29:10.982867Z",
     "start_time": "2019-10-04T08:29:10.496980Z"
    }
   },
   "outputs": [],
   "source": [
    "import numpy as np\n",
    "from numpy.random import randn"
   ]
  },
  {
   "cell_type": "markdown",
   "metadata": {},
   "source": [
    "***\n",
    "### 切片"
   ]
  },
  {
   "cell_type": "markdown",
   "metadata": {},
   "source": [
    "切片在内存中使用的是引用机制。"
   ]
  },
  {
   "cell_type": "code",
   "execution_count": 4,
   "metadata": {
    "ExecuteTime": {
     "end_time": "2019-10-04T08:29:11.901117Z",
     "start_time": "2019-10-04T08:29:11.886114Z"
    }
   },
   "outputs": [
    {
     "data": {
      "text/plain": [
       "array([2, 3])"
      ]
     },
     "execution_count": 4,
     "metadata": {},
     "output_type": "execute_result"
    }
   ],
   "source": [
    "a = np.array([0,1,2,3,4])\n",
    "b = a[2:4]\n",
    "b"
   ]
  },
  {
   "cell_type": "markdown",
   "metadata": {},
   "source": [
    "引用机制意味着，**Python**并没有为 `b` 分配新的空间来存储它的值，而是让 `b` 指向了 `a` 所分配的内存空间，因此，改变 `b` 会改变 `a` 的值："
   ]
  },
  {
   "cell_type": "code",
   "execution_count": 5,
   "metadata": {
    "ExecuteTime": {
     "end_time": "2019-10-04T08:32:55.669287Z",
     "start_time": "2019-10-04T08:32:55.664301Z"
    }
   },
   "outputs": [
    {
     "data": {
      "text/plain": [
       "array([ 0,  1, 10,  3,  4])"
      ]
     },
     "execution_count": 5,
     "metadata": {},
     "output_type": "execute_result"
    }
   ],
   "source": [
    "b[0] = 10\n",
    "a"
   ]
  },
  {
   "cell_type": "markdown",
   "metadata": {},
   "source": [
    "而这种现象在列表中并不会出现："
   ]
  },
  {
   "cell_type": "code",
   "execution_count": 11,
   "metadata": {
    "ExecuteTime": {
     "end_time": "2019-10-04T10:49:19.355722Z",
     "start_time": "2019-10-04T10:49:19.345718Z"
    }
   },
   "outputs": [
    {
     "name": "stdout",
     "output_type": "stream",
     "text": [
      "\n",
      " [13234] \n",
      " [1, 2, 3, 4, 5]\n"
     ]
    }
   ],
   "source": [
    "a = [1,2,3,4,5]\n",
    "b = a[2:3]\n",
    "c = 111\n",
    "b[0] = 13234\n",
    "print('\\n',b,\n",
    "      '\\n',a)"
   ]
  },
  {
   "cell_type": "markdown",
   "metadata": {},
   "source": [
    "这样做的好处在于，对于很大的数组，不用大量复制多余的值，节约了空间。\n",
    "\n",
    "缺点在于，可能出现改变一个值改变另一个值的情况。\n",
    "\n",
    "一个解决方法是使用`copy()`方法产生一个复制，这个复制会申请新的内存："
   ]
  },
  {
   "cell_type": "code",
   "execution_count": 10,
   "metadata": {
    "ExecuteTime": {
     "end_time": "2019-10-04T08:40:21.287244Z",
     "start_time": "2019-10-04T08:40:21.281258Z"
    }
   },
   "outputs": [
    {
     "data": {
      "text/plain": [
       "array([0, 1, 2, 3, 4])"
      ]
     },
     "execution_count": 10,
     "metadata": {},
     "output_type": "execute_result"
    }
   ],
   "source": [
    "a = np.array([0,1,2,3,4])\n",
    "b = a[2:4].copy()\n",
    "b[0] = 10\n",
    "a"
   ]
  },
  {
   "cell_type": "markdown",
   "metadata": {},
   "source": [
    "***\n",
    "### 索引"
   ]
  },
  {
   "cell_type": "code",
   "execution_count": 37,
   "metadata": {
    "ExecuteTime": {
     "end_time": "2019-08-26T16:46:25.792064Z",
     "start_time": "2019-08-26T16:46:25.774063Z"
    }
   },
   "outputs": [
    {
     "data": {
      "text/plain": [
       "array([[-1.21907528,  1.2705255 , -0.54212363,  0.80974703],\n",
       "       [-1.76553628, -1.80329136, -0.90210562, -0.74221657],\n",
       "       [ 2.28587489,  0.30085764, -0.95233408, -1.54211855],\n",
       "       [ 0.79052931, -1.37344705,  1.51744052, -0.18722192],\n",
       "       [-0.25895972,  0.30646545, -0.03690562, -0.88666348]])"
      ]
     },
     "execution_count": 37,
     "metadata": {},
     "output_type": "execute_result"
    }
   ],
   "source": [
    "names = np.array(['Bob', 'Joe', 'Will', 'Bob', 'Will', 'Joe', 'Joe'])\n",
    "data = np.random.randn(7,4)\n",
    "data[(names == 'Bob') | (names == 'Joe')]"
   ]
  },
  {
   "cell_type": "code",
   "execution_count": 18,
   "metadata": {},
   "outputs": [
    {
     "data": {
      "text/plain": [
       "array([[ 4,  7,  5,  6],\n",
       "       [20, 23, 21, 22],\n",
       "       [28, 31, 29, 30],\n",
       "       [ 8, 11,  9, 10]])"
      ]
     },
     "execution_count": 18,
     "metadata": {},
     "output_type": "execute_result"
    }
   ],
   "source": [
    "#利用整数数组进行索引\n",
    "arr[np.ix_([1,5,7,2],[0,3,1,2])]"
   ]
  },
  {
   "cell_type": "code",
   "execution_count": 23,
   "metadata": {
    "ExecuteTime": {
     "end_time": "2019-08-26T16:36:36.357351Z",
     "start_time": "2019-08-26T16:36:36.343350Z"
    }
   },
   "outputs": [
    {
     "name": "stdout",
     "output_type": "stream",
     "text": [
      "[ 0.62653967  8.36582088 -4.735825    1.11698705  3.08388594 -3.18673245\n",
      " -0.17518684]\n"
     ]
    },
    {
     "data": {
      "text/plain": [
       "(array([ 0.62653967,  0.36582088, -0.735825  ,  0.11698705,  0.08388594,\n",
       "        -0.18673245, -0.17518684]), array([ 0.,  8., -4.,  1.,  3., -3., -0.]))"
      ]
     },
     "execution_count": 23,
     "metadata": {},
     "output_type": "execute_result"
    }
   ],
   "source": [
    "# 将数组各元素的小数和整数部分以两个独立数组形式返回\n",
    "arr = randn(7)*5\n",
    "print(arr)\n",
    "np.modf(arr)"
   ]
  },
  {
   "cell_type": "code",
   "execution_count": 70,
   "metadata": {
    "ExecuteTime": {
     "end_time": "2019-08-26T17:16:36.661640Z",
     "start_time": "2019-08-26T17:16:36.653640Z"
    }
   },
   "outputs": [
    {
     "name": "stdout",
     "output_type": "stream",
     "text": [
      "True False\n"
     ]
    }
   ],
   "source": [
    "# bool索引\n",
    "bools = np.array([1,0,1,0,0])\n",
    "print(bools.any(), bools.all())"
   ]
  },
  {
   "cell_type": "code",
   "execution_count": 26,
   "metadata": {
    "ExecuteTime": {
     "end_time": "2019-08-26T16:38:49.164947Z",
     "start_time": "2019-08-26T16:38:49.156946Z"
    }
   },
   "outputs": [
    {
     "data": {
      "text/plain": [
       "array([ True,  True,  True])"
      ]
     },
     "execution_count": 26,
     "metadata": {},
     "output_type": "execute_result"
    }
   ],
   "source": [
    "# array比较\n",
    "np.array([1,2,3])<np.array([4,5,6])"
   ]
  },
  {
   "cell_type": "markdown",
   "metadata": {},
   "source": [
    "## np.where:筛选"
   ]
  },
  {
   "cell_type": "code",
   "execution_count": 29,
   "metadata": {
    "ExecuteTime": {
     "end_time": "2019-08-26T16:42:20.488034Z",
     "start_time": "2019-08-26T16:42:20.452032Z"
    }
   },
   "outputs": [
    {
     "name": "stdout",
     "output_type": "stream",
     "text": [
      "[1.1 1.2 1.3 1.4 1.5]\n",
      "[2.1 2.2 2.3 2.4 2.5]\n",
      "[1.1 2.2 1.3 1.4 2.5]\n",
      "(array([2, 3, 4], dtype=int64),)\n"
     ]
    }
   ],
   "source": [
    "# 满足条件(condition)，输出x，不满足输出y\n",
    "xarr = np.array([i/10.0 for i in range(11,16)])\n",
    "yarr = np.array([i/10.0 for i in range(21,26)])\n",
    "cond = np.array([1, 0, 1, 1, 0])\n",
    "result = np.where(cond, xarr, yarr)\n",
    "print(xarr)\n",
    "print(yarr)\n",
    "print(result)\n",
    "\n",
    "# np.where(condition)只有条件 (condition)，没有x和y，则输出满足条件 (即非0) 元素的坐标\n",
    "a = np.array([2,4,6,8,10])\n",
    "print(np.where(a > 5))"
   ]
  },
  {
   "cell_type": "code",
   "execution_count": 31,
   "metadata": {
    "ExecuteTime": {
     "end_time": "2019-08-26T16:43:24.029668Z",
     "start_time": "2019-08-26T16:43:24.018668Z"
    }
   },
   "outputs": [
    {
     "data": {
      "text/plain": [
       "array([[ 1.18029014,  0.71319241,  2.01895214,  1.37924678],\n",
       "       [ 0.12525128, -1.81354103,  0.38562474, -0.16819841],\n",
       "       [ 1.47071074, -0.26982163, -1.11628426,  0.35210247],\n",
       "       [ 0.48588561, -1.32807385, -1.33038652,  0.5009419 ]])"
      ]
     },
     "execution_count": 31,
     "metadata": {},
     "output_type": "execute_result"
    }
   ],
   "source": [
    "arr = randn(4,4)\n",
    "arr"
   ]
  },
  {
   "cell_type": "code",
   "execution_count": 33,
   "metadata": {
    "ExecuteTime": {
     "end_time": "2019-08-26T16:43:42.142704Z",
     "start_time": "2019-08-26T16:43:42.133704Z"
    }
   },
   "outputs": [
    {
     "data": {
      "text/plain": [
       "array([[ 2.        ,  2.        ,  2.        ,  2.        ],\n",
       "       [ 2.        , -1.81354103,  2.        , -0.16819841],\n",
       "       [ 2.        , -0.26982163, -1.11628426,  2.        ],\n",
       "       [ 2.        , -1.32807385, -1.33038652,  2.        ]])"
      ]
     },
     "execution_count": 33,
     "metadata": {},
     "output_type": "execute_result"
    }
   ],
   "source": [
    "# 赋固定数字\n",
    "np.where(arr>0, 2, arr)"
   ]
  },
  {
   "cell_type": "code",
   "execution_count": 30,
   "metadata": {
    "ExecuteTime": {
     "end_time": "2019-08-26T16:42:57.850171Z",
     "start_time": "2019-08-26T16:42:57.836170Z"
    }
   },
   "outputs": [
    {
     "data": {
      "text/plain": [
       "array([1, 3, 0])"
      ]
     },
     "execution_count": 30,
     "metadata": {},
     "output_type": "execute_result"
    }
   ],
   "source": [
    "# 可以嵌套使用\n",
    "cond1 = np.array([1, 0, 1])\n",
    "cond2 = np.array([0, 0,1])\n",
    "np.where(cond1 & cond2, 0, np.where(cond1, 1, np.where(cond2, 2,3)))"
   ]
  },
  {
   "cell_type": "markdown",
   "metadata": {},
   "source": [
    "## choose 函数实现条件筛选"
   ]
  },
  {
   "cell_type": "markdown",
   "metadata": {},
   "source": [
    "对于数组，我们有时候需要进行类似 `switch` 和 `case` 进行条件选择，此时使用 choose 函数十分方便："
   ]
  },
  {
   "cell_type": "code",
   "execution_count": 75,
   "metadata": {
    "ExecuteTime": {
     "end_time": "2019-10-04T12:34:45.674195Z",
     "start_time": "2019-10-04T12:34:45.667211Z"
    }
   },
   "outputs": [
    {
     "data": {
      "text/plain": [
       "array([[11, 10, 11],\n",
       "       [12, 11, 10],\n",
       "       [11, 12, 12]])"
      ]
     },
     "execution_count": 75,
     "metadata": {},
     "output_type": "execute_result"
    }
   ],
   "source": [
    "control = np.array([[1,0,1],\n",
    "                    [2,1,0],\n",
    "                    [1,2,2]])\n",
    "\n",
    "np.choose(control, [10, 11, 12])"
   ]
  },
  {
   "cell_type": "markdown",
   "metadata": {},
   "source": [
    "在上面的例子中，`choose` 将 `0,1,2` 对应的值映射为了 `10, 11, 12`，这里的 `0,1,2` 表示对应的下标。\n",
    "\n",
    "事实上， `choose` 不仅仅能接受下标参数，还可以接受下标所在的位置："
   ]
  },
  {
   "cell_type": "code",
   "execution_count": 76,
   "metadata": {
    "ExecuteTime": {
     "end_time": "2019-10-04T12:35:53.905680Z",
     "start_time": "2019-10-04T12:35:53.892714Z"
    }
   },
   "outputs": [
    {
     "data": {
      "text/plain": [
       "array([[10,  1, 10],\n",
       "       [23, 10,  5],\n",
       "       [10, 27, 28]])"
      ]
     },
     "execution_count": 76,
     "metadata": {},
     "output_type": "execute_result"
    }
   ],
   "source": [
    "i0 = np.array([[0,1,2],\n",
    "               [3,4,5],\n",
    "               [6,7,8]])\n",
    "i2 = np.array([[20,21,22],\n",
    "               [23,24,25],\n",
    "               [26,27,28]])\n",
    "control = np.array([[1,0,1],\n",
    "                    [2,1,0],\n",
    "                    [1,2,2]])\n",
    "\n",
    "np.choose(control, [i0, 10, i2])"
   ]
  },
  {
   "cell_type": "markdown",
   "metadata": {},
   "source": [
    "这里：\n",
    "\n",
    "1. `control` 传入第一个 `1` 对应的是`[i0, 10, i2]`的下标为`1`的元素 10；\n",
    "\n",
    "2. 传入的第一个 `0` 对应于 `i0` 相应位置的值即 `1`，剩下的以此类推。 "
   ]
  },
  {
   "cell_type": "markdown",
   "metadata": {
    "ExecuteTime": {
     "end_time": "2019-10-04T12:37:59.193766Z",
     "start_time": "2019-10-04T12:37:59.184783Z"
    }
   },
   "source": [
    "下面的例子将数组中所有小于 10 的值变成了 10，大于 15 的值变成了 15。"
   ]
  },
  {
   "cell_type": "code",
   "execution_count": 78,
   "metadata": {
    "ExecuteTime": {
     "end_time": "2019-10-04T12:38:09.272570Z",
     "start_time": "2019-10-04T12:38:09.266543Z"
    }
   },
   "outputs": [
    {
     "data": {
      "text/plain": [
       "array([[1, 1, 1],\n",
       "       [0, 0, 0],\n",
       "       [2, 2, 2]])"
      ]
     },
     "execution_count": 78,
     "metadata": {},
     "output_type": "execute_result"
    }
   ],
   "source": [
    "a = np.array([[ 0, 1, 2], \n",
    "              [10,11,12], \n",
    "              [20,21,22]])\n",
    "\n",
    "lt = a < 10\n",
    "gt = a > 15\n",
    "\n",
    "choice = lt + 2 * gt\n",
    "choice"
   ]
  },
  {
   "cell_type": "markdown",
   "metadata": {},
   "source": [
    "## 对于单个array的各种计算"
   ]
  },
  {
   "cell_type": "code",
   "execution_count": 35,
   "metadata": {
    "ExecuteTime": {
     "end_time": "2019-08-26T16:45:05.393466Z",
     "start_time": "2019-08-26T16:45:05.375465Z"
    }
   },
   "outputs": [
    {
     "name": "stdout",
     "output_type": "stream",
     "text": [
      "[1. 3.] [2. 2. 2. 2.] 1.0 3 1 0 [ 1  2  3  4  7 10 13 16] [ 1  1  1  1  3  9 27 81]\n",
      "57\n"
     ]
    }
   ],
   "source": [
    "# 给出array的各种统计值\n",
    "arr = np.array([[1,1,1,1], [3,3,3,3]])\n",
    "print(arr.mean(axis=1), np.mean(arr,axis=0), arr.var(), arr.max(), arr.min(), arr.argmin(), arr.cumsum(), arr.cumprod())\n",
    "print((randn(100)>0).sum())"
   ]
  },
  {
   "cell_type": "code",
   "execution_count": 13,
   "metadata": {
    "ExecuteTime": {
     "end_time": "2019-10-04T11:04:53.217512Z",
     "start_time": "2019-10-04T11:04:53.211528Z"
    }
   },
   "outputs": [
    {
     "data": {
      "text/plain": [
       "array([[1, 2, 3],\n",
       "       [4, 5, 6]])"
      ]
     },
     "execution_count": 13,
     "metadata": {},
     "output_type": "execute_result"
    }
   ],
   "source": [
    "# 将数值限制在某个范围：\n",
    "a = np.arange(1,7).reshape(2,3)\n",
    "a"
   ]
  },
  {
   "cell_type": "code",
   "execution_count": 15,
   "metadata": {
    "ExecuteTime": {
     "end_time": "2019-10-04T11:05:17.333295Z",
     "start_time": "2019-10-04T11:05:17.327311Z"
    }
   },
   "outputs": [
    {
     "data": {
      "text/plain": [
       "array([[3, 3, 3],\n",
       "       [4, 5, 5]])"
      ]
     },
     "execution_count": 15,
     "metadata": {},
     "output_type": "execute_result"
    }
   ],
   "source": [
    "a.clip(3,5)"
   ]
  },
  {
   "cell_type": "markdown",
   "metadata": {
    "ExecuteTime": {
     "end_time": "2019-10-04T12:25:03.366285Z",
     "start_time": "2019-10-04T12:25:03.362294Z"
    }
   },
   "source": [
    "## reduce 方法"
   ]
  },
  {
   "cell_type": "code",
   "execution_count": 71,
   "metadata": {
    "ExecuteTime": {
     "end_time": "2019-10-04T12:24:07.683249Z",
     "start_time": "2019-10-04T12:24:07.676268Z"
    }
   },
   "outputs": [
    {
     "data": {
      "text/plain": [
       "10"
      ]
     },
     "execution_count": 71,
     "metadata": {},
     "output_type": "execute_result"
    }
   ],
   "source": [
    "# reduce方法\n",
    "a = np.array([1,2,3,4])\n",
    "\n",
    "np.add.reduce(a)"
   ]
  },
  {
   "cell_type": "code",
   "execution_count": 72,
   "metadata": {
    "ExecuteTime": {
     "end_time": "2019-10-04T12:24:32.751035Z",
     "start_time": "2019-10-04T12:24:32.746037Z"
    }
   },
   "outputs": [
    {
     "data": {
      "text/plain": [
       "array([ 6, 15])"
      ]
     },
     "execution_count": 72,
     "metadata": {},
     "output_type": "execute_result"
    }
   ],
   "source": [
    "a = np.array([[1,2,3],[4,5,6]])\n",
    "\n",
    "np.add.reduce(a,1)"
   ]
  },
  {
   "cell_type": "code",
   "execution_count": 73,
   "metadata": {
    "ExecuteTime": {
     "end_time": "2019-10-04T12:24:46.402993Z",
     "start_time": "2019-10-04T12:24:46.394055Z"
    }
   },
   "outputs": [
    {
     "data": {
      "text/plain": [
       "'abcdef'"
      ]
     },
     "execution_count": 73,
     "metadata": {},
     "output_type": "execute_result"
    }
   ],
   "source": [
    "# 作用于字符串\n",
    "\n",
    "a = np.array(['ab', 'cd', 'ef'], np.object)\n",
    "\n",
    "np.add.reduce(a)"
   ]
  },
  {
   "cell_type": "markdown",
   "metadata": {},
   "source": [
    "## sort 和 argsort 方法"
   ]
  },
  {
   "cell_type": "code",
   "execution_count": 16,
   "metadata": {
    "ExecuteTime": {
     "end_time": "2019-10-04T11:07:35.092168Z",
     "start_time": "2019-10-04T11:07:35.080174Z"
    }
   },
   "outputs": [
    {
     "data": {
      "text/plain": [
       "array([[-0.23451556,  1.35552101,  2.85991733],\n",
       "       [-0.09183913,  0.96851984,  0.5120501 ],\n",
       "       [-0.52065659, -1.41860519, -0.6794761 ],\n",
       "       [ 0.24423661,  0.13993375, -0.19656932],\n",
       "       [-1.51819783, -0.88074602,  0.46748557]])"
      ]
     },
     "execution_count": 16,
     "metadata": {},
     "output_type": "execute_result"
    }
   ],
   "source": [
    "# 排序\n",
    "arr = randn(5,3)\n",
    "arr"
   ]
  },
  {
   "cell_type": "code",
   "execution_count": 17,
   "metadata": {
    "ExecuteTime": {
     "end_time": "2019-10-04T11:07:56.431732Z",
     "start_time": "2019-10-04T11:07:56.425750Z"
    }
   },
   "outputs": [
    {
     "name": "stdout",
     "output_type": "stream",
     "text": [
      "[[-0.23451556  1.35552101  2.85991733]\n",
      " [-0.09183913  0.96851984  0.5120501 ]\n",
      " [-0.52065659 -1.41860519 -0.6794761 ]\n",
      " [ 0.24423661  0.13993375 -0.19656932]\n",
      " [-1.51819783 -0.88074602  0.46748557]]\n",
      "排序之后的结果是\n",
      " [[-1.51819783 -1.41860519 -0.6794761 ]\n",
      " [-0.52065659 -0.88074602 -0.19656932]\n",
      " [-0.23451556  0.13993375  0.46748557]\n",
      " [-0.09183913  0.96851984  0.5120501 ]\n",
      " [ 0.24423661  1.35552101  2.85991733]]\n"
     ]
    }
   ],
   "source": [
    "# axis：数组排序时的基准，axis=0 按列排列；axis=1 按行排列\n",
    "arr1 = np.sort(arr, axis=0)\n",
    "print(arr)\n",
    "print('排序之后的结果是\\n',arr1)"
   ]
  },
  {
   "cell_type": "code",
   "execution_count": 18,
   "metadata": {
    "ExecuteTime": {
     "end_time": "2019-10-04T11:08:00.791686Z",
     "start_time": "2019-10-04T11:08:00.763891Z"
    }
   },
   "outputs": [
    {
     "data": {
      "text/plain": [
       "array([[-1.51819783, -1.41860519, -0.6794761 ],\n",
       "       [-0.52065659, -0.88074602, -0.19656932],\n",
       "       [-0.23451556,  0.13993375,  0.46748557],\n",
       "       [-0.09183913,  0.96851984,  0.5120501 ],\n",
       "       [ 0.24423661,  1.35552101,  2.85991733]])"
      ]
     },
     "execution_count": 18,
     "metadata": {},
     "output_type": "execute_result"
    }
   ],
   "source": [
    "# sort除了可以看做np的函数，也可以看成array的属性之一\n",
    "arr.sort(axis=0)\n",
    "arr"
   ]
  },
  {
   "cell_type": "markdown",
   "metadata": {},
   "source": [
    "`argsort` 返回从小到大的排列在数组中的索引位置："
   ]
  },
  {
   "cell_type": "code",
   "execution_count": 21,
   "metadata": {
    "ExecuteTime": {
     "end_time": "2019-10-04T11:08:36.790339Z",
     "start_time": "2019-10-04T11:08:36.785352Z"
    }
   },
   "outputs": [
    {
     "name": "stdout",
     "output_type": "stream",
     "text": [
      "排序之后的指标结果是\n",
      " [[0 1 2]\n",
      " [1 0 2]\n",
      " [0 1 2]\n",
      " [0 2 1]\n",
      " [0 1 2]]\n"
     ]
    }
   ],
   "source": [
    "arr1 = np.argsort(arr, axis=1)\n",
    "print('排序之后的指标结果是\\n',arr1)"
   ]
  },
  {
   "cell_type": "markdown",
   "metadata": {},
   "source": [
    "## searchsorted 函数"
   ]
  },
  {
   "cell_type": "markdown",
   "metadata": {},
   "source": [
    "    searchsorted(sorted_array, values)\n",
    "\n",
    "`searchsorted` 接受两个参数，其中，第一个必需是已排序的数组。"
   ]
  },
  {
   "cell_type": "code",
   "execution_count": 24,
   "metadata": {
    "ExecuteTime": {
     "end_time": "2019-10-04T11:13:30.994417Z",
     "start_time": "2019-10-04T11:13:30.986439Z"
    }
   },
   "outputs": [
    {
     "data": {
      "text/plain": [
       "array([1, 4, 2, 1, 2, 1], dtype=int64)"
      ]
     },
     "execution_count": 24,
     "metadata": {},
     "output_type": "execute_result"
    }
   ],
   "source": [
    "sorted_array = np.linspace(0,1,5)\n",
    "values = np.array([.1,.8,.3,.12,.5,.25])\n",
    "np.searchsorted(sorted_array, values)"
   ]
  },
  {
   "cell_type": "markdown",
   "metadata": {},
   "source": [
    "排序数组：\n",
    "\n",
    "|0|1|2|3|4|\n",
    "|-|-|-|-|-|\n",
    "|0.0|0.25|0.5|0.75|1.0\n",
    "\n",
    "数值：\n",
    "\n",
    "|值|0.1|0.8|0.3|0.12|0.5|0.25|\n",
    "|-|-|-|-|-|-|-|\n",
    "|插入位置|1|4|2|1|2|1|\n",
    "\n",
    "`searchsorted` 返回的值相当于保持第一个数组的排序性质不变，将第二个数组中的值插入第一个数组中的位置：\n",
    "\n",
    "例如 `0.1` 在 [0.0, 0.25) 之间，所以插入时应当放在第一个数组的索引 `1` 处，故第一个返回值为 `1`。"
   ]
  },
  {
   "cell_type": "markdown",
   "metadata": {},
   "source": [
    "## arange函数：类似range"
   ]
  },
  {
   "cell_type": "markdown",
   "metadata": {
    "ExecuteTime": {
     "end_time": "2019-10-04T11:35:58.066871Z",
     "start_time": "2019-10-04T11:35:58.059890Z"
    }
   },
   "source": [
    "`arange` 类似于**Python**中的 `range` 函数，只不过返回的不是列表，而是数组：\n",
    "\n",
    "    arange(start, stop=None, step=1, dtype=None)\n",
    "\n",
    "产生一个在区间 `[start, stop)` 之间，以 `step` 为间隔的数组，如果只输入一个参数，则默认从 `0` 开始，并以这个值为结束："
   ]
  },
  {
   "cell_type": "code",
   "execution_count": 39,
   "metadata": {
    "ExecuteTime": {
     "end_time": "2019-10-04T11:36:09.098022Z",
     "start_time": "2019-10-04T11:36:09.092037Z"
    }
   },
   "outputs": [
    {
     "data": {
      "text/plain": [
       "array([0, 1, 2, 3])"
      ]
     },
     "execution_count": 39,
     "metadata": {},
     "output_type": "execute_result"
    }
   ],
   "source": [
    "import numpy as np\n",
    "np.arange(4)"
   ]
  },
  {
   "cell_type": "markdown",
   "metadata": {},
   "source": [
    "与 `range` 不同， `arange` 允许非整数值输入，产生一个非整型的数组："
   ]
  },
  {
   "cell_type": "code",
   "execution_count": 40,
   "metadata": {
    "ExecuteTime": {
     "end_time": "2019-10-04T11:37:19.013787Z",
     "start_time": "2019-10-04T11:37:19.007814Z"
    }
   },
   "outputs": [
    {
     "data": {
      "text/plain": [
       "array([0.        , 0.78539816, 1.57079633, 2.35619449, 3.14159265,\n",
       "       3.92699082, 4.71238898, 5.49778714])"
      ]
     },
     "execution_count": 40,
     "metadata": {},
     "output_type": "execute_result"
    }
   ],
   "source": [
    "np.arange(0, 2 * np.pi, np.pi / 4)"
   ]
  },
  {
   "cell_type": "markdown",
   "metadata": {},
   "source": [
    "## linspace, logspace：等距分布"
   ]
  },
  {
   "cell_type": "markdown",
   "metadata": {},
   "source": [
    "    linspace(start, stop, N)\n",
    "\n",
    "产生 `N` 个等距分布在 `[start, stop]`间的元素组成的数组，包括 `start, stop`。\n",
    "\n",
    "    logspace(start, stop, N)\n",
    "\n",
    "产生 N 个对数等距分布的数组，默认以10为底："
   ]
  },
  {
   "cell_type": "code",
   "execution_count": 42,
   "metadata": {
    "ExecuteTime": {
     "end_time": "2019-10-04T11:39:35.362567Z",
     "start_time": "2019-10-04T11:39:35.358544Z"
    }
   },
   "outputs": [
    {
     "data": {
      "text/plain": [
       "array([0.  , 0.25, 0.5 , 0.75, 1.  ])"
      ]
     },
     "execution_count": 42,
     "metadata": {},
     "output_type": "execute_result"
    }
   ],
   "source": [
    "np.linspace(0, 1, 5)"
   ]
  },
  {
   "cell_type": "code",
   "execution_count": 41,
   "metadata": {
    "ExecuteTime": {
     "end_time": "2019-10-04T11:39:24.785427Z",
     "start_time": "2019-10-04T11:39:24.778444Z"
    }
   },
   "outputs": [
    {
     "data": {
      "text/plain": [
       "array([ 1.        ,  1.77827941,  3.16227766,  5.62341325, 10.        ])"
      ]
     },
     "execution_count": 41,
     "metadata": {},
     "output_type": "execute_result"
    }
   ],
   "source": [
    "np.logspace(0, 1, 5)"
   ]
  },
  {
   "cell_type": "markdown",
   "metadata": {},
   "source": [
    "## meshgrid:等距网络"
   ]
  },
  {
   "cell_type": "code",
   "execution_count": 46,
   "metadata": {
    "ExecuteTime": {
     "end_time": "2019-10-04T11:41:55.735667Z",
     "start_time": "2019-10-04T11:41:55.730646Z"
    }
   },
   "outputs": [],
   "source": [
    "x_ticks = np.linspace(-1, 1, 5)\n",
    "y_ticks = np.linspace(-1, 1, 5)\n",
    "\n",
    "x, y = np.meshgrid(x_ticks, y_ticks)"
   ]
  },
  {
   "cell_type": "markdown",
   "metadata": {},
   "source": [
    "`x` 对应网格的第一维，`y` 对应网格的第二维。\n",
    "\n",
    "这里产生的 `x, y`如下："
   ]
  },
  {
   "cell_type": "code",
   "execution_count": 47,
   "metadata": {
    "ExecuteTime": {
     "end_time": "2019-10-04T11:42:04.677662Z",
     "start_time": "2019-10-04T11:42:04.671713Z"
    }
   },
   "outputs": [
    {
     "data": {
      "text/plain": [
       "array([[-1. , -0.5,  0. ,  0.5,  1. ],\n",
       "       [-1. , -0.5,  0. ,  0.5,  1. ],\n",
       "       [-1. , -0.5,  0. ,  0.5,  1. ],\n",
       "       [-1. , -0.5,  0. ,  0.5,  1. ],\n",
       "       [-1. , -0.5,  0. ,  0.5,  1. ]])"
      ]
     },
     "execution_count": 47,
     "metadata": {},
     "output_type": "execute_result"
    }
   ],
   "source": [
    "x"
   ]
  },
  {
   "cell_type": "code",
   "execution_count": 48,
   "metadata": {
    "ExecuteTime": {
     "end_time": "2019-10-04T11:42:05.143922Z",
     "start_time": "2019-10-04T11:42:05.139901Z"
    }
   },
   "outputs": [
    {
     "data": {
      "text/plain": [
       "array([[-1. , -1. , -1. , -1. , -1. ],\n",
       "       [-0.5, -0.5, -0.5, -0.5, -0.5],\n",
       "       [ 0. ,  0. ,  0. ,  0. ,  0. ],\n",
       "       [ 0.5,  0.5,  0.5,  0.5,  0.5],\n",
       "       [ 1. ,  1. ,  1. ,  1. ,  1. ]])"
      ]
     },
     "execution_count": 48,
     "metadata": {},
     "output_type": "execute_result"
    }
   ],
   "source": [
    "y"
   ]
  },
  {
   "cell_type": "markdown",
   "metadata": {},
   "source": [
    "## r`_` , c`_`:行向量/列向量"
   ]
  },
  {
   "cell_type": "markdown",
   "metadata": {},
   "source": [
    "我们可以使用 `r_ / c_` 来产生行向量或者列向量。\n",
    "\n",
    "使用切片产生："
   ]
  },
  {
   "cell_type": "code",
   "execution_count": 50,
   "metadata": {
    "ExecuteTime": {
     "end_time": "2019-10-04T11:43:47.117918Z",
     "start_time": "2019-10-04T11:43:47.110936Z"
    }
   },
   "outputs": [
    {
     "data": {
      "text/plain": [
       "array([0. , 0.1, 0.2, 0.3, 0.4, 0.5, 0.6, 0.7, 0.8, 0.9])"
      ]
     },
     "execution_count": 50,
     "metadata": {},
     "output_type": "execute_result"
    }
   ],
   "source": [
    "np.r_[0:1:0.1]"
   ]
  },
  {
   "cell_type": "markdown",
   "metadata": {},
   "source": [
    "连接多个序列，产生数组："
   ]
  },
  {
   "cell_type": "code",
   "execution_count": 51,
   "metadata": {
    "ExecuteTime": {
     "end_time": "2019-10-04T11:44:10.061620Z",
     "start_time": "2019-10-04T11:44:10.055637Z"
    }
   },
   "outputs": [
    {
     "data": {
      "text/plain": [
       "array([ 3., 22., 11.,  4., 15.,  6.])"
      ]
     },
     "execution_count": 51,
     "metadata": {},
     "output_type": "execute_result"
    }
   ],
   "source": [
    "np.r_[(3,22,11), 4.0, [15, 6]]"
   ]
  },
  {
   "cell_type": "code",
   "execution_count": 52,
   "metadata": {
    "ExecuteTime": {
     "end_time": "2019-10-04T11:44:30.617552Z",
     "start_time": "2019-10-04T11:44:30.611568Z"
    }
   },
   "outputs": [
    {
     "data": {
      "text/plain": [
       "array([[1. ],\n",
       "       [1.5],\n",
       "       [2. ],\n",
       "       [2.5],\n",
       "       [3. ]])"
      ]
     },
     "execution_count": 52,
     "metadata": {},
     "output_type": "execute_result"
    }
   ],
   "source": [
    "# 列向量\n",
    "np.c_[1:3:5j]"
   ]
  },
  {
   "cell_type": "markdown",
   "metadata": {},
   "source": [
    "## numpy的交并补"
   ]
  },
  {
   "cell_type": "markdown",
   "metadata": {},
   "source": [
    "子集：[np.in1d](http://doc.codingdict.com/NumPy_v111/reference/generated/numpy.in1d.html)"
   ]
  },
  {
   "cell_type": "code",
   "execution_count": 45,
   "metadata": {
    "ExecuteTime": {
     "end_time": "2019-08-26T16:56:01.718006Z",
     "start_time": "2019-08-26T16:56:01.707005Z"
    }
   },
   "outputs": [
    {
     "data": {
      "text/plain": [
       "array([ True, False, False,  True,  True, False,  True])"
      ]
     },
     "execution_count": 45,
     "metadata": {},
     "output_type": "execute_result"
    }
   ],
   "source": [
    "values = np.array([6,0,0,3,2,5,6])\n",
    "np.in1d(values, [2,3,6])"
   ]
  },
  {
   "cell_type": "code",
   "execution_count": 46,
   "metadata": {
    "ExecuteTime": {
     "end_time": "2019-08-26T16:56:03.663117Z",
     "start_time": "2019-08-26T16:56:03.654116Z"
    }
   },
   "outputs": [
    {
     "data": {
      "text/plain": [
       "array([2, 3, 6])"
      ]
     },
     "execution_count": 46,
     "metadata": {},
     "output_type": "execute_result"
    }
   ],
   "source": [
    "# 交集\n",
    "np.intersect1d(values, [2,3,6])"
   ]
  },
  {
   "cell_type": "markdown",
   "metadata": {},
   "source": [
    "## 生成各种概率分布"
   ]
  },
  {
   "cell_type": "code",
   "execution_count": 49,
   "metadata": {
    "ExecuteTime": {
     "end_time": "2019-08-26T16:57:45.495941Z",
     "start_time": "2019-08-26T16:57:45.482941Z"
    }
   },
   "outputs": [
    {
     "data": {
      "text/plain": [
       "array([[ 0.72839955, -0.17624434,  0.52071077,  0.66522577],\n",
       "       [ 0.90677079, -0.84590989, -0.76505035, -1.16936409],\n",
       "       [-0.67207943, -0.90062313, -0.95062222, -0.12348399],\n",
       "       [ 1.52615952,  1.40666646,  1.61997447,  0.01507119]])"
      ]
     },
     "execution_count": 49,
     "metadata": {},
     "output_type": "execute_result"
    }
   ],
   "source": [
    "samples = np.random.normal(size=(4,4))\n",
    "samples"
   ]
  },
  {
   "cell_type": "code",
   "execution_count": 50,
   "metadata": {
    "ExecuteTime": {
     "end_time": "2019-08-26T16:59:30.937972Z",
     "start_time": "2019-08-26T16:59:30.896970Z"
    }
   },
   "outputs": [
    {
     "name": "stdout",
     "output_type": "stream",
     "text": [
      "[0.5488135  0.71518937 0.60276338 0.54488318]\n",
      "[0.5488135  0.71518937 0.60276338]\n",
      "[8 6 4 0 2 5 9 1 7 3]\n",
      "[ 3  4 12]\n",
      "[[0 1]\n",
      " [0 1]]\n",
      "[[ 2.54520078  1.08081191  0.48431215  0.57914048]\n",
      " [-0.18158257  1.41020463 -0.37447169  0.27519832]\n",
      " [-0.96075461  0.37692697  0.03343893  0.68056724]]\n",
      "[[0 0 0]\n",
      " [0 0 0]]\n",
      "[[ 1.46274045  1.53502913  0.56644004  0.14926509]\n",
      " [-1.078278    1.39547227  1.78748405 -0.56951726]\n",
      " [ 0.17538653 -0.46250554 -1.0858006   0.63973599]]\n",
      "[[0.4677088  0.46166706]\n",
      " [0.62560303 0.38300476]]\n"
     ]
    }
   ],
   "source": [
    "import random\n",
    "np.random.seed(0)\n",
    "print(np.random.rand(4))\n",
    "np.random.seed(0)\n",
    "print(np.random.rand(3))\n",
    "print(np.random.permutation(np.arange(10)))\n",
    "arr = np.array([12,3,4])\n",
    "np.random.shuffle(arr)\n",
    "print(arr)\n",
    "print(np.random.randint(0,2, size=[2,2]))\n",
    "print(np.random.randn(3,4))\n",
    "print(np.random.binomial(0.4,0.6, size=[2,3]))\n",
    "print(np.random.normal(size=(3,4)))\n",
    "print(np.random.beta(3,4, size=[2,2]))"
   ]
  },
  {
   "cell_type": "markdown",
   "metadata": {},
   "source": [
    "## mat,bmat:矩阵转换"
   ]
  },
  {
   "cell_type": "markdown",
   "metadata": {},
   "source": [
    "使用 `mat` 方法将 `2` 维数组转化为矩阵："
   ]
  },
  {
   "cell_type": "code",
   "execution_count": 63,
   "metadata": {
    "ExecuteTime": {
     "end_time": "2019-10-04T11:57:57.084556Z",
     "start_time": "2019-10-04T11:57:57.076577Z"
    }
   },
   "outputs": [
    {
     "data": {
      "text/plain": [
       "matrix([[1, 2, 4],\n",
       "        [2, 5, 3],\n",
       "        [7, 8, 9]])"
      ]
     },
     "execution_count": 63,
     "metadata": {},
     "output_type": "execute_result"
    }
   ],
   "source": [
    "import numpy as np\n",
    "a = np.array([[1,2,4],\n",
    "              [2,5,3], \n",
    "              [7,8,9]])\n",
    "A = np.mat(a)\n",
    "A"
   ]
  },
  {
   "cell_type": "markdown",
   "metadata": {},
   "source": [
    "也可以使用 **Matlab** 的语法传入一个字符串来生成矩阵："
   ]
  },
  {
   "cell_type": "code",
   "execution_count": 64,
   "metadata": {
    "ExecuteTime": {
     "end_time": "2019-10-04T11:58:53.715317Z",
     "start_time": "2019-10-04T11:58:53.708369Z"
    }
   },
   "outputs": [
    {
     "data": {
      "text/plain": [
       "matrix([[1, 2, 4],\n",
       "        [2, 5, 3],\n",
       "        [7, 8, 9]])"
      ]
     },
     "execution_count": 64,
     "metadata": {},
     "output_type": "execute_result"
    }
   ],
   "source": [
    "A = np.mat('1,2,4;2,5,3;7,8,9')\n",
    "A"
   ]
  },
  {
   "cell_type": "code",
   "execution_count": 65,
   "metadata": {
    "ExecuteTime": {
     "end_time": "2019-10-04T11:59:11.847197Z",
     "start_time": "2019-10-04T11:59:11.840249Z"
    }
   },
   "outputs": [
    {
     "data": {
      "text/plain": [
       "matrix([[ 1,  2, 10, 20],\n",
       "        [ 3,  4, 30, 40],\n",
       "        [10, 20,  1,  2],\n",
       "        [30, 40,  3,  4]])"
      ]
     },
     "execution_count": 65,
     "metadata": {},
     "output_type": "execute_result"
    }
   ],
   "source": [
    "# 利用分块创造新的矩阵：\n",
    "a = np.array([[ 1, 2],\n",
    "              [ 3, 4]])\n",
    "b = np.array([[10,20], \n",
    "              [30,40]])\n",
    "\n",
    "np.bmat('a,b;b,a')"
   ]
  },
  {
   "cell_type": "code",
   "execution_count": 66,
   "metadata": {
    "ExecuteTime": {
     "end_time": "2019-10-04T11:59:42.757017Z",
     "start_time": "2019-10-04T11:59:42.751058Z"
    }
   },
   "outputs": [
    {
     "data": {
      "text/plain": [
       "array([[1],\n",
       "       [2],\n",
       "       [3]])"
      ]
     },
     "execution_count": 66,
     "metadata": {},
     "output_type": "execute_result"
    }
   ],
   "source": [
    "# 矩阵与向量的乘法：\n",
    "x = np.array([[1], [2], [3]])\n",
    "x"
   ]
  },
  {
   "cell_type": "code",
   "execution_count": 67,
   "metadata": {
    "ExecuteTime": {
     "end_time": "2019-10-04T11:59:45.613273Z",
     "start_time": "2019-10-04T11:59:45.609294Z"
    }
   },
   "outputs": [
    {
     "data": {
      "text/plain": [
       "matrix([[17],\n",
       "        [21],\n",
       "        [50]])"
      ]
     },
     "execution_count": 67,
     "metadata": {},
     "output_type": "execute_result"
    }
   ],
   "source": [
    "A * x"
   ]
  },
  {
   "cell_type": "markdown",
   "metadata": {},
   "source": [
    "## 比较和逻辑运算"
   ]
  },
  {
   "cell_type": "markdown",
   "metadata": {},
   "source": [
    "运算|函数<\n",
    "--- | --- \n",
    "`==` | `equal`\n",
    "`!=` | `not_equal`\n",
    "`>` | `greater`\n",
    "`>=` | `greater_equal`\n",
    "`<` | `less`\n",
    "`<=` | `less_equal`\n",
    "| `logical_and`\n",
    "| `logical_or`\n",
    "| `logical_xor`\n",
    "| `logical_not`\n",
    "`&` | `bitwise_and`\n",
    " | `bitwise_or`\n",
    "`^` | `bitwise_xor`\n",
    "`~` | `invert`\n",
    "`>>` | `right_shift`\n",
    "`<<` | `left_shift`"
   ]
  },
  {
   "cell_type": "markdown",
   "metadata": {},
   "source": [
    "要注意的是 `&` 的运算优先于比较运算如 `>` 等，所以必要时候需要加上括号："
   ]
  },
  {
   "cell_type": "code",
   "execution_count": 68,
   "metadata": {
    "ExecuteTime": {
     "end_time": "2019-10-04T12:05:37.179967Z",
     "start_time": "2019-10-04T12:05:37.172984Z"
    }
   },
   "outputs": [
    {
     "data": {
      "text/plain": [
       "array([False, False,  True, False])"
      ]
     },
     "execution_count": 68,
     "metadata": {},
     "output_type": "execute_result"
    }
   ],
   "source": [
    "a = np.array([1,2,4,8])\n",
    "b = np.array([16,32,64,128])\n",
    "\n",
    "(a > 3) & (b < 100)"
   ]
  },
  {
   "cell_type": "code",
   "execution_count": 69,
   "metadata": {
    "ExecuteTime": {
     "end_time": "2019-10-04T12:06:02.179503Z",
     "start_time": "2019-10-04T12:06:02.173521Z"
    }
   },
   "outputs": [
    {
     "data": {
      "text/plain": [
       "array([False,  True, False])"
      ]
     },
     "execution_count": 69,
     "metadata": {},
     "output_type": "execute_result"
    }
   ],
   "source": [
    "a = np.array([0,1,2])\n",
    "b = np.array([0,10,0])\n",
    "\n",
    "np.logical_and(a, b)"
   ]
  },
  {
   "cell_type": "markdown",
   "metadata": {},
   "source": [
    "## 方法总结"
   ]
  },
  {
   "cell_type": "markdown",
   "metadata": {},
   "source": [
    "||作用|\n",
    "|-|-|\n",
    "|1|**基本属性**\n",
    "|`a.dtype`|数组元素类型 `float32,uint8,...`\n",
    "|`a.shape`|数组形状 `(m,n,o,...)`\n",
    "|`a.size`|数组元素数\n",
    "|`a.itemsize`|每个元素占字节数\n",
    "|`a.nbytes`|所有元素占的字节\n",
    "|`a.ndim`|数组维度\n",
    "|2|**形状相关**\n",
    "|`a.flat`|所有元素的迭代器\n",
    "|`a.flatten()`|返回一个1维数组的复制\n",
    "|`a.ravel()`|返回一个1维数组，高效\n",
    "|`a.resize(new_size)`|改变形状\n",
    "|`a.swapaxes(axis1, axis2)`|交换两个维度的位置\n",
    "|`a.transpose(*axex)`|交换所有维度的位置\n",
    "|`a.T`|转置，`a.transpose()`\n",
    "|`a.squeeze()`| 去除所有长度为1的维度\n",
    "|3|**填充复制**\n",
    "|`a.copy()`| 返回数组的一个复制\n",
    "|`a.fill(value)`| 将数组的元组设置为特定值\n",
    "|4|**转化**\n",
    "|`a.tolist()`|将数组转化为列表\n",
    "|`a.tostring()`|转换为字符串\n",
    "|`a.astype(dtype)`|转化为指定类型\n",
    "|`a.byteswap(False)`|转换大小字节序\n",
    "|`a.view(type_or_dtype)`|生成一个使用相同内存，但使用不同的表示方法的数组\n",
    "|5|**复数**\n",
    "|`a.imag`|虚部\n",
    "|`a.real`|实部\n",
    "|`a.conjugate()`|复共轭\n",
    "|`a.conj()`|复共轭（缩写）\n",
    "|6|**保存**\n",
    "|`a.dump(file)`|将二进制数据存在file中\n",
    "|`a.dump()`|将二进制数据表示成字符串\n",
    "|`a.tofile(fid, sep=\"\",format=\"%s\")`|格式化ASCⅡ码写入文件\n",
    "|7|**查找排序**\n",
    "|`a.nonzero()`|返回所有非零元素的索引\n",
    "|`a.sort(axis=-1)`|沿某个轴排序\n",
    "|`a.argsort(axis=-1)`|沿某个轴，返回按排序的索引\n",
    "|`a.searchsorted(b)`|返回将b中元素插入a后能保持有序的索引值\n",
    "|8|**元素数学操作**\n",
    "|`a.clip(low, high)`|将数值限制在一定范围内\n",
    "|`a.round(decimals=0)`|近似到指定精度\n",
    "|`a.cumsum(axis=None)`|累加和\n",
    "|`a.cumprod(axis=None)`|累乘积\n",
    "|9|**约简操作**\n",
    "|`a.sum(axis=None)`|求和\n",
    "|`a.prod(axis=None)`|求积\n",
    "|`a.min(axis=None)`|最小值\n",
    "|`a.max(axis=None)`|最大值\n",
    "|`a.argmin(axis=None)`|最小值索引\n",
    "|`a.argmax(axis=None)`|最大值索引\n",
    "|`a.ptp(axis=None)`|最大值减最小值\n",
    "|`a.mean(axis=None)`|平均值\n",
    "|`a.std(axis=None)`|标准差\n",
    "|`a.var(axis=None)`|方差\n",
    "|`a.any(axis=None)`|只要有一个不为0，返回真，逻辑或\n",
    "|`a.all(axis=None)`|所有都不为0，返回真，逻辑与"
   ]
  },
  {
   "cell_type": "code",
   "execution_count": null,
   "metadata": {},
   "outputs": [],
   "source": []
  }
 ],
 "metadata": {
  "hide_input": false,
  "kernelspec": {
   "display_name": "Python 3",
   "language": "python",
   "name": "python3"
  },
  "language_info": {
   "codemirror_mode": {
    "name": "ipython",
    "version": 3
   },
   "file_extension": ".py",
   "mimetype": "text/x-python",
   "name": "python",
   "nbconvert_exporter": "python",
   "pygments_lexer": "ipython3",
   "version": "3.7.3"
  },
  "toc": {
   "base_numbering": 1,
   "nav_menu": {},
   "number_sections": true,
   "sideBar": true,
   "skip_h1_title": false,
   "title_cell": "Table of Contents",
   "title_sidebar": "Contents",
   "toc_cell": false,
   "toc_position": {
    "height": "calc(100% - 180px)",
    "left": "10px",
    "top": "150px",
    "width": "304.188px"
   },
   "toc_section_display": true,
   "toc_window_display": true
  },
  "varInspector": {
   "cols": {
    "lenName": 16,
    "lenType": 16,
    "lenVar": 40
   },
   "kernels_config": {
    "python": {
     "delete_cmd_postfix": "",
     "delete_cmd_prefix": "del ",
     "library": "var_list.py",
     "varRefreshCmd": "print(var_dic_list())"
    },
    "r": {
     "delete_cmd_postfix": ") ",
     "delete_cmd_prefix": "rm(",
     "library": "var_list.r",
     "varRefreshCmd": "cat(var_dic_list()) "
    }
   },
   "types_to_exclude": [
    "module",
    "function",
    "builtin_function_or_method",
    "instance",
    "_Feature"
   ],
   "window_display": false
  }
 },
 "nbformat": 4,
 "nbformat_minor": 2
}

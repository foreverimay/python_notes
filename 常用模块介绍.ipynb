{
 "cells": [
  {
   "cell_type": "markdown",
   "metadata": {},
   "source": [
    "# sys 模块简介"
   ]
  },
  {
   "cell_type": "markdown",
   "metadata": {},
   "source": [
    "## 命令行参数"
   ]
  },
  {
   "cell_type": "markdown",
   "metadata": {},
   "source": [
    "`sys.argv` 显示传入的参数："
   ]
  },
  {
   "cell_type": "code",
   "execution_count": 22,
   "metadata": {
    "ExecuteTime": {
     "end_time": "2019-10-04T15:15:49.542592Z",
     "start_time": "2019-10-04T15:15:49.539565Z"
    }
   },
   "outputs": [],
   "source": [
    "import sys"
   ]
  },
  {
   "cell_type": "code",
   "execution_count": 24,
   "metadata": {
    "ExecuteTime": {
     "end_time": "2019-10-04T15:16:52.964175Z",
     "start_time": "2019-10-04T15:16:52.959221Z"
    }
   },
   "outputs": [
    {
     "name": "stdout",
     "output_type": "stream",
     "text": [
      "Overwriting print_args.py\n"
     ]
    }
   ],
   "source": [
    "%%writefile print_args.py\n",
    "import sys\n",
    "print(sys.argv)"
   ]
  },
  {
   "cell_type": "code",
   "execution_count": 25,
   "metadata": {
    "ExecuteTime": {
     "end_time": "2019-10-04T15:16:54.971534Z",
     "start_time": "2019-10-04T15:16:54.964586Z"
    }
   },
   "outputs": [
    {
     "name": "stdout",
     "output_type": "stream",
     "text": [
      "['print_args.py', '1', 'foo']\n"
     ]
    }
   ],
   "source": [
    "# 运行这个程序：\n",
    "%run print_args.py 1 foo"
   ]
  },
  {
   "cell_type": "markdown",
   "metadata": {},
   "source": [
    "第一个参数 （`sys.args[0]`） 表示的始终是执行的文件名，然后依次显示传入的参数。\n",
    "\n",
    "删除刚才生成的文件："
   ]
  },
  {
   "cell_type": "code",
   "execution_count": 26,
   "metadata": {
    "ExecuteTime": {
     "end_time": "2019-10-04T15:17:34.096179Z",
     "start_time": "2019-10-04T15:17:34.092220Z"
    }
   },
   "outputs": [],
   "source": [
    "import os\n",
    "os.remove('print_args.py')"
   ]
  },
  {
   "cell_type": "markdown",
   "metadata": {},
   "source": [
    "## 异常消息"
   ]
  },
  {
   "cell_type": "markdown",
   "metadata": {},
   "source": [
    "`sys.exc_info()` 可以显示 `Exception` 的信息，返回一个 `(type, value, traceback)` 组成的三元组，可以与 `try/catch` 块一起使用： "
   ]
  },
  {
   "cell_type": "code",
   "execution_count": 28,
   "metadata": {
    "ExecuteTime": {
     "end_time": "2019-10-04T15:18:48.603126Z",
     "start_time": "2019-10-04T15:18:48.600102Z"
    }
   },
   "outputs": [
    {
     "name": "stdout",
     "output_type": "stream",
     "text": [
      "(<class 'ZeroDivisionError'>, ZeroDivisionError('division by zero'), <traceback object at 0x0000021370584308>)\n"
     ]
    }
   ],
   "source": [
    "try:\n",
    "    x = 1/0\n",
    "except Exception:\n",
    "    print(sys.exc_info())"
   ]
  },
  {
   "cell_type": "markdown",
   "metadata": {},
   "source": [
    "`sys.exc_clear()` 用于清除所有的异常消息。"
   ]
  },
  {
   "cell_type": "markdown",
   "metadata": {},
   "source": [
    "## Python Path"
   ]
  },
  {
   "cell_type": "markdown",
   "metadata": {},
   "source": [
    "`sys.path` 表示 Python 搜索模块的路径和查找顺序,在程序中可以修改，添加新的路径。"
   ]
  },
  {
   "cell_type": "code",
   "execution_count": 29,
   "metadata": {
    "ExecuteTime": {
     "end_time": "2019-10-04T15:20:09.108849Z",
     "start_time": "2019-10-04T15:20:09.099873Z"
    }
   },
   "outputs": [
    {
     "data": {
      "text/plain": [
       "['E:\\\\chen_gitlub\\\\python_notes',\n",
       " 'c:\\\\users\\\\admin\\\\appdata\\\\local\\\\programs\\\\python\\\\python37\\\\python37.zip',\n",
       " 'c:\\\\users\\\\admin\\\\appdata\\\\local\\\\programs\\\\python\\\\python37\\\\DLLs',\n",
       " 'c:\\\\users\\\\admin\\\\appdata\\\\local\\\\programs\\\\python\\\\python37\\\\lib',\n",
       " 'c:\\\\users\\\\admin\\\\appdata\\\\local\\\\programs\\\\python\\\\python37',\n",
       " '',\n",
       " 'C:\\\\Users\\\\admin\\\\AppData\\\\Roaming\\\\Python\\\\Python37\\\\site-packages',\n",
       " 'c:\\\\users\\\\admin\\\\appdata\\\\local\\\\programs\\\\python\\\\python37\\\\lib\\\\site-packages',\n",
       " 'c:\\\\users\\\\admin\\\\appdata\\\\local\\\\programs\\\\python\\\\python37\\\\lib\\\\site-packages\\\\IPython\\\\extensions',\n",
       " 'C:\\\\Users\\\\admin\\\\.ipython']"
      ]
     },
     "execution_count": 29,
     "metadata": {},
     "output_type": "execute_result"
    }
   ],
   "source": [
    "sys.path"
   ]
  },
  {
   "cell_type": "markdown",
   "metadata": {},
   "source": [
    "# os 模块:与操作系统进行交互"
   ]
  },
  {
   "cell_type": "markdown",
   "metadata": {},
   "source": [
    "`os` 模块提供了对系统文件进行操作的方法："
   ]
  },
  {
   "cell_type": "code",
   "execution_count": 30,
   "metadata": {
    "ExecuteTime": {
     "end_time": "2019-10-04T15:25:01.026888Z",
     "start_time": "2019-10-04T15:25:01.010691Z"
    }
   },
   "outputs": [],
   "source": [
    "import os"
   ]
  },
  {
   "cell_type": "markdown",
   "metadata": {},
   "source": [
    "## 文件路径操作"
   ]
  },
  {
   "cell_type": "markdown",
   "metadata": {},
   "source": [
    "- `os.remove(path)` 或 `os.unlink(path)` ：删除指定路径的文件。路径可以是全名，也可以是当前工作目录下的路径。\n",
    "- `os.removedirs`：删除文件，并删除中间路径中的空文件夹\n",
    "- `os.chdir(path)`：将当前工作目录改变为指定的路径\n",
    "- `os.getcwd()`：返回当前的工作目录\n",
    "- `os.curdir`：表示当前目录的符号\n",
    "- `os.rename(old, new)`：重命名文件\n",
    "- `os.renames(old, new)`：重命名文件，如果中间路径的文件夹不存在，则创建文件夹\n",
    "- `os.listdir(path)`：返回给定目录下的所有文件夹和文件名，不包括 `'.'` 和 `'..'` 以及子文件夹下的目录。（`'.'` 和 `'..'` 分别指当前目录和父目录）\n",
    "- `os.mkdir(name)`：建立新文件夹\n",
    "- `os.makedirs(name)`：建立新文件夹，如果中间路径的文件夹不存在，则创建文件夹"
   ]
  },
  {
   "cell_type": "code",
   "execution_count": 31,
   "metadata": {
    "ExecuteTime": {
     "end_time": "2019-10-04T15:25:35.477796Z",
     "start_time": "2019-10-04T15:25:35.472844Z"
    }
   },
   "outputs": [
    {
     "data": {
      "text/plain": [
       "'E:\\\\chen_gitlub\\\\python_notes'"
      ]
     },
     "execution_count": 31,
     "metadata": {},
     "output_type": "execute_result"
    }
   ],
   "source": [
    "# 当前目录：\n",
    "os.getcwd()"
   ]
  },
  {
   "cell_type": "code",
   "execution_count": 32,
   "metadata": {
    "ExecuteTime": {
     "end_time": "2019-10-04T15:26:19.651389Z",
     "start_time": "2019-10-04T15:26:19.646399Z"
    }
   },
   "outputs": [
    {
     "data": {
      "text/plain": [
       "'.'"
      ]
     },
     "execution_count": 32,
     "metadata": {},
     "output_type": "execute_result"
    }
   ],
   "source": [
    "# 当前目录的符号：\n",
    "os.curdir"
   ]
  },
  {
   "cell_type": "code",
   "execution_count": 33,
   "metadata": {
    "ExecuteTime": {
     "end_time": "2019-10-04T15:26:43.730029Z",
     "start_time": "2019-10-04T15:26:43.724069Z"
    }
   },
   "outputs": [
    {
     "data": {
      "text/plain": [
       "['.git',\n",
       " '.idea',\n",
       " '.ipynb_checkpoints',\n",
       " '1',\n",
       " 'Class即类的介绍.ipynb',\n",
       " 'input_data',\n",
       " 'NumPy.ipynb',\n",
       " 'output',\n",
       " 'Pandas.ipynb',\n",
       " 'python基本知识.ipynb',\n",
       " 'python基本编程.ipynb',\n",
       " 'python进阶编程.ipynb',\n",
       " 'README.md',\n",
       " 'String.ipynb',\n",
       " '__pycache__',\n",
       " '列表&元祖&集合&字典.ipynb',\n",
       " '常用Python标准库.ipynb',\n",
       " '常用模块介绍.ipynb']"
      ]
     },
     "execution_count": 33,
     "metadata": {},
     "output_type": "execute_result"
    }
   ],
   "source": [
    "# 当前目录下的文件：\n",
    "os.listdir(os.curdir)"
   ]
  },
  {
   "cell_type": "code",
   "execution_count": 34,
   "metadata": {
    "ExecuteTime": {
     "end_time": "2019-10-04T15:27:31.737677Z",
     "start_time": "2019-10-04T15:27:31.731690Z"
    }
   },
   "outputs": [
    {
     "name": "stdout",
     "output_type": "stream",
     "text": [
      "True\n"
     ]
    }
   ],
   "source": [
    "# 产生文件\n",
    "f = open(\"test.file\", \"w\")\n",
    "f.close()\n",
    "print(\"test.file\" in os.listdir(os.curdir))"
   ]
  },
  {
   "cell_type": "code",
   "execution_count": 35,
   "metadata": {
    "ExecuteTime": {
     "end_time": "2019-10-04T15:28:07.455802Z",
     "start_time": "2019-10-04T15:28:07.449815Z"
    }
   },
   "outputs": [
    {
     "name": "stdout",
     "output_type": "stream",
     "text": [
      "False\n",
      "True\n"
     ]
    }
   ],
   "source": [
    "# 重命名文件\n",
    "os.rename(\"test.file\", \"test.new.file\")\n",
    "print(\"test.file\" in os.listdir(os.curdir))\n",
    "print(\"test.new.file\" in os.listdir(os.curdir))"
   ]
  },
  {
   "cell_type": "code",
   "execution_count": 36,
   "metadata": {
    "ExecuteTime": {
     "end_time": "2019-10-04T15:28:35.513930Z",
     "start_time": "2019-10-04T15:28:35.510908Z"
    }
   },
   "outputs": [],
   "source": [
    "# 删除文件\n",
    "os.remove(\"test.new.file\")"
   ]
  },
  {
   "cell_type": "markdown",
   "metadata": {},
   "source": [
    "`os.environ` 是一个存储所有环境变量的值的字典，可以修改。"
   ]
  },
  {
   "cell_type": "code",
   "execution_count": 40,
   "metadata": {
    "ExecuteTime": {
     "end_time": "2019-10-04T15:30:26.176183Z",
     "start_time": "2019-10-04T15:30:26.169202Z"
    }
   },
   "outputs": [
    {
     "data": {
      "text/plain": [
       "'admin'"
      ]
     },
     "execution_count": 40,
     "metadata": {},
     "output_type": "execute_result"
    }
   ],
   "source": [
    "os.environ['USERNAME']"
   ]
  },
  {
   "cell_type": "markdown",
   "metadata": {},
   "source": [
    "## os.path 模块"
   ]
  },
  {
   "cell_type": "markdown",
   "metadata": {},
   "source": [
    "不同的操作系统使用不同的路径规范，这样当我们在不同的操作系统下进行操作时，可能会带来一定的麻烦，而 `os.path` 模块则帮我们解决了这个问题。"
   ]
  },
  {
   "cell_type": "code",
   "execution_count": 41,
   "metadata": {
    "ExecuteTime": {
     "end_time": "2019-10-04T15:32:51.392181Z",
     "start_time": "2019-10-04T15:32:51.389145Z"
    }
   },
   "outputs": [],
   "source": [
    "import os.path"
   ]
  },
  {
   "cell_type": "markdown",
   "metadata": {},
   "source": [
    "**测试**：\n",
    "- `os.path.isfile(path)` ：检测一个路径是否为普通文件\n",
    "- `os.path.isdir(path)`：检测一个路径是否为文件夹\n",
    "- `os.path.exists(path)`：检测路径是否存在\n",
    "- `os.path.isabs(path)`：检测路径是否为绝对路径"
   ]
  },
  {
   "cell_type": "markdown",
   "metadata": {},
   "source": [
    "**split和join**:\n",
    "- `os.path.split(path)`：拆分一个路径为 `(head, tail)` 两部分\n",
    "- `os.path.join(a, *p)`：使用系统的路径分隔符，将各个部分合成一个路径"
   ]
  },
  {
   "cell_type": "markdown",
   "metadata": {},
   "source": [
    "**其他**：\n",
    "- `os.path.abspath()`：返回路径的绝对路径\n",
    "- `os.path.dirname(path)`：返回路径中的文件夹部分\n",
    "- `os.path.basename(path)`：返回路径中的文件部分\n",
    "- `os.path.splitext(path)`：将路径与扩展名分开\n",
    "- `os.path.expanduser(path)`：展开 `'~'` 和 `'~user'`"
   ]
  },
  {
   "cell_type": "markdown",
   "metadata": {},
   "source": [
    "# datetime 模块"
   ]
  },
  {
   "cell_type": "markdown",
   "metadata": {},
   "source": [
    "`datetime` 提供了基础时间和日期的处理。"
   ]
  },
  {
   "cell_type": "code",
   "execution_count": 48,
   "metadata": {
    "ExecuteTime": {
     "end_time": "2019-10-04T15:51:46.262071Z",
     "start_time": "2019-10-04T15:51:46.256089Z"
    }
   },
   "outputs": [],
   "source": [
    "from datetime import date,datetime,time,timedelta"
   ]
  },
  {
   "cell_type": "markdown",
   "metadata": {},
   "source": [
    "## date 对象"
   ]
  },
  {
   "cell_type": "markdown",
   "metadata": {},
   "source": [
    "可以使用 `date(year, month, day)` 产生一个 `date` 对象："
   ]
  },
  {
   "cell_type": "code",
   "execution_count": 43,
   "metadata": {
    "ExecuteTime": {
     "end_time": "2019-10-04T15:45:21.986620Z",
     "start_time": "2019-10-04T15:45:21.982672Z"
    }
   },
   "outputs": [],
   "source": [
    "d1 = date(2007, 9, 25)"
   ]
  },
  {
   "cell_type": "markdown",
   "metadata": {},
   "source": [
    "可以格式化 `date` 对象的输出："
   ]
  },
  {
   "cell_type": "code",
   "execution_count": 44,
   "metadata": {
    "ExecuteTime": {
     "end_time": "2019-10-04T15:45:56.449865Z",
     "start_time": "2019-10-04T15:45:56.444916Z"
    }
   },
   "outputs": [
    {
     "name": "stdout",
     "output_type": "stream",
     "text": [
      "\n",
      " 2007-09-25 \n",
      " Tuesday, 09/25/07 \n",
      " Tue, 09-25-2007\n"
     ]
    }
   ],
   "source": [
    "print('\\n',d1,\n",
    "      '\\n',d1.strftime('%A, %m/%d/%y'),\n",
    "      '\\n',d1.strftime('%a, %m-%d-%Y'))"
   ]
  },
  {
   "cell_type": "markdown",
   "metadata": {},
   "source": [
    "可以看两个日期相差多久,返回的是一个 `timedelta` 对象："
   ]
  },
  {
   "cell_type": "code",
   "execution_count": 47,
   "metadata": {
    "ExecuteTime": {
     "end_time": "2019-10-04T15:48:12.255578Z",
     "start_time": "2019-10-04T15:48:12.249594Z"
    }
   },
   "outputs": [
    {
     "name": "stdout",
     "output_type": "stream",
     "text": [
      "\n",
      " 366 days, 0:00:00 \n",
      " 366 \n",
      " 0\n"
     ]
    }
   ],
   "source": [
    "d2 = date(2008, 9, 25)\n",
    "d = d2 - d1\n",
    "print('\\n',d,\n",
    "      '\\n',d.days,\n",
    "      '\\n',d.seconds)"
   ]
  },
  {
   "cell_type": "markdown",
   "metadata": {},
   "source": [
    "## time 对象"
   ]
  },
  {
   "cell_type": "markdown",
   "metadata": {},
   "source": [
    "可以使用 `time(hour, min, sec, us)` 产生一个 `time` 对象："
   ]
  },
  {
   "cell_type": "code",
   "execution_count": 50,
   "metadata": {
    "ExecuteTime": {
     "end_time": "2019-10-04T15:53:14.382702Z",
     "start_time": "2019-10-04T15:53:14.377715Z"
    }
   },
   "outputs": [
    {
     "name": "stdout",
     "output_type": "stream",
     "text": [
      "\n",
      " 15:38:00 \n",
      " 03:38, PM \n",
      " 15:38:00, PM\n"
     ]
    }
   ],
   "source": [
    "t1 = time(15, 38)\n",
    "t2 = time(18)\n",
    "print('\\n',t1,\n",
    "      '\\n',t1.strftime('%I:%M, %p'),\n",
    "      '\\n',t1.strftime('%H:%M:%S, %p'))"
   ]
  },
  {
   "cell_type": "markdown",
   "metadata": {},
   "source": [
    "因为没有具体的日期信息，所以 `time` 对象不支持减法操作。"
   ]
  },
  {
   "cell_type": "markdown",
   "metadata": {},
   "source": [
    "## datetime 对象"
   ]
  },
  {
   "cell_type": "markdown",
   "metadata": {},
   "source": [
    "可以使用 `datetime(year, month, day, hr, min, sec, us)` 来创建一个 `datetime` 对象。 \n",
    "\n",
    "获得当前时间："
   ]
  },
  {
   "cell_type": "code",
   "execution_count": 51,
   "metadata": {
    "ExecuteTime": {
     "end_time": "2019-10-04T15:55:37.530142Z",
     "start_time": "2019-10-04T15:55:37.526153Z"
    }
   },
   "outputs": [
    {
     "name": "stdout",
     "output_type": "stream",
     "text": [
      "2019-10-04 23:55:37.527155\n"
     ]
    }
   ],
   "source": [
    "d1 = datetime.now()\n",
    "print(d1)"
   ]
  },
  {
   "cell_type": "markdown",
   "metadata": {},
   "source": [
    "给当前的时间加上 `30` 天，`timedelta` 的参数是 `timedelta(day, hr, min, sec, us)`："
   ]
  },
  {
   "cell_type": "code",
   "execution_count": 53,
   "metadata": {
    "ExecuteTime": {
     "end_time": "2019-10-04T15:56:00.585129Z",
     "start_time": "2019-10-04T15:56:00.567993Z"
    }
   },
   "outputs": [
    {
     "name": "stdout",
     "output_type": "stream",
     "text": [
      "2019-11-03 23:55:37.527155\n"
     ]
    }
   ],
   "source": [
    "d2 = d1 + timedelta(30)\n",
    "print(d2)"
   ]
  },
  {
   "cell_type": "markdown",
   "metadata": {},
   "source": [
    "除此之外，我们还可以通过一些指定格式的字符串来创建 `datetime` 对象："
   ]
  },
  {
   "cell_type": "code",
   "execution_count": 54,
   "metadata": {
    "ExecuteTime": {
     "end_time": "2019-10-04T15:56:10.255693Z",
     "start_time": "2019-10-04T15:56:10.251674Z"
    }
   },
   "outputs": [
    {
     "name": "stdout",
     "output_type": "stream",
     "text": [
      "2001-02-10 00:00:00\n"
     ]
    }
   ],
   "source": [
    "print(datetime.strptime('2/10/01', '%m/%d/%y'))"
   ]
  },
  {
   "cell_type": "markdown",
   "metadata": {},
   "source": [
    "## datetime 格式字符表"
   ]
  },
  {
   "cell_type": "markdown",
   "metadata": {},
   "source": [
    "字符|含义\n",
    "--|--\n",
    "`%a` | 星期英文缩写\n",
    "`%A` | 星期英文\n",
    "`%w` | 一星期的第几天，`[0(sun),6]`\n",
    "`%b` | 月份英文缩写\n",
    "`%B` | 月份英文\n",
    "`%d` | 日期，`[01,31]`\n",
    "`%H` | 小时，`[00,23]`\n",
    "`%I` | 小时，`[01,12]`\n",
    "`%j` | 一年的第几天，`[001,366]`\n",
    "`%m` | 月份，`[01,12]`\n",
    "`%M` | 分钟，`[00,59]`\n",
    "`%p` | AM 和 PM\n",
    "`%S` | 秒钟，`[00,61]` （大概是有闰秒的存在）\n",
    "`%U` | 一年中的第几个星期，星期日为第一天，`[00,53]`\n",
    "`%W` | 一年中的第几个星期，星期一为第一天，`[00,53]`\n",
    "`%y` | 没有世纪的年份\n",
    "`%Y` | 完整的年份"
   ]
  },
  {
   "cell_type": "markdown",
   "metadata": {},
   "source": [
    "# re 模块,正则表达式"
   ]
  },
  {
   "cell_type": "markdown",
   "metadata": {},
   "source": [
    "## 正则表达式"
   ]
  },
  {
   "cell_type": "markdown",
   "metadata": {},
   "source": [
    "[正则表达式](http://baike.baidu.com/view/94238.htm)是用来匹配字符串或者子串的一种模式，匹配的字符串可以很具体，也可以很一般化。\n",
    "\n",
    "`Python` 标准库提供了 `re` 模块。 "
   ]
  },
  {
   "cell_type": "code",
   "execution_count": 2,
   "metadata": {
    "ExecuteTime": {
     "end_time": "2019-10-04T15:05:59.058941Z",
     "start_time": "2019-10-04T15:05:59.055954Z"
    }
   },
   "outputs": [],
   "source": [
    "import re"
   ]
  },
  {
   "cell_type": "markdown",
   "metadata": {},
   "source": [
    "## re.match & re.search"
   ]
  },
  {
   "cell_type": "markdown",
   "metadata": {},
   "source": [
    "在 `re` 模块中， `re.match` 和 `re.search` 是常用的两个方法：\n",
    "\n",
    "    re.match(pattern, string[, flags])\n",
    "    re.search(pattern, string[, flags])\n",
    "\n",
    "两者都寻找第一个匹配成功的部分，成功则返回一个 `match` 对象，不成功则返回 `None`，不同之处在于：\n",
    "\n",
    "1. `re.match` 只匹配字符串的开头部分；\n",
    "\n",
    "2. `re.search` 匹配的则是整个字符串中的子串。"
   ]
  },
  {
   "cell_type": "markdown",
   "metadata": {},
   "source": [
    "## 其他"
   ]
  },
  {
   "cell_type": "markdown",
   "metadata": {},
   "source": [
    "* `re.findall(pattern, string)` 返回所有匹配的对象， `re.finditer` 则返回一个迭代器；\n",
    "\n",
    "* `re.split(pattern, string[, maxsplit])` 按照 `pattern` 指定的内容对字符串进行分割；\n",
    "\n",
    "* `re.sub(pattern, repl, string[, count])` 将 `pattern` 匹配的内容进行替换；\n",
    "\n",
    "* `re.compile(pattern)` 生成一个 `pattern` 对象，这个对象有匹配，替换，分割字符串的方法。"
   ]
  },
  {
   "cell_type": "markdown",
   "metadata": {},
   "source": [
    "## 正则表达式规则"
   ]
  },
  {
   "cell_type": "markdown",
   "metadata": {},
   "source": [
    "正则表达式由一些普通字符和一些元字符（metacharacters）组成。普通字符包括大小写的字母和数字，而元字符则具有特殊的含义：\n",
    "\n",
    "子表达式|匹配内容\n",
    "---|---\n",
    "`.`| 匹配除了换行符之外的内容\n",
    "`\\w` | 匹配所有字母和数字字符\n",
    "`\\d` | 匹配所有数字，相当于 `[0-9]`\n",
    "`\\s` | 匹配空白，相当于 `[\\t\\n\\t\\f\\v]`\n",
    "`\\W,\\D,\\S`| 匹配对应小写字母形式的补\n",
    "`[...]` | 表示可以匹配的集合，支持范围表示如 `a-z`, `0-9` 等\n",
    "`(...)` | 表示作为一个整体进行匹配\n",
    "&#166; | 表示逻辑或\n",
    "`^` | 表示匹配后面的子表达式的补\n",
    "`*` | 表示匹配前面的子表达式 0 次或更多次\n",
    "`+` | 表示匹配前面的子表达式 1 次或更多次\n",
    "`?` | 表示匹配前面的子表达式 0 次或 1 次\n",
    "`{m}` | 表示匹配前面的子表达式 m 次\n",
    "`{m,}` | 表示匹配前面的子表达式至少 m 次\n",
    "`{m,n}` | 表示匹配前面的子表达式至少 m 次，至多 n 次\n",
    "\n",
    "例如：\n",
    "\n",
    "- `ca*t       匹配： ct, cat, caaaat, ...`\n",
    "- `ab\\d|ac\\d  匹配： ab1, ac9, ...`\n",
    "- `([^a-q]bd) 匹配： rbd, 5bd, ...`"
   ]
  },
  {
   "cell_type": "markdown",
   "metadata": {},
   "source": [
    "## 例子"
   ]
  },
  {
   "cell_type": "markdown",
   "metadata": {},
   "source": [
    "假设我们要匹配这样的字符串："
   ]
  },
  {
   "cell_type": "code",
   "execution_count": 6,
   "metadata": {
    "ExecuteTime": {
     "end_time": "2019-10-04T15:07:59.995798Z",
     "start_time": "2019-10-04T15:07:59.992801Z"
    }
   },
   "outputs": [
    {
     "name": "stdout",
     "output_type": "stream",
     "text": [
      "<re.Match object; span=(0, 11), match='hello world'>\n"
     ]
    }
   ],
   "source": [
    "string = 'hello world'\n",
    "pattern = 'hello (\\w+)'\n",
    "\n",
    "match = re.match(pattern, string)\n",
    "print(match)"
   ]
  },
  {
   "cell_type": "markdown",
   "metadata": {},
   "source": [
    "一旦找到了符合条件的部分，我们便可以使用 `group` 方法查看匹配的部分："
   ]
  },
  {
   "cell_type": "code",
   "execution_count": 9,
   "metadata": {
    "ExecuteTime": {
     "end_time": "2019-10-04T15:09:37.543344Z",
     "start_time": "2019-10-04T15:09:37.538354Z"
    }
   },
   "outputs": [
    {
     "name": "stdout",
     "output_type": "stream",
     "text": [
      "hello world\n",
      "world\n"
     ]
    }
   ],
   "source": [
    "if match is not None:\n",
    "    print(match.group(0))\n",
    "    print(match.group(1))"
   ]
  },
  {
   "cell_type": "markdown",
   "metadata": {},
   "source": [
    "我们可以改变 string 的内容："
   ]
  },
  {
   "cell_type": "code",
   "execution_count": 10,
   "metadata": {
    "ExecuteTime": {
     "end_time": "2019-10-04T15:09:43.650062Z",
     "start_time": "2019-10-04T15:09:43.646055Z"
    }
   },
   "outputs": [
    {
     "name": "stdout",
     "output_type": "stream",
     "text": [
      "hello there\n",
      "there\n"
     ]
    }
   ],
   "source": [
    "string = 'hello there'\n",
    "pattern = 'hello (\\w+)'\n",
    "\n",
    "match = re.match(pattern, string)\n",
    "if match is not None:\n",
    "    print(match.group(0))\n",
    "    print(match.group(1))"
   ]
  },
  {
   "cell_type": "markdown",
   "metadata": {},
   "source": [
    "通常，`match.group(0)` 匹配整个返回的内容，之后的 `1,2,3,...` 返回规则中每个括号（按照括号的位置排序）匹配的部分。\n",
    "\n",
    "如果某个 `pattern` 需要反复使用，那么我们可以将它预先编译："
   ]
  },
  {
   "cell_type": "code",
   "execution_count": 11,
   "metadata": {
    "ExecuteTime": {
     "end_time": "2019-10-04T15:10:51.130943Z",
     "start_time": "2019-10-04T15:10:51.125957Z"
    }
   },
   "outputs": [
    {
     "name": "stdout",
     "output_type": "stream",
     "text": [
      "there\n"
     ]
    }
   ],
   "source": [
    "pattern1 = re.compile('hello (\\w+)')\n",
    "\n",
    "match = pattern1.match(string)\n",
    "if match is not None:\n",
    "    print(match.group(1))"
   ]
  },
  {
   "cell_type": "markdown",
   "metadata": {},
   "source": [
    "由于元字符的存在，所以对于一些特殊字符，我们需要使用 `'\\'` 进行逃逸字符的处理，使用表达式 `'\\\\'` 来匹配 `'\\'` 。\n",
    "\n",
    "但事实上，`Python` 本身对逃逸字符也是这样处理的："
   ]
  },
  {
   "cell_type": "code",
   "execution_count": 12,
   "metadata": {
    "ExecuteTime": {
     "end_time": "2019-10-04T15:11:04.747792Z",
     "start_time": "2019-10-04T15:11:04.743771Z"
    }
   },
   "outputs": [
    {
     "name": "stdout",
     "output_type": "stream",
     "text": [
      "\\\n"
     ]
    }
   ],
   "source": [
    "pattern = '\\\\'\n",
    "print(pattern)"
   ]
  },
  {
   "cell_type": "markdown",
   "metadata": {},
   "source": [
    "因为逃逸字符的问题，我们需要使用四个 `'\\\\\\\\'` 来匹配一个单独的 `'\\\\'`："
   ]
  },
  {
   "cell_type": "code",
   "execution_count": 15,
   "metadata": {
    "ExecuteTime": {
     "end_time": "2019-10-04T15:12:05.369226Z",
     "start_time": "2019-10-04T15:12:05.365234Z"
    }
   },
   "outputs": [
    {
     "name": "stdout",
     "output_type": "stream",
     "text": [
      "['C:', 'foo', 'bar', 'baz.txt']\n"
     ]
    }
   ],
   "source": [
    "pattern = '\\\\\\\\'\n",
    "path = \"C:\\\\foo\\\\bar\\\\baz.txt\"\n",
    "print(re.split(pattern, path))"
   ]
  },
  {
   "cell_type": "markdown",
   "metadata": {},
   "source": [
    "这样看起来十分麻烦，好在 `Python` 提供了 `raw string` 来忽略对逃逸字符串的处理，从而可以这样进行匹配："
   ]
  },
  {
   "cell_type": "code",
   "execution_count": 16,
   "metadata": {
    "ExecuteTime": {
     "end_time": "2019-10-04T15:12:33.660258Z",
     "start_time": "2019-10-04T15:12:33.657226Z"
    },
    "scrolled": true
   },
   "outputs": [
    {
     "name": "stdout",
     "output_type": "stream",
     "text": [
      "['C:', 'foo', 'bar', 'baz.txt']\n"
     ]
    }
   ],
   "source": [
    "pattern = r'\\\\'\n",
    "path = r\"C:\\foo\\bar\\baz.txt\"\n",
    "print(re.split(pattern, path))"
   ]
  },
  {
   "cell_type": "markdown",
   "metadata": {},
   "source": [
    "如果规则太多复杂，正则表达式不一定是个好选择。"
   ]
  },
  {
   "cell_type": "markdown",
   "metadata": {},
   "source": [
    "## Numpy 的 fromregex()"
   ]
  },
  {
   "cell_type": "code",
   "execution_count": 18,
   "metadata": {
    "ExecuteTime": {
     "end_time": "2019-10-04T15:14:04.631945Z",
     "start_time": "2019-10-04T15:14:04.625931Z"
    }
   },
   "outputs": [
    {
     "name": "stdout",
     "output_type": "stream",
     "text": [
      "Writing test.dat\n"
     ]
    }
   ],
   "source": [
    "%%file test.dat \n",
    "1312 foo\n",
    "1534    bar\n",
    "444  qux"
   ]
  },
  {
   "cell_type": "markdown",
   "metadata": {},
   "source": [
    "    fromregex(file, pattern, dtype)"
   ]
  },
  {
   "cell_type": "markdown",
   "metadata": {},
   "source": [
    "`dtype` 中的内容与 `pattern` 的括号一一对应："
   ]
  },
  {
   "cell_type": "code",
   "execution_count": 19,
   "metadata": {
    "ExecuteTime": {
     "end_time": "2019-10-04T15:14:07.229171Z",
     "start_time": "2019-10-04T15:14:07.218200Z"
    }
   },
   "outputs": [
    {
     "name": "stdout",
     "output_type": "stream",
     "text": [
      "[(1312, b'foo') (1534, b'bar') ( 444, b'qux')]\n"
     ]
    }
   ],
   "source": [
    "pattern = \"(\\d+)\\s+(...)\"\n",
    "dt = [('num', 'int64'), ('key', 'S3')]\n",
    "\n",
    "from numpy import fromregex\n",
    "output = fromregex('test.dat', pattern, dt)\n",
    "print(output)"
   ]
  },
  {
   "cell_type": "markdown",
   "metadata": {},
   "source": [
    "显示 `num` 项："
   ]
  },
  {
   "cell_type": "code",
   "execution_count": 20,
   "metadata": {
    "ExecuteTime": {
     "end_time": "2019-10-04T15:14:13.231153Z",
     "start_time": "2019-10-04T15:14:13.228162Z"
    }
   },
   "outputs": [
    {
     "name": "stdout",
     "output_type": "stream",
     "text": [
      "[1312 1534  444]\n"
     ]
    }
   ],
   "source": [
    "print(output['num'])"
   ]
  },
  {
   "cell_type": "code",
   "execution_count": 21,
   "metadata": {
    "ExecuteTime": {
     "end_time": "2019-10-04T15:14:13.862470Z",
     "start_time": "2019-10-04T15:14:13.859438Z"
    }
   },
   "outputs": [],
   "source": [
    "import os\n",
    "os.remove('test.dat')"
   ]
  }
 ],
 "metadata": {
  "hide_input": false,
  "kernelspec": {
   "display_name": "Python 3",
   "language": "python",
   "name": "python3"
  },
  "language_info": {
   "codemirror_mode": {
    "name": "ipython",
    "version": 3
   },
   "file_extension": ".py",
   "mimetype": "text/x-python",
   "name": "python",
   "nbconvert_exporter": "python",
   "pygments_lexer": "ipython3",
   "version": "3.7.3"
  },
  "toc": {
   "base_numbering": 1,
   "nav_menu": {},
   "number_sections": true,
   "sideBar": true,
   "skip_h1_title": false,
   "title_cell": "Table of Contents",
   "title_sidebar": "Contents",
   "toc_cell": false,
   "toc_position": {},
   "toc_section_display": true,
   "toc_window_display": true
  },
  "varInspector": {
   "cols": {
    "lenName": 16,
    "lenType": 16,
    "lenVar": 40
   },
   "kernels_config": {
    "python": {
     "delete_cmd_postfix": "",
     "delete_cmd_prefix": "del ",
     "library": "var_list.py",
     "varRefreshCmd": "print(var_dic_list())"
    },
    "r": {
     "delete_cmd_postfix": ") ",
     "delete_cmd_prefix": "rm(",
     "library": "var_list.r",
     "varRefreshCmd": "cat(var_dic_list()) "
    }
   },
   "types_to_exclude": [
    "module",
    "function",
    "builtin_function_or_method",
    "instance",
    "_Feature"
   ],
   "window_display": false
  }
 },
 "nbformat": 4,
 "nbformat_minor": 1
}
